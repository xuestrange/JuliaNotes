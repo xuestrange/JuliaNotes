{
 "cells": [
  {
   "cell_type": "markdown",
   "id": "24790dc9",
   "metadata": {},
   "source": [
    "# 类型系统 "
   ]
  },
  {
   "cell_type": "markdown",
   "id": "4b8d0fbf",
   "metadata": {},
   "source": [
    "+ 与二进制存储结构相关联的成为元类型/原语类型： `primitive type`, 如`Int32`, `Int64`这种，在定义元类型时要声明**位数**， 且位数必须为8的倍数\n",
    "+ 类型名第一个字母大写，包括自定义的类型、结构体等"
   ]
  },
  {
   "cell_type": "markdown",
   "id": "4e2a0850",
   "metadata": {},
   "source": [
    "## 元类型"
   ]
  },
  {
   "cell_type": "code",
   "execution_count": 40,
   "id": "6730945b",
   "metadata": {},
   "outputs": [],
   "source": [
    "# 256位正数\n",
    "primitive type Int256 <: Integer 256 end"
   ]
  },
  {
   "cell_type": "code",
   "execution_count": 41,
   "id": "a6d9b9cb",
   "metadata": {},
   "outputs": [],
   "source": [
    "# 8位浮点数\n",
    "primitive type Float8 <: AbstractFloat 8 end"
   ]
  },
  {
   "cell_type": "markdown",
   "id": "439659c5",
   "metadata": {},
   "source": [
    "与抽象概念相关，被用来继承的类型为`Abstract Type`, 如`Real`, `Integer`, `AbstractFloat`"
   ]
  },
  {
   "cell_type": "markdown",
   "id": "1cdacfdd",
   "metadata": {},
   "source": [
    "## 抽象类型"
   ]
  },
  {
   "cell_type": "code",
   "execution_count": 42,
   "id": "5b70d1b3",
   "metadata": {},
   "outputs": [],
   "source": [
    "abstract type name end\n",
    "abstract type family_name <: name end"
   ]
  },
  {
   "cell_type": "code",
   "execution_count": 43,
   "id": "f5ee98ba",
   "metadata": {},
   "outputs": [
    {
     "data": {
      "text/plain": [
       "true"
      ]
     },
     "execution_count": 43,
     "metadata": {},
     "output_type": "execute_result"
    }
   ],
   "source": [
    "family_name <: name"
   ]
  },
  {
   "cell_type": "code",
   "execution_count": 44,
   "id": "e41ff430",
   "metadata": {},
   "outputs": [
    {
     "data": {
      "text/plain": [
       "name"
      ]
     },
     "execution_count": 44,
     "metadata": {},
     "output_type": "execute_result"
    }
   ],
   "source": [
    "supertype(family_name)"
   ]
  },
  {
   "cell_type": "code",
   "execution_count": 45,
   "id": "231bf556",
   "metadata": {},
   "outputs": [
    {
     "data": {
      "text/plain": [
       "1-element Vector{Any}:\n",
       " family_name"
      ]
     },
     "execution_count": 45,
     "metadata": {},
     "output_type": "execute_result"
    }
   ],
   "source": [
    "subtypes(name)"
   ]
  },
  {
   "cell_type": "code",
   "execution_count": 46,
   "id": "43963d7a",
   "metadata": {},
   "outputs": [
    {
     "data": {
      "text/plain": [
       "4-element Vector{Any}:\n",
       " Bool\n",
       " Int256\n",
       " Signed\n",
       " Unsigned"
      ]
     },
     "execution_count": 46,
     "metadata": {},
     "output_type": "execute_result"
    }
   ],
   "source": [
    "# 并不会递归查询\n",
    "subtypes(Integer)"
   ]
  },
  {
   "cell_type": "markdown",
   "id": "87c957e2",
   "metadata": {},
   "source": [
    "##  类型的类型"
   ]
  },
  {
   "cell_type": "code",
   "execution_count": 47,
   "id": "cc02605f",
   "metadata": {},
   "outputs": [
    {
     "data": {
      "text/plain": [
       "DataType"
      ]
     },
     "execution_count": 47,
     "metadata": {},
     "output_type": "execute_result"
    }
   ],
   "source": [
    "typeof(Int64)"
   ]
  },
  {
   "cell_type": "code",
   "execution_count": 48,
   "id": "51ec5fbb",
   "metadata": {},
   "outputs": [
    {
     "data": {
      "text/plain": [
       "DataType"
      ]
     },
     "execution_count": 48,
     "metadata": {},
     "output_type": "execute_result"
    }
   ],
   "source": [
    "typeof(DataType)"
   ]
  },
  {
   "cell_type": "markdown",
   "id": "3a709000",
   "metadata": {},
   "source": [
    "所有类型的类型是`DataType`，所有类型的父类型是`Any`, 所有类型的子类型都包含`Union`"
   ]
  },
  {
   "cell_type": "code",
   "execution_count": 49,
   "id": "f4569004",
   "metadata": {},
   "outputs": [
    {
     "data": {
      "text/plain": [
       "(true, true)"
      ]
     },
     "execution_count": 49,
     "metadata": {},
     "output_type": "execute_result"
    }
   ],
   "source": [
    "Real <: Any, typeof(Union) <: DataType"
   ]
  },
  {
   "cell_type": "code",
   "execution_count": 50,
   "id": "b87a0d07",
   "metadata": {},
   "outputs": [
    {
     "data": {
      "text/plain": [
       "(true, true)"
      ]
     },
     "execution_count": 50,
     "metadata": {},
     "output_type": "execute_result"
    }
   ],
   "source": [
    "# DataType和Any都是类型，Any是所有类型的父类型，而DataType是所有类型的类型\n",
    "DataType <: Any, typeof(Any) <: DataType"
   ]
  },
  {
   "cell_type": "code",
   "execution_count": 51,
   "id": "57be729a",
   "metadata": {},
   "outputs": [
    {
     "data": {
      "text/plain": [
       "Type{T}"
      ]
     },
     "execution_count": 51,
     "metadata": {},
     "output_type": "execute_result"
    }
   ],
   "source": [
    "supertype(Union)"
   ]
  },
  {
   "cell_type": "markdown",
   "id": "aac15466",
   "metadata": {},
   "source": [
    "`DataType`的父类型是参数化类型`Type{T}`"
   ]
  },
  {
   "cell_type": "code",
   "execution_count": 52,
   "id": "d2a71915",
   "metadata": {},
   "outputs": [
    {
     "data": {
      "text/plain": [
       "Type{T}"
      ]
     },
     "execution_count": 52,
     "metadata": {},
     "output_type": "execute_result"
    }
   ],
   "source": [
    "supertype(DataType)"
   ]
  },
  {
   "cell_type": "markdown",
   "id": "f15b0dee",
   "metadata": {},
   "source": [
    "`Type{T}`可以看作类型选择器"
   ]
  },
  {
   "cell_type": "code",
   "execution_count": 53,
   "id": "ef4dbec8",
   "metadata": {},
   "outputs": [
    {
     "data": {
      "text/plain": [
       "true"
      ]
     },
     "execution_count": 53,
     "metadata": {},
     "output_type": "execute_result"
    }
   ],
   "source": [
    "isa(Int64, Type{Int64})"
   ]
  },
  {
   "cell_type": "markdown",
   "id": "d971eefa-00f4-4ff6-a0de-80a0c98204cf",
   "metadata": {},
   "source": [
    "## 类型选择器Type Selector `::Type{T}`"
   ]
  },
  {
   "cell_type": "code",
   "execution_count": 54,
   "id": "d7c1d931-36cc-4533-bbe2-0b547c08e356",
   "metadata": {},
   "outputs": [
    {
     "data": {
      "text/plain": [
       "convert_type (generic function with 1 method)"
      ]
     },
     "execution_count": 54,
     "metadata": {},
     "output_type": "execute_result"
    }
   ],
   "source": [
    "# Type{T}的使用\n",
    "# 第一个参数为non-usable parameter, 意思是在函数体中无法使用（因为他没有名字），\n",
    "function convert_type(::Type{T}, x::Integer) where T <: AbstractFloat\n",
    "    return convert(T, x)\n",
    "end"
   ]
  },
  {
   "cell_type": "code",
   "execution_count": 55,
   "id": "8a5f4b3c-39bb-4469-aba3-2c5628744966",
   "metadata": {},
   "outputs": [
    {
     "data": {
      "text/plain": [
       "1.0"
      ]
     },
     "execution_count": 55,
     "metadata": {},
     "output_type": "execute_result"
    }
   ],
   "source": [
    "# 调用该函数，第一个参数为类型\n",
    "convert_type(Float64, 1)"
   ]
  },
  {
   "cell_type": "code",
   "execution_count": 56,
   "id": "a7264c8e-0995-4dd5-9972-d829f9cb1b89",
   "metadata": {},
   "outputs": [
    {
     "data": {
      "text/plain": [
       "f (generic function with 1 method)"
      ]
     },
     "execution_count": 56,
     "metadata": {},
     "output_type": "execute_result"
    }
   ],
   "source": [
    "# 区分一下：：T\n",
    "# 第一个参数也为non-usable parameter, 意思是在函数体中无法使用（因为他没有名字）\n",
    "f(::T, x) where T = convert(T, x)"
   ]
  },
  {
   "cell_type": "code",
   "execution_count": 57,
   "id": "cc8fcea4-49d9-45eb-9986-9ed0a1152789",
   "metadata": {},
   "outputs": [
    {
     "data": {
      "text/plain": [
       "2.0"
      ]
     },
     "execution_count": 57,
     "metadata": {},
     "output_type": "execute_result"
    }
   ],
   "source": [
    "# 第一个参数是值，该函数将第二个参数的类型转换为第一个参数的类型\n",
    "f(1.0, 2)"
   ]
  },
  {
   "cell_type": "markdown",
   "id": "7c097fcc",
   "metadata": {},
   "source": [
    "##  复合类型"
   ]
  },
  {
   "cell_type": "code",
   "execution_count": 58,
   "id": "86f83252-aa05-4a7e-b52b-81c6c50e3fc0",
   "metadata": {},
   "outputs": [],
   "source": [
    "abstract type Foo end"
   ]
  },
  {
   "cell_type": "code",
   "execution_count": 59,
   "id": "3ea4e65f",
   "metadata": {},
   "outputs": [],
   "source": [
    "struct FooA <: Foo\n",
    "    a::Any\n",
    "    b::Float64\n",
    "end"
   ]
  },
  {
   "cell_type": "code",
   "execution_count": 60,
   "id": "d2cc10fe",
   "metadata": {},
   "outputs": [
    {
     "name": "stdout",
     "output_type": "stream",
     "text": [
      "FooA <: Foo\n",
      "  a::Any\n",
      "  b::Float64\n"
     ]
    }
   ],
   "source": [
    "dump(FooA)"
   ]
  },
  {
   "cell_type": "code",
   "execution_count": 61,
   "id": "1d180577",
   "metadata": {},
   "outputs": [
    {
     "data": {
      "text/plain": [
       "(true, (:a, :b))"
      ]
     },
     "execution_count": 61,
     "metadata": {},
     "output_type": "execute_result"
    }
   ],
   "source": [
    "FooA <: Foo, fieldnames(FooA)"
   ]
  },
  {
   "cell_type": "markdown",
   "id": "9d72d5af",
   "metadata": {},
   "source": [
    "如何实例化一个结构体？"
   ]
  },
  {
   "cell_type": "markdown",
   "id": "dd8a8f41",
   "metadata": {},
   "source": [
    "+ 按照struct中类型指定，手动指定每一个field的类型\n",
    "+ 不指定每一个field的类型，julia会自动进行convert到struct的类型指定（不建议）\n",
    "\n",
    "> 一个struct实例化后，如果更改某一个field的值，他会自动将该值convert到struct的类型指定。\n",
    "\n",
    "任何一个struct在定义时对field进行了类型声明，那么任何一个实例化的struct的field的值都是该field的类型"
   ]
  },
  {
   "cell_type": "code",
   "execution_count": 62,
   "id": "19ee20d3",
   "metadata": {},
   "outputs": [
    {
     "data": {
      "text/plain": [
       "FooA(\"xue\", 23.0)"
      ]
     },
     "execution_count": 62,
     "metadata": {},
     "output_type": "execute_result"
    }
   ],
   "source": [
    "fooa = FooA(\"xue\", 23)"
   ]
  },
  {
   "cell_type": "code",
   "execution_count": 63,
   "id": "472ee539-08db-4f2c-99ba-8caa54c3afe3",
   "metadata": {},
   "outputs": [
    {
     "name": "stdout",
     "output_type": "stream",
     "text": [
      "FooA\n",
      "  a: String \"xue\"\n",
      "  b: Float64 23.0\n"
     ]
    }
   ],
   "source": [
    "dump(fooa)"
   ]
  },
  {
   "cell_type": "markdown",
   "id": "1b437283-bfba-4b21-a87b-5a72707a426a",
   "metadata": {},
   "source": [
    "## Callable Struct(闭包、closure)"
   ]
  },
  {
   "cell_type": "markdown",
   "id": "5a6e2c20-b4cb-4d2f-adef-35b3afe58907",
   "metadata": {},
   "source": [
    "函数内定义函数(好像也是闭包)， Julia很难进行优化\n",
    "```Julia\n",
    "funtion f1()\n",
    "    function f2()\n",
    "    end\n",
    "end\n",
    "```"
   ]
  },
  {
   "cell_type": "code",
   "execution_count": 64,
   "id": "d74b0e8c-a09c-4928-bcfa-1fbd8777ced7",
   "metadata": {},
   "outputs": [],
   "source": [
    "struct abb\n",
    "    a::Int64\n",
    "    b::Float64\n",
    "end"
   ]
  },
  {
   "cell_type": "code",
   "execution_count": 65,
   "id": "57a5e703-dc78-4a67-ab86-ca8308683f85",
   "metadata": {},
   "outputs": [],
   "source": [
    "# 目的是利用构建的struct创建一个新函数\n",
    "function (f::abb)(c)\n",
    "    return f.a + f.b + c\n",
    "end"
   ]
  },
  {
   "cell_type": "code",
   "execution_count": 66,
   "id": "a8e544fb-d177-44ad-a492-725363226d7c",
   "metadata": {},
   "outputs": [
    {
     "data": {
      "text/plain": [
       "abb(1, 2.0)"
      ]
     },
     "execution_count": 66,
     "metadata": {},
     "output_type": "execute_result"
    }
   ],
   "source": [
    "abb_f = abb(1, 2)"
   ]
  },
  {
   "cell_type": "code",
   "execution_count": 67,
   "id": "04ed2b80-e773-4ae4-ac56-b18ee62da8f0",
   "metadata": {},
   "outputs": [
    {
     "data": {
      "text/html": [
       "# 1 method for callable object:<ul><li> (f::<b>abb</b>)(c) in Main at In[65]:2</li> </ul>"
      ],
      "text/plain": [
       "# 1 method for callable object:\n",
       " [1] (f::abb)(\u001b[90mc\u001b[39m)\n",
       "\u001b[90m     @\u001b[39m \u001b[90m\u001b[4mIn[65]:2\u001b[24m\u001b[39m"
      ]
     },
     "execution_count": 67,
     "metadata": {},
     "output_type": "execute_result"
    }
   ],
   "source": [
    "methods(abb_f)"
   ]
  },
  {
   "cell_type": "code",
   "execution_count": 68,
   "id": "c5c2f6e7-2389-44e9-b4dc-a6740889d3ad",
   "metadata": {},
   "outputs": [
    {
     "data": {
      "text/plain": [
       "4.0"
      ]
     },
     "execution_count": 68,
     "metadata": {},
     "output_type": "execute_result"
    }
   ],
   "source": [
    "abb_f(1)"
   ]
  },
  {
   "cell_type": "markdown",
   "id": "3fe05a47",
   "metadata": {},
   "source": [
    "## 参数化类型"
   ]
  },
  {
   "cell_type": "markdown",
   "id": "5e1ad4d0",
   "metadata": {},
   "source": [
    "### 参数化复合类型"
   ]
  },
  {
   "cell_type": "code",
   "execution_count": 69,
   "id": "aec431fe-1c51-4763-a86e-8bea38915ce6",
   "metadata": {},
   "outputs": [],
   "source": [
    "mutable struct Point1D{T <: Real}\n",
    "    x::T\n",
    "end"
   ]
  },
  {
   "cell_type": "code",
   "execution_count": 70,
   "id": "caecc03d-4f2d-41aa-9cb9-79085e327717",
   "metadata": {},
   "outputs": [
    {
     "data": {
      "text/plain": [
       "true"
      ]
     },
     "execution_count": 70,
     "metadata": {},
     "output_type": "execute_result"
    }
   ],
   "source": [
    "# Poin1D可以被看作一种简写\n",
    "Point1D{<:Real} == Point1D"
   ]
  },
  {
   "cell_type": "code",
   "execution_count": 71,
   "id": "c39bdf91",
   "metadata": {},
   "outputs": [
    {
     "data": {
      "text/plain": [
       "false"
      ]
     },
     "execution_count": 71,
     "metadata": {},
     "output_type": "execute_result"
    }
   ],
   "source": [
    "# 即使参数存在继承关系, 参数化符合类型也不存在继承关系\n",
    "# 专业术语叫作“抗变”\n",
    "# 抗变只发生在container类型中，标量没有这个特性\n",
    "Point1D{Int64} <: Point1D{Integer}"
   ]
  },
  {
   "cell_type": "markdown",
   "id": "12a8833f-3a4f-446c-a749-a95a9202cf7c",
   "metadata": {},
   "source": [
    "Julia自带的数据类型像是`Dict`，`Vector`，`Matrix`也可以看成结构体一样的东西（container），因此也遵循抗变的特征"
   ]
  },
  {
   "cell_type": "markdown",
   "id": "c922434c-3644-418f-bd7e-da9099a8c80b",
   "metadata": {},
   "source": [
    "在Julia定义函数时（详见[函数参数类型标注](https://docs.julialang.org/en/v1/manual/functions/#Argument-type-declarations)），使用`：：`对参数进行类型声明\n",
    "+ 如`f(x::Real) = x + 1`，那么`x`只要是`Real`的任意子类型，该函数都能被调用。\n",
    "+ 如果参数是以container的形式出现，务必要注意抗变的特性。\n",
    "    + 例如函数`f(x::AbstractVector{Real})`，输入只要是AbstractVector的子类型就可以，但是这个container内的元素类型必须也是Real， 因为`AbstractVector{Float64}`并不是`AbstractVector{Real}`的子类型。最好的办法是声明`x::AbstractVector{<:Real}`或者`f(x::AbstractVector{T}) where {T <: Real}`\n",
    "    + 如果是更加复杂的嵌套container，更要注意抗变的特性，尤其是和参数类型结合在一起的时候。例如`f(x::Dict{Int, Vector{<:Real}})`，当输入`Dict(1 => [1, 2.0], 2 => [1, 3.0])`时找不到函数去执行，原因在于抗变的特性，虽然container内的元素是子类型，但是container不是子类型"
   ]
  },
  {
   "cell_type": "code",
   "execution_count": 151,
   "id": "f9a085c5-1a1b-44b7-a7c5-dc4da092907a",
   "metadata": {},
   "outputs": [
    {
     "data": {
      "text/plain": [
       "f1 (generic function with 3 methods)"
      ]
     },
     "execution_count": 151,
     "metadata": {},
     "output_type": "execute_result"
    }
   ],
   "source": [
    "function f1(x::Dict{Int, <:AbstractVector{<:Real}})\n",
    "    rst = 0.0\n",
    "    for (k, v) in x\n",
    "        rst += sum(v)\n",
    "    end\n",
    "    return rst\n",
    "end"
   ]
  },
  {
   "cell_type": "code",
   "execution_count": 153,
   "id": "425ffacf-d4e4-4c98-bd2a-b201907696b5",
   "metadata": {},
   "outputs": [
    {
     "data": {
      "text/html": [
       "f1(x::<b>Dict{Int64, <:AbstractVector{<:Real}}</b>) in Main at In[151]:1"
      ],
      "text/plain": [
       "f1(\u001b[90mx\u001b[39m::\u001b[1mDict\u001b[22m\u001b[0m{Int64, <:AbstractVector{<:Real}})\n",
       "\u001b[90m     @\u001b[39m \u001b[90mMain\u001b[39m \u001b[90m\u001b[4mIn[151]:1\u001b[24m\u001b[39m"
      ]
     },
     "execution_count": 153,
     "metadata": {},
     "output_type": "execute_result"
    }
   ],
   "source": [
    "@which f1(Dict(1 => [1, 2.0], 2 => [1, 3.0]))"
   ]
  },
  {
   "cell_type": "code",
   "execution_count": 154,
   "id": "18730294-c03f-465f-9b3a-09f56f742808",
   "metadata": {},
   "outputs": [
    {
     "data": {
      "text/plain": [
       "f2 (generic function with 1 method)"
      ]
     },
     "execution_count": 154,
     "metadata": {},
     "output_type": "execute_result"
    }
   ],
   "source": [
    "function f2(x::Dict{Int, <:Vector{<:Real}})\n",
    "    rst = 0.0\n",
    "    for (k, v) in x\n",
    "        rst += sum(v)\n",
    "    end\n",
    "    return rst\n",
    "end"
   ]
  },
  {
   "cell_type": "code",
   "execution_count": 155,
   "id": "54a6b0c7-98dc-485f-b3aa-1ce8b2dcef5d",
   "metadata": {},
   "outputs": [
    {
     "data": {
      "text/html": [
       "f2(x::<b>Dict{Int64, <:Vector{<:Real}}</b>) in Main at In[154]:1"
      ],
      "text/plain": [
       "f2(\u001b[90mx\u001b[39m::\u001b[1mDict\u001b[22m\u001b[0m{Int64, <:Vector{<:Real}})\n",
       "\u001b[90m     @\u001b[39m \u001b[90mMain\u001b[39m \u001b[90m\u001b[4mIn[154]:1\u001b[24m\u001b[39m"
      ]
     },
     "execution_count": 155,
     "metadata": {},
     "output_type": "execute_result"
    }
   ],
   "source": [
    "@which f2(Dict(1 => [1, 2.0], 2 => [1, 3.0]))"
   ]
  },
  {
   "cell_type": "code",
   "execution_count": 156,
   "id": "eee2c7bd-8c0b-4df0-b7f0-41dbf489774b",
   "metadata": {},
   "outputs": [
    {
     "data": {
      "text/plain": [
       "true"
      ]
     },
     "execution_count": 156,
     "metadata": {},
     "output_type": "execute_result"
    }
   ],
   "source": [
    "typeof(Dict(1 => [1, 2.0], 2 => [1, 3.0])) <: Dict{Int64, <:Vector{<:Real}}"
   ]
  },
  {
   "cell_type": "code",
   "execution_count": 162,
   "id": "ef6d172d-3718-4ad9-8098-5ddd28fb65c0",
   "metadata": {},
   "outputs": [
    {
     "data": {
      "text/plain": [
       "true"
      ]
     },
     "execution_count": 162,
     "metadata": {},
     "output_type": "execute_result"
    }
   ],
   "source": [
    "Dict{Int64, <:Vector{<:Real}} <: Dict{Int, <:AbstractVector{<:Real}}"
   ]
  },
  {
   "cell_type": "code",
   "execution_count": 166,
   "id": "e6800c08-341e-4d90-8b5a-364c77867193",
   "metadata": {},
   "outputs": [
    {
     "data": {
      "text/plain": [
       "true"
      ]
     },
     "execution_count": 166,
     "metadata": {},
     "output_type": "execute_result"
    }
   ],
   "source": [
    "isa(Dict(1 => [1, 2.0], 2 => [1, 3.0]), Dict{Int64, <:Vector{<:Real}})"
   ]
  },
  {
   "cell_type": "code",
   "execution_count": 167,
   "id": "18fcf7b8-eeb9-4b8e-a401-519d15c97ece",
   "metadata": {},
   "outputs": [
    {
     "data": {
      "text/plain": [
       "true"
      ]
     },
     "execution_count": 167,
     "metadata": {},
     "output_type": "execute_result"
    }
   ],
   "source": [
    "isa(Dict(1 => [1, 2.0], 2 => [1, 3.0]), Dict{Int64, <:AbstractVector{<:Real}})"
   ]
  },
  {
   "cell_type": "code",
   "execution_count": 168,
   "id": "e0107e5a-35bf-4476-85a5-f5f224994ac2",
   "metadata": {},
   "outputs": [
    {
     "data": {
      "text/plain": [
       "true"
      ]
     },
     "execution_count": 168,
     "metadata": {},
     "output_type": "execute_result"
    }
   ],
   "source": [
    "isa(Dict(1 => 1.0:2.0, 2 => [1, 3.0]), Dict{Int64, <:AbstractVector{<:Real}})"
   ]
  },
  {
   "cell_type": "code",
   "execution_count": 172,
   "id": "c1744849-93b9-4e1b-82de-e81f5c38b2ea",
   "metadata": {},
   "outputs": [
    {
     "name": "stdout",
     "output_type": "stream",
     "text": [
      "MethodInstance for Dict(::Pair{Int64, StepRangeLen{Float64, Base.TwicePrecision{Float64}, Base.TwicePrecision{Float64}, Int64}}, ::Pair{Int64, StepRangeLen{Float64, Base.TwicePrecision{Float64}, Base.TwicePrecision{Float64}, Int64}})\n",
      "  from Dict(\u001b[90mps\u001b[39m::\u001b[1mPair\u001b[22m\u001b[0m{K, V}\u001b[1m...\u001b[22m) where {K, V}\u001b[90m @\u001b[39m \u001b[90mBase\u001b[39m \u001b[90m\u001b[4mdict.jl:114\u001b[24m\u001b[39m\n",
      "Static Parameters\n",
      "  K = \u001b[36mInt64\u001b[39m\n",
      "  V = \u001b[36mStepRangeLen{Float64, Base.TwicePrecision{Float64}, Base.TwicePrecision{Float64}, Int64}\u001b[39m\n",
      "Arguments\n",
      "  #self#\u001b[36m::Type{Dict}\u001b[39m\n",
      "  ps\u001b[36m::Tuple{Pair{Int64, StepRangeLen{Float64, Base.TwicePrecision{Float64}, Base.TwicePrecision{Float64}, Int64}}, Pair{Int64, StepRangeLen{Float64, Base.TwicePrecision{Float64}, Base.TwicePrecision{Float64}, Int64}}}\u001b[39m\n",
      "Body\u001b[36m::Dict{Int64, StepRangeLen{Float64, Base.TwicePrecision{Float64}, Base.TwicePrecision{Float64}, Int64}}\u001b[39m\n",
      "\u001b[90m1 ─\u001b[39m %1 = $(Expr(:static_parameter, 1))\u001b[36m::Core.Const(Int64)\u001b[39m\n",
      "\u001b[90m│  \u001b[39m %2 = $(Expr(:static_parameter, 2))\u001b[36m::Core.Const(StepRangeLen{Float64, Base.TwicePrecision{Float64}, Base.TwicePrecision{Float64}, Int64})\u001b[39m\n",
      "\u001b[90m│  \u001b[39m %3 = Core.apply_type(Base.Dict, %1, %2)\u001b[36m::Core.Const(Dict{Int64, StepRangeLen{Float64, Base.TwicePrecision{Float64}, Base.TwicePrecision{Float64}, Int64}})\u001b[39m\n",
      "\u001b[90m│  \u001b[39m %4 = (%3)(ps)\u001b[36m::Dict{Int64, StepRangeLen{Float64, Base.TwicePrecision{Float64}, Base.TwicePrecision{Float64}, Int64}}\u001b[39m\n",
      "\u001b[90m└──\u001b[39m      return %4\n",
      "\n"
     ]
    }
   ],
   "source": [
    "@code_warntype Dict(1 => 1.0:2.0, 2 => 1.0:3.0)"
   ]
  },
  {
   "cell_type": "markdown",
   "id": "4c6b5202",
   "metadata": {},
   "source": [
    "### 参数化元类型"
   ]
  },
  {
   "cell_type": "code",
   "execution_count": 78,
   "id": "42b8ac16",
   "metadata": {},
   "outputs": [],
   "source": [
    "primitive type ptr{T} 64 end"
   ]
  },
  {
   "cell_type": "markdown",
   "id": "4b99c99d",
   "metadata": {},
   "source": [
    "### 参数化基本原理（跳过）"
   ]
  },
  {
   "cell_type": "markdown",
   "id": "df5101e5",
   "metadata": {},
   "source": [
    "从这一块到最后有点麻烦，先跳过"
   ]
  },
  {
   "cell_type": "markdown",
   "id": "2914ec9a",
   "metadata": {},
   "source": [
    "### 参数化继承(跳过）"
   ]
  },
  {
   "cell_type": "markdown",
   "id": "f0186bac",
   "metadata": {},
   "source": [
    "## 常用数据类型"
   ]
  },
  {
   "cell_type": "markdown",
   "id": "1688f746",
   "metadata": {},
   "source": [
    "### 元组"
   ]
  },
  {
   "cell_type": "code",
   "execution_count": 79,
   "id": "cba71334",
   "metadata": {},
   "outputs": [
    {
     "data": {
      "text/plain": [
       "(1.0, 2.0, 3.0, 4.0)"
      ]
     },
     "execution_count": 79,
     "metadata": {},
     "output_type": "execute_result"
    }
   ],
   "source": [
    "tp1 = (1.0, 2.0, 3.0, 4.0)"
   ]
  },
  {
   "cell_type": "code",
   "execution_count": 80,
   "id": "93f74d44",
   "metadata": {},
   "outputs": [
    {
     "data": {
      "text/plain": [
       "NTuple{4, Float64}"
      ]
     },
     "execution_count": 80,
     "metadata": {},
     "output_type": "execute_result"
    }
   ],
   "source": [
    "typeof(tp1)"
   ]
  },
  {
   "cell_type": "code",
   "execution_count": 135,
   "id": "9d9e79f9",
   "metadata": {},
   "outputs": [],
   "source": [
    "# NTuple不是一个复合类型\n",
    "# tp3 = NTuple{3, Float64}(1.0, 2.0, 3.0)"
   ]
  },
  {
   "cell_type": "code",
   "execution_count": 136,
   "id": "1c689842",
   "metadata": {},
   "outputs": [
    {
     "data": {
      "text/plain": [
       "1.0"
      ]
     },
     "execution_count": 136,
     "metadata": {},
     "output_type": "execute_result"
    }
   ],
   "source": [
    "tp1[1]"
   ]
  },
  {
   "cell_type": "code",
   "execution_count": 137,
   "id": "87c6c21f",
   "metadata": {},
   "outputs": [
    {
     "data": {
      "text/plain": [
       "(1, 2, 3, 4, 5, 6, 7)"
      ]
     },
     "execution_count": 137,
     "metadata": {},
     "output_type": "execute_result"
    }
   ],
   "source": [
    "tp2 = (1, 2, (3, 4, 5)..., 6, 7)"
   ]
  },
  {
   "cell_type": "code",
   "execution_count": 138,
   "id": "4307a66e",
   "metadata": {},
   "outputs": [
    {
     "data": {
      "text/plain": [
       "(1, \"a\", \"china\")"
      ]
     },
     "execution_count": 138,
     "metadata": {},
     "output_type": "execute_result"
    }
   ],
   "source": [
    "tp3 = (1, \"a\", \"china\")"
   ]
  },
  {
   "cell_type": "markdown",
   "id": "a9363ad8",
   "metadata": {},
   "source": [
    "### 命名元组🚀🚀🚀"
   ]
  },
  {
   "cell_type": "code",
   "execution_count": 139,
   "id": "bbfb815e",
   "metadata": {},
   "outputs": [
    {
     "data": {
      "text/plain": [
       "(a = 1, b = 2, c = 3)"
      ]
     },
     "execution_count": 139,
     "metadata": {},
     "output_type": "execute_result"
    }
   ],
   "source": [
    "ntp1 = (a = 1, b = 2, c = 3)"
   ]
  },
  {
   "cell_type": "code",
   "execution_count": 140,
   "id": "0b3ada3f-e0d1-4970-9935-43e108fb5ba1",
   "metadata": {},
   "outputs": [
    {
     "data": {
      "text/plain": [
       "(a = 1, b = 2, c = 3)"
      ]
     },
     "execution_count": 140,
     "metadata": {},
     "output_type": "execute_result"
    }
   ],
   "source": [
    "a = 1\n",
    "b = 2\n",
    "c = 3\n",
    "(; a, b, c)"
   ]
  },
  {
   "cell_type": "code",
   "execution_count": 141,
   "id": "92e11a36-3959-4919-ba26-b9c7b298a545",
   "metadata": {},
   "outputs": [
    {
     "data": {
      "text/plain": [
       "(a = 1, b = 8, c = 27)"
      ]
     },
     "execution_count": 141,
     "metadata": {},
     "output_type": "execute_result"
    }
   ],
   "source": [
    "NamedTuple{(:a, :b, :c)}(ntuple(i -> i ^ 3, Val(3)))"
   ]
  },
  {
   "cell_type": "code",
   "execution_count": 142,
   "id": "e510baf8-730a-4de8-9cdd-a5e6e658a980",
   "metadata": {},
   "outputs": [
    {
     "data": {
      "text/plain": [
       "(1, 4, 9)"
      ]
     },
     "execution_count": 142,
     "metadata": {},
     "output_type": "execute_result"
    }
   ],
   "source": [
    "ntuple(Val(3)) do i \n",
    "    i ^ 2\n",
    "end"
   ]
  },
  {
   "cell_type": "code",
   "execution_count": 143,
   "id": "976f1cbd",
   "metadata": {},
   "outputs": [
    {
     "data": {
      "text/plain": [
       "@NamedTuple{a::Int64, b::Int64, c::Int64}"
      ]
     },
     "execution_count": 143,
     "metadata": {},
     "output_type": "execute_result"
    }
   ],
   "source": [
    "typeof(ntp1)"
   ]
  },
  {
   "cell_type": "code",
   "execution_count": 144,
   "id": "29aad904",
   "metadata": {},
   "outputs": [
    {
     "data": {
      "text/plain": [
       "true"
      ]
     },
     "execution_count": 144,
     "metadata": {},
     "output_type": "execute_result"
    }
   ],
   "source": [
    "# 四种索引的方式\n",
    "ntp1.a == ntp1[1] == getfield(ntp1, :a) == getindex(ntp1, :a)"
   ]
  },
  {
   "cell_type": "code",
   "execution_count": 145,
   "id": "7816fe24",
   "metadata": {},
   "outputs": [
    {
     "data": {
      "text/plain": [
       "(a = 1, b = 2, c = 3.0)"
      ]
     },
     "execution_count": 145,
     "metadata": {},
     "output_type": "execute_result"
    }
   ],
   "source": [
    "# 说明命名元组是一个参数化复合类型\n",
    "ntp2 = NamedTuple{(:a, :b, :c),Tuple{Int64,Int64,Float64}}((1, 2, 3.0))"
   ]
  },
  {
   "cell_type": "code",
   "execution_count": 146,
   "id": "3ae8c81c-ec07-4080-9b1f-146c8155a18e",
   "metadata": {},
   "outputs": [
    {
     "name": "stdout",
     "output_type": "stream",
     "text": [
      "1\n",
      "2\n",
      "3\n"
     ]
    }
   ],
   "source": [
    "# iter over a ntuple, show its value by default\n",
    "for i in ntp1\n",
    "    println(i)\n",
    "end"
   ]
  },
  {
   "cell_type": "code",
   "execution_count": 93,
   "id": "f736a1ab-1b04-48fe-907b-66486620c87f",
   "metadata": {},
   "outputs": [
    {
     "name": "stdout",
     "output_type": "stream",
     "text": [
      "a => 1\n",
      "b => 2\n",
      "c => 3\n"
     ]
    }
   ],
   "source": [
    "# to iter through each key and value, use pairs\n",
    "for (i, j) in pairs(ntp1)\n",
    "    println(i, \" => \", j)\n",
    "end"
   ]
  },
  {
   "cell_type": "markdown",
   "id": "c16efbfa",
   "metadata": {},
   "source": [
    "### 键值对"
   ]
  },
  {
   "cell_type": "code",
   "execution_count": 94,
   "id": "a9610ef1",
   "metadata": {},
   "outputs": [
    {
     "name": "stdout",
     "output_type": "stream",
     "text": [
      "UnionAll\n",
      "  var: TypeVar\n",
      "    name: Symbol A\n",
      "    lb: Union{}\n",
      "    ub: Any\n",
      "  body: UnionAll\n",
      "    var: TypeVar\n",
      "      name: Symbol B\n",
      "      lb: Union{}\n",
      "      ub: Any\n",
      "    body: Pair{A, B} <: Any\n",
      "      first::A\n",
      "      second::B\n"
     ]
    }
   ],
   "source": [
    "dump(Pair) # 先只关注body部分吧，其它的部分先别管"
   ]
  },
  {
   "cell_type": "code",
   "execution_count": 95,
   "id": "f8eedd11",
   "metadata": {},
   "outputs": [
    {
     "data": {
      "text/plain": [
       "(:first, :second)"
      ]
     },
     "execution_count": 95,
     "metadata": {},
     "output_type": "execute_result"
    }
   ],
   "source": [
    "fieldnames(Pair)"
   ]
  },
  {
   "cell_type": "code",
   "execution_count": 96,
   "id": "ca082102",
   "metadata": {},
   "outputs": [
    {
     "data": {
      "text/plain": [
       "1 => 3.2"
      ]
     },
     "execution_count": 96,
     "metadata": {},
     "output_type": "execute_result"
    }
   ],
   "source": [
    "p1 = Pair(1, 3.2)"
   ]
  },
  {
   "cell_type": "code",
   "execution_count": 97,
   "id": "2f377bde",
   "metadata": {},
   "outputs": [
    {
     "data": {
      "text/plain": [
       "Pair{Int64, Float64}"
      ]
     },
     "execution_count": 97,
     "metadata": {},
     "output_type": "execute_result"
    }
   ],
   "source": [
    "typeof(p1)"
   ]
  },
  {
   "cell_type": "code",
   "execution_count": 98,
   "id": "049447a7",
   "metadata": {},
   "outputs": [
    {
     "data": {
      "text/plain": [
       "2 => \"3\""
      ]
     },
     "execution_count": 98,
     "metadata": {},
     "output_type": "execute_result"
    }
   ],
   "source": [
    "p2 = 2 => \"3\""
   ]
  },
  {
   "cell_type": "code",
   "execution_count": 99,
   "id": "5b52add9",
   "metadata": {},
   "outputs": [
    {
     "data": {
      "text/plain": [
       "1"
      ]
     },
     "execution_count": 99,
     "metadata": {},
     "output_type": "execute_result"
    }
   ],
   "source": [
    "p1.first"
   ]
  },
  {
   "cell_type": "code",
   "execution_count": 100,
   "id": "1ed8aff8",
   "metadata": {},
   "outputs": [
    {
     "data": {
      "text/plain": [
       "\"3\""
      ]
     },
     "execution_count": 100,
     "metadata": {},
     "output_type": "execute_result"
    }
   ],
   "source": [
    "p2.second"
   ]
  },
  {
   "cell_type": "code",
   "execution_count": 101,
   "id": "67f7296b",
   "metadata": {},
   "outputs": [
    {
     "data": {
      "text/plain": [
       "(1, 3.2)"
      ]
     },
     "execution_count": 101,
     "metadata": {},
     "output_type": "execute_result"
    }
   ],
   "source": [
    "# Pair to Turple\n",
    "Tuple(p1)"
   ]
  },
  {
   "cell_type": "markdown",
   "id": "26ae0550",
   "metadata": {},
   "source": [
    "### 字典"
   ]
  },
  {
   "cell_type": "code",
   "execution_count": 102,
   "id": "032ae025",
   "metadata": {},
   "outputs": [
    {
     "data": {
      "text/plain": [
       "Dict{Int64, Float64} with 2 entries:\n",
       "  2 => 2.2\n",
       "  1 => 1.1"
      ]
     },
     "execution_count": 102,
     "metadata": {},
     "output_type": "execute_result"
    }
   ],
   "source": [
    "d1 = Dict(1 => 1.1, 2 => 2.2)"
   ]
  },
  {
   "cell_type": "code",
   "execution_count": 103,
   "id": "171e817f",
   "metadata": {},
   "outputs": [
    {
     "data": {
      "text/plain": [
       "Dict{String, Int64} with 2 entries:\n",
       "  \"b\" => 4\n",
       "  \"a\" => 3"
      ]
     },
     "execution_count": 103,
     "metadata": {},
     "output_type": "execute_result"
    }
   ],
   "source": [
    "d2 = Dict{String,Int64}(\"a\" => 3, \"b\" => 4.0)"
   ]
  },
  {
   "cell_type": "code",
   "execution_count": 104,
   "id": "42f8bf78",
   "metadata": {},
   "outputs": [
    {
     "data": {
      "text/plain": [
       "Dict{Int64, Int64} with 10 entries:\n",
       "  5  => 25\n",
       "  4  => 16\n",
       "  6  => 36\n",
       "  7  => 49\n",
       "  2  => 4\n",
       "  10 => 100\n",
       "  9  => 81\n",
       "  8  => 64\n",
       "  3  => 9\n",
       "  1  => 1"
      ]
     },
     "execution_count": 104,
     "metadata": {},
     "output_type": "execute_result"
    }
   ],
   "source": [
    "# 字典推导式\n",
    "d3 = Dict(i => i^2 for i ∈ 1:10)"
   ]
  },
  {
   "cell_type": "code",
   "execution_count": 105,
   "id": "d6f2ae50",
   "metadata": {},
   "outputs": [
    {
     "data": {
      "text/plain": [
       "(a = 1, b = 2, c = 3.0)"
      ]
     },
     "execution_count": 105,
     "metadata": {},
     "output_type": "execute_result"
    }
   ],
   "source": [
    "ntp2"
   ]
  },
  {
   "cell_type": "code",
   "execution_count": 106,
   "id": "662e5d9d",
   "metadata": {},
   "outputs": [
    {
     "data": {
      "text/plain": [
       "pairs(::NamedTuple) with 3 entries:\n",
       "  :a => 1\n",
       "  :b => 2\n",
       "  :c => 3.0"
      ]
     },
     "execution_count": 106,
     "metadata": {},
     "output_type": "execute_result"
    }
   ],
   "source": [
    "pairs(ntp2)"
   ]
  },
  {
   "cell_type": "code",
   "execution_count": 107,
   "id": "344cd1e0",
   "metadata": {},
   "outputs": [
    {
     "data": {
      "text/plain": [
       "Dict{Symbol, Real} with 3 entries:\n",
       "  :a => 1\n",
       "  :b => 2\n",
       "  :c => 3.0"
      ]
     },
     "execution_count": 107,
     "metadata": {},
     "output_type": "execute_result"
    }
   ],
   "source": [
    "# NamedTuple to Dict\n",
    "d4 = Dict(pairs(ntp2))"
   ]
  },
  {
   "cell_type": "code",
   "execution_count": 108,
   "id": "c21f9b09",
   "metadata": {},
   "outputs": [
    {
     "data": {
      "text/plain": [
       "2"
      ]
     },
     "execution_count": 108,
     "metadata": {},
     "output_type": "execute_result"
    }
   ],
   "source": [
    "d4[:b]"
   ]
  },
  {
   "cell_type": "code",
   "execution_count": 109,
   "id": "1166d724",
   "metadata": {},
   "outputs": [
    {
     "data": {
      "text/plain": [
       "Dict{Symbol, Real} with 2 entries:\n",
       "  :b => 2\n",
       "  :c => 3.0"
      ]
     },
     "execution_count": 109,
     "metadata": {},
     "output_type": "execute_result"
    }
   ],
   "source": [
    "delete!(d4, :a)"
   ]
  },
  {
   "cell_type": "code",
   "execution_count": 110,
   "id": "ba02b9e2",
   "metadata": {},
   "outputs": [
    {
     "data": {
      "text/plain": [
       "2"
      ]
     },
     "execution_count": 110,
     "metadata": {},
     "output_type": "execute_result"
    }
   ],
   "source": [
    "pop!(d4, :b)"
   ]
  },
  {
   "cell_type": "code",
   "execution_count": 111,
   "id": "8a27ec31",
   "metadata": {},
   "outputs": [
    {
     "data": {
      "text/plain": [
       "Dict{Symbol, Real} with 1 entry:\n",
       "  :c => 3.0"
      ]
     },
     "execution_count": 111,
     "metadata": {},
     "output_type": "execute_result"
    }
   ],
   "source": [
    "d4"
   ]
  },
  {
   "cell_type": "code",
   "execution_count": 112,
   "id": "37b598b5",
   "metadata": {},
   "outputs": [
    {
     "data": {
      "text/plain": [
       "1"
      ]
     },
     "execution_count": 112,
     "metadata": {},
     "output_type": "execute_result"
    }
   ],
   "source": [
    "d4.count"
   ]
  },
  {
   "cell_type": "code",
   "execution_count": 113,
   "id": "ad522be5",
   "metadata": {},
   "outputs": [
    {
     "data": {
      "text/plain": [
       "KeySet for a Dict{String, Int64} with 2 entries. Keys:\n",
       "  \"b\"\n",
       "  \"a\""
      ]
     },
     "execution_count": 113,
     "metadata": {},
     "output_type": "execute_result"
    }
   ],
   "source": [
    "keys(d2)"
   ]
  },
  {
   "cell_type": "code",
   "execution_count": 114,
   "id": "be6afed5",
   "metadata": {},
   "outputs": [
    {
     "name": "stdout",
     "output_type": "stream",
     "text": [
      "b \t4\n",
      "a \t3\n"
     ]
    }
   ],
   "source": [
    "for key in keys(d2)\n",
    "    println(\"$key \\t\", d2[key])\n",
    "end"
   ]
  },
  {
   "cell_type": "code",
   "execution_count": 115,
   "id": "e17c925f",
   "metadata": {},
   "outputs": [
    {
     "data": {
      "text/plain": [
       "ValueIterator for a Dict{String, Int64} with 2 entries. Values:\n",
       "  4\n",
       "  3"
      ]
     },
     "execution_count": 115,
     "metadata": {},
     "output_type": "execute_result"
    }
   ],
   "source": [
    "values(d2)"
   ]
  },
  {
   "cell_type": "code",
   "execution_count": 116,
   "id": "874eb434",
   "metadata": {},
   "outputs": [
    {
     "data": {
      "text/plain": [
       "2-element Vector{Int64}:\n",
       " 4\n",
       " 3"
      ]
     },
     "execution_count": 116,
     "metadata": {},
     "output_type": "execute_result"
    }
   ],
   "source": [
    "# collect iterator\n",
    "collect(values(d2))"
   ]
  },
  {
   "cell_type": "code",
   "execution_count": 117,
   "id": "e283adb6",
   "metadata": {},
   "outputs": [
    {
     "data": {
      "text/plain": [
       "Set{Int64} with 5 elements:\n",
       "  5\n",
       "  4\n",
       "  2\n",
       "  3\n",
       "  1"
      ]
     },
     "execution_count": 117,
     "metadata": {},
     "output_type": "execute_result"
    }
   ],
   "source": [
    "# Set(可迭代数据结构)\n",
    "a = Set(1:5)"
   ]
  },
  {
   "cell_type": "code",
   "execution_count": 118,
   "id": "ed2b45be",
   "metadata": {},
   "outputs": [
    {
     "data": {
      "text/plain": [
       "Set{Int64} with 3 elements:\n",
       "  2\n",
       "  3\n",
       "  1"
      ]
     },
     "execution_count": 118,
     "metadata": {},
     "output_type": "execute_result"
    }
   ],
   "source": [
    "b = Set([1, 2, 3])"
   ]
  },
  {
   "cell_type": "code",
   "execution_count": 119,
   "id": "27bdb2d1",
   "metadata": {},
   "outputs": [
    {
     "data": {
      "text/plain": [
       "Set{Any} with 3 elements:\n",
       "  2\n",
       "  \"a\"\n",
       "  1"
      ]
     },
     "execution_count": 119,
     "metadata": {},
     "output_type": "execute_result"
    }
   ],
   "source": [
    "b = Set((\"a\", 1, 2))"
   ]
  },
  {
   "cell_type": "code",
   "execution_count": 120,
   "id": "7b3683b6",
   "metadata": {},
   "outputs": [
    {
     "data": {
      "text/plain": [
       "true"
      ]
     },
     "execution_count": 120,
     "metadata": {},
     "output_type": "execute_result"
    }
   ],
   "source": [
    "1 in b"
   ]
  },
  {
   "cell_type": "code",
   "execution_count": 121,
   "id": "0115183e",
   "metadata": {},
   "outputs": [
    {
     "data": {
      "text/plain": [
       "false"
      ]
     },
     "execution_count": 121,
     "metadata": {},
     "output_type": "execute_result"
    }
   ],
   "source": [
    "isempty(a)"
   ]
  },
  {
   "cell_type": "code",
   "execution_count": 122,
   "id": "0e096806",
   "metadata": {},
   "outputs": [
    {
     "data": {
      "text/plain": [
       "Set{Int64}()"
      ]
     },
     "execution_count": 122,
     "metadata": {},
     "output_type": "execute_result"
    }
   ],
   "source": [
    "empty!(a)"
   ]
  },
  {
   "cell_type": "markdown",
   "id": "00e7cfe9",
   "metadata": {},
   "source": [
    "### 缺失值missing "
   ]
  },
  {
   "cell_type": "code",
   "execution_count": 123,
   "id": "2db2d43e",
   "metadata": {},
   "outputs": [],
   "source": [
    "# NaN是一个数并不代表缺失值"
   ]
  },
  {
   "cell_type": "code",
   "execution_count": 124,
   "id": "3398d763",
   "metadata": {},
   "outputs": [
    {
     "data": {
      "text/plain": [
       "missing"
      ]
     },
     "execution_count": 124,
     "metadata": {},
     "output_type": "execute_result"
    }
   ],
   "source": [
    "missing + 1"
   ]
  },
  {
   "cell_type": "code",
   "execution_count": 125,
   "id": "92500d9f",
   "metadata": {},
   "outputs": [
    {
     "data": {
      "text/plain": [
       "false"
      ]
     },
     "execution_count": 125,
     "metadata": {},
     "output_type": "execute_result"
    }
   ],
   "source": [
    "ismissing([1, 2, 3, missing])"
   ]
  },
  {
   "cell_type": "code",
   "execution_count": 126,
   "id": "56ec4388",
   "metadata": {},
   "outputs": [
    {
     "data": {
      "text/plain": [
       "4-element BitVector:\n",
       " 0\n",
       " 0\n",
       " 0\n",
       " 1"
      ]
     },
     "execution_count": 126,
     "metadata": {},
     "output_type": "execute_result"
    }
   ],
   "source": [
    "ismissing.([1, 2, 3, missing])"
   ]
  },
  {
   "cell_type": "code",
   "execution_count": 127,
   "id": "3aeb3428",
   "metadata": {},
   "outputs": [
    {
     "data": {
      "text/plain": [
       "false"
      ]
     },
     "execution_count": 127,
     "metadata": {},
     "output_type": "execute_result"
    }
   ],
   "source": [
    "isless(missing, Inf)"
   ]
  },
  {
   "cell_type": "markdown",
   "id": "81c66819",
   "metadata": {},
   "source": [
    "### nothing不需要在内存中表达"
   ]
  },
  {
   "cell_type": "markdown",
   "id": "1341fff4",
   "metadata": {},
   "source": [
    "## 其它数据类型"
   ]
  },
  {
   "cell_type": "markdown",
   "id": "8e112bd9",
   "metadata": {},
   "source": [
    "Julia有一个`DataStructures.jl`， 这个包内置了很多Julia本身没有的数据结构"
   ]
  },
  {
   "cell_type": "markdown",
   "id": "59279132",
   "metadata": {},
   "source": [
    "### `OrderedDict`"
   ]
  },
  {
   "cell_type": "code",
   "execution_count": 128,
   "id": "89517148",
   "metadata": {},
   "outputs": [],
   "source": [
    "using DataStructures"
   ]
  },
  {
   "cell_type": "code",
   "execution_count": 129,
   "id": "e8fd80f6",
   "metadata": {},
   "outputs": [
    {
     "data": {
      "text/plain": [
       "OrderedDict{Char, Int64} with 3 entries:\n",
       "  'a' => 1\n",
       "  'b' => 2\n",
       "  'c' => 3"
      ]
     },
     "execution_count": 129,
     "metadata": {},
     "output_type": "execute_result"
    }
   ],
   "source": [
    "# 有序字典\n",
    "d1 = OrderedDict('a' => 1, 'b' => 2, 'c' => 3)"
   ]
  },
  {
   "cell_type": "code",
   "execution_count": 130,
   "id": "cecee3ee",
   "metadata": {},
   "outputs": [
    {
     "data": {
      "text/plain": [
       "Dict{Char, Int64} with 3 entries:\n",
       "  'a' => 1\n",
       "  'c' => 3\n",
       "  'b' => 2"
      ]
     },
     "execution_count": 130,
     "metadata": {},
     "output_type": "execute_result"
    }
   ],
   "source": [
    "# 无序字典（Julia内置）\n",
    "d2 = Dict('a' => 1, 'b' => 2, 'c' => 3)"
   ]
  },
  {
   "cell_type": "code",
   "execution_count": 131,
   "id": "c16984ed",
   "metadata": {},
   "outputs": [
    {
     "name": "stdout",
     "output_type": "stream",
     "text": [
      "search: \u001b[0m\u001b[1mm\u001b[22m\u001b[0m\u001b[1me\u001b[22m\u001b[0m\u001b[1mt\u001b[22m\u001b[0m\u001b[1mh\u001b[22m\u001b[0m\u001b[1mo\u001b[22m\u001b[0m\u001b[1md\u001b[22m\u001b[0m\u001b[1ms\u001b[22m\u001b[0m\u001b[1mw\u001b[22m\u001b[0m\u001b[1mi\u001b[22m\u001b[0m\u001b[1mt\u001b[22m\u001b[0m\u001b[1mh\u001b[22m endswith \u001b[0m\u001b[1mm\u001b[22m\u001b[0m\u001b[1me\u001b[22m\u001b[0m\u001b[1mt\u001b[22m\u001b[0m\u001b[1mh\u001b[22m\u001b[0m\u001b[1mo\u001b[22m\u001b[0m\u001b[1md\u001b[22m\u001b[0m\u001b[1ms\u001b[22m \u001b[0m\u001b[1mm\u001b[22m\u001b[0m\u001b[1me\u001b[22mrgewi\u001b[0m\u001b[1mt\u001b[22m\u001b[0m\u001b[1mh\u001b[22m startswith\n",
      "\n"
     ]
    },
    {
     "data": {
      "text/latex": [
       "\\begin{verbatim}\n",
       "methodswith(typ[, module or function]; supertypes::Bool=false])\n",
       "\\end{verbatim}\n",
       "Return an array of methods with an argument of type \\texttt{typ}.\n",
       "\n",
       "The optional second argument restricts the search to a particular module or function (the default is all top-level modules).\n",
       "\n",
       "If keyword \\texttt{supertypes} is \\texttt{true}, also return arguments with a parent type of \\texttt{typ}, excluding type \\texttt{Any}.\n",
       "\n",
       "See also: \\href{@ref}{\\texttt{methods}}.\n",
       "\n"
      ],
      "text/markdown": [
       "```\n",
       "methodswith(typ[, module or function]; supertypes::Bool=false])\n",
       "```\n",
       "\n",
       "Return an array of methods with an argument of type `typ`.\n",
       "\n",
       "The optional second argument restricts the search to a particular module or function (the default is all top-level modules).\n",
       "\n",
       "If keyword `supertypes` is `true`, also return arguments with a parent type of `typ`, excluding type `Any`.\n",
       "\n",
       "See also: [`methods`](@ref).\n"
      ],
      "text/plain": [
       "\u001b[36m  methodswith(typ[, module or function]; supertypes::Bool=false])\u001b[39m\n",
       "\n",
       "  Return an array of methods with an argument of type \u001b[36mtyp\u001b[39m.\n",
       "\n",
       "  The optional second argument restricts the search to a particular module or\n",
       "  function (the default is all top-level modules).\n",
       "\n",
       "  If keyword \u001b[36msupertypes\u001b[39m is \u001b[36mtrue\u001b[39m, also return arguments with a parent type of\n",
       "  \u001b[36mtyp\u001b[39m, excluding type \u001b[36mAny\u001b[39m.\n",
       "\n",
       "  See also: \u001b[36mmethods\u001b[39m."
      ]
     },
     "execution_count": 131,
     "metadata": {},
     "output_type": "execute_result"
    }
   ],
   "source": [
    "?methodswith"
   ]
  },
  {
   "cell_type": "markdown",
   "id": "6e1c5afd",
   "metadata": {},
   "source": [
    "`methodswith`函数可以查看所有以某个数据结构为参数的所有函数， 例如`methodswith(OrderedDict)`可以查看所有适用于`OrderedDict`的函数， 可以看出包的作者给`OrderedDict`适配了很多的方法"
   ]
  },
  {
   "cell_type": "code",
   "execution_count": 132,
   "id": "52a7d149",
   "metadata": {},
   "outputs": [
    {
     "data": {
      "text/html": [
       "28-element Vector{Method}:<ul><li> copy(d::<b>OrderedDict</b>) in OrderedCollections at <a href=\"file:///Users/xue/.julia/packages/OrderedCollections/Xihhq/src/ordered_dict.jl\" target=\"_blank\">/Users/xue/.julia/packages/OrderedCollections/Xihhq/src/ordered_dict.jl:55</a><li> delete!(h::<b>OrderedDict</b>, key) in OrderedCollections at <a href=\"file:///Users/xue/.julia/packages/OrderedCollections/Xihhq/src/ordered_dict.jl\" target=\"_blank\">/Users/xue/.julia/packages/OrderedCollections/Xihhq/src/ordered_dict.jl:448</a><li> empty(d::<b>OrderedDict</b>, ::<b>Type{K}</b>, ::<b>Type{V}</b>)<i> where {K, V}</i> in OrderedCollections at <a href=\"file:///Users/xue/.julia/packages/OrderedCollections/Xihhq/src/ordered_dict.jl\" target=\"_blank\">/Users/xue/.julia/packages/OrderedCollections/Xihhq/src/ordered_dict.jl:89</a><li> empty(d::<b>OrderedDict{K, V}</b>)<i> where {K, V}</i> in OrderedCollections at <a href=\"file:///Users/xue/.julia/packages/OrderedCollections/Xihhq/src/ordered_dict.jl\" target=\"_blank\">/Users/xue/.julia/packages/OrderedCollections/Xihhq/src/ordered_dict.jl:88</a><li> empty!(h::<b>OrderedDict{K, V}</b>)<i> where {K, V}</i> in OrderedCollections at <a href=\"file:///Users/xue/.julia/packages/OrderedCollections/Xihhq/src/ordered_dict.jl\" target=\"_blank\">/Users/xue/.julia/packages/OrderedCollections/Xihhq/src/ordered_dict.jl:229</a><li> get(h::<b>OrderedDict{K, V}</b>, key, default)<i> where {K, V}</i> in OrderedCollections at <a href=\"file:///Users/xue/.julia/packages/OrderedCollections/Xihhq/src/ordered_dict.jl\" target=\"_blank\">/Users/xue/.julia/packages/OrderedCollections/Xihhq/src/ordered_dict.jl:390</a><li> get(default::<b>Union{Function, Type}</b>, h::<b>OrderedDict{K, V}</b>, key)<i> where {K, V}</i> in OrderedCollections at <a href=\"file:///Users/xue/.julia/packages/OrderedCollections/Xihhq/src/ordered_dict.jl\" target=\"_blank\">/Users/xue/.julia/packages/OrderedCollections/Xihhq/src/ordered_dict.jl:395</a><li> get!(h::<b>OrderedDict{K, V}</b>, key0, default)<i> where {K, V}</i> in OrderedCollections at <a href=\"file:///Users/xue/.julia/packages/OrderedCollections/Xihhq/src/ordered_dict.jl\" target=\"_blank\">/Users/xue/.julia/packages/OrderedCollections/Xihhq/src/ordered_dict.jl:346</a><li> get!(default::<b>Union{Function, Type}</b>, h::<b>OrderedDict{K, V}</b>, key0)<i> where {K, V}</i> in OrderedCollections at <a href=\"file:///Users/xue/.julia/packages/OrderedCollections/Xihhq/src/ordered_dict.jl\" target=\"_blank\">/Users/xue/.julia/packages/OrderedCollections/Xihhq/src/ordered_dict.jl:361</a><li> getindex(h::<b>OrderedDict{K, V}</b>, key)<i> where {K, V}</i> in OrderedCollections at <a href=\"file:///Users/xue/.julia/packages/OrderedCollections/Xihhq/src/ordered_dict.jl\" target=\"_blank\">/Users/xue/.julia/packages/OrderedCollections/Xihhq/src/ordered_dict.jl:385</a><li> getkey(h::<b>OrderedDict{K, V}</b>, key, default)<i> where {K, V}</i> in OrderedCollections at <a href=\"file:///Users/xue/.julia/packages/OrderedCollections/Xihhq/src/ordered_dict.jl\" target=\"_blank\">/Users/xue/.julia/packages/OrderedCollections/Xihhq/src/ordered_dict.jl:403</a><li> haskey(h::<b>OrderedDict</b>, key) in OrderedCollections at <a href=\"file:///Users/xue/.julia/packages/OrderedCollections/Xihhq/src/ordered_dict.jl\" target=\"_blank\">/Users/xue/.julia/packages/OrderedCollections/Xihhq/src/ordered_dict.jl:400</a><li> isempty(d::<b>OrderedDict</b>) in OrderedCollections at <a href=\"file:///Users/xue/.julia/packages/OrderedCollections/Xihhq/src/ordered_dict.jl\" target=\"_blank\">/Users/xue/.julia/packages/OrderedCollections/Xihhq/src/ordered_dict.jl:92</a><li> iterate(t::<b>OrderedDict</b>) in OrderedCollections at <a href=\"file:///Users/xue/.julia/packages/OrderedCollections/Xihhq/src/ordered_dict.jl\" target=\"_blank\">/Users/xue/.julia/packages/OrderedCollections/Xihhq/src/ordered_dict.jl:454</a><li> iterate(t::<b>OrderedDict</b>, i) in OrderedCollections at <a href=\"file:///Users/xue/.julia/packages/OrderedCollections/Xihhq/src/ordered_dict.jl\" target=\"_blank\">/Users/xue/.julia/packages/OrderedCollections/Xihhq/src/ordered_dict.jl:459</a><li> last(h::<b>OrderedDict</b>) in OrderedCollections at <a href=\"file:///Users/xue/.julia/packages/OrderedCollections/Xihhq/src/ordered_dict.jl\" target=\"_blank\">/Users/xue/.julia/packages/OrderedCollections/Xihhq/src/ordered_dict.jl:515</a><li> length(d::<b>OrderedDict</b>) in OrderedCollections at <a href=\"file:///Users/xue/.julia/packages/OrderedCollections/Xihhq/src/ordered_dict.jl\" target=\"_blank\">/Users/xue/.julia/packages/OrderedCollections/Xihhq/src/ordered_dict.jl:91</a><li> merge(d::<b>OrderedDict</b>, others::<b>AbstractDict...</b>) in OrderedCollections at <a href=\"file:///Users/xue/.julia/packages/OrderedCollections/Xihhq/src/ordered_dict.jl\" target=\"_blank\">/Users/xue/.julia/packages/OrderedCollections/Xihhq/src/ordered_dict.jl:488</a><li> merge(combine::<b>Function</b>, d::<b>OrderedDict</b>, others::<b>AbstractDict...</b>) in OrderedCollections at <a href=\"file:///Users/xue/.julia/packages/OrderedCollections/Xihhq/src/ordered_dict.jl\" target=\"_blank\">/Users/xue/.julia/packages/OrderedCollections/Xihhq/src/ordered_dict.jl:498</a><li> mergewith(combine, d::<b>OrderedDict</b>, others::<b>AbstractDict...</b>) in OrderedCollections at <a href=\"file:///Users/xue/.julia/packages/OrderedCollections/Xihhq/src/ordered_dict.jl\" target=\"_blank\">/Users/xue/.julia/packages/OrderedCollections/Xihhq/src/ordered_dict.jl:493</a><li> pop!(h::<b>OrderedDict</b>) in OrderedCollections at <a href=\"file:///Users/xue/.julia/packages/OrderedCollections/Xihhq/src/ordered_dict.jl\" target=\"_blank\">/Users/xue/.julia/packages/OrderedCollections/Xihhq/src/ordered_dict.jl:414</a><li> pop!(h::<b>OrderedDict</b>, key) in OrderedCollections at <a href=\"file:///Users/xue/.julia/packages/OrderedCollections/Xihhq/src/ordered_dict.jl\" target=\"_blank\">/Users/xue/.julia/packages/OrderedCollections/Xihhq/src/ordered_dict.jl:428</a><li> pop!(h::<b>OrderedDict</b>, key, default) in OrderedCollections at <a href=\"file:///Users/xue/.julia/packages/OrderedCollections/Xihhq/src/ordered_dict.jl\" target=\"_blank\">/Users/xue/.julia/packages/OrderedCollections/Xihhq/src/ordered_dict.jl:433</a><li> popfirst!(h::<b>OrderedDict</b>) in OrderedCollections at <a href=\"file:///Users/xue/.julia/packages/OrderedCollections/Xihhq/src/ordered_dict.jl\" target=\"_blank\">/Users/xue/.julia/packages/OrderedCollections/Xihhq/src/ordered_dict.jl:421</a><li> setindex!(h::<b>OrderedDict{K, V}</b>, v0, key0)<i> where {K, V}</i> in OrderedCollections at <a href=\"file:///Users/xue/.julia/packages/OrderedCollections/Xihhq/src/ordered_dict.jl\" target=\"_blank\">/Users/xue/.julia/packages/OrderedCollections/Xihhq/src/ordered_dict.jl:327</a><li> similar(d::<b>OrderedDict</b>) in OrderedCollections at <a href=\"file:///Users/xue/.julia/juliaup/julia-1.11.6+0.aarch64.apple.darwin14/share/julia/base/deprecated.jl\" target=\"_blank\">deprecated.jl:103</a><li> sizehint!(d::<b>OrderedDict</b>, newsz) in OrderedCollections at <a href=\"file:///Users/xue/.julia/packages/OrderedCollections/Xihhq/src/ordered_dict.jl\" target=\"_blank\">/Users/xue/.julia/packages/OrderedCollections/Xihhq/src/ordered_dict.jl:215</a><li> sort!(d::<b>OrderedDict</b>; <i>byvalue, args...</i>) in OrderedCollections at <a href=\"file:///Users/xue/.julia/packages/OrderedCollections/Xihhq/src/dict_sorting.jl\" target=\"_blank\">/Users/xue/.julia/packages/OrderedCollections/Xihhq/src/dict_sorting.jl:4</a></ul>"
      ],
      "text/plain": [
       "[1] copy(\u001b[90md\u001b[39m::\u001b[1mOrderedDict\u001b[22m)\u001b[90m @\u001b[39m \u001b[90mOrderedCollections\u001b[39m \u001b[90m~/.julia/packages/OrderedCollections/Xihhq/src/\u001b[39m\u001b[90m\u001b[4mordered_dict.jl:55\u001b[24m\u001b[39m\n",
       "[2] delete!(\u001b[90mh\u001b[39m::\u001b[1mOrderedDict\u001b[22m, \u001b[90mkey\u001b[39m)\u001b[90m @\u001b[39m \u001b[90mOrderedCollections\u001b[39m \u001b[90m~/.julia/packages/OrderedCollections/Xihhq/src/\u001b[39m\u001b[90m\u001b[4mordered_dict.jl:448\u001b[24m\u001b[39m\n",
       "[3] empty(\u001b[90md\u001b[39m::\u001b[1mOrderedDict\u001b[22m, ::\u001b[1mType\u001b[22m\u001b[0m{K}, ::\u001b[1mType\u001b[22m\u001b[0m{V}) where {K, V}\u001b[90m @\u001b[39m \u001b[90mOrderedCollections\u001b[39m \u001b[90m~/.julia/packages/OrderedCollections/Xihhq/src/\u001b[39m\u001b[90m\u001b[4mordered_dict.jl:89\u001b[24m\u001b[39m\n",
       "[4] empty(\u001b[90md\u001b[39m::\u001b[1mOrderedDict\u001b[22m\u001b[0m{K, V}) where {K, V}\u001b[90m @\u001b[39m \u001b[90mOrderedCollections\u001b[39m \u001b[90m~/.julia/packages/OrderedCollections/Xihhq/src/\u001b[39m\u001b[90m\u001b[4mordered_dict.jl:88\u001b[24m\u001b[39m\n",
       "[5] empty!(\u001b[90mh\u001b[39m::\u001b[1mOrderedDict\u001b[22m\u001b[0m{K, V}) where {K, V}\u001b[90m @\u001b[39m \u001b[90mOrderedCollections\u001b[39m \u001b[90m~/.julia/packages/OrderedCollections/Xihhq/src/\u001b[39m\u001b[90m\u001b[4mordered_dict.jl:229\u001b[24m\u001b[39m\n",
       "[6] get(\u001b[90mh\u001b[39m::\u001b[1mOrderedDict\u001b[22m\u001b[0m{K, V}, \u001b[90mkey\u001b[39m, \u001b[90mdefault\u001b[39m) where {K, V}\u001b[90m @\u001b[39m \u001b[90mOrderedCollections\u001b[39m \u001b[90m~/.julia/packages/OrderedCollections/Xihhq/src/\u001b[39m\u001b[90m\u001b[4mordered_dict.jl:390\u001b[24m\u001b[39m\n",
       "[7] get(\u001b[90mdefault\u001b[39m::\u001b[1mUnion\u001b[22m\u001b[0m{Function, Type}, \u001b[90mh\u001b[39m::\u001b[1mOrderedDict\u001b[22m\u001b[0m{K, V}, \u001b[90mkey\u001b[39m) where {K, V}\u001b[90m @\u001b[39m \u001b[90mOrderedCollections\u001b[39m \u001b[90m~/.julia/packages/OrderedCollections/Xihhq/src/\u001b[39m\u001b[90m\u001b[4mordered_dict.jl:395\u001b[24m\u001b[39m\n",
       "[8] get!(\u001b[90mh\u001b[39m::\u001b[1mOrderedDict\u001b[22m\u001b[0m{K, V}, \u001b[90mkey0\u001b[39m, \u001b[90mdefault\u001b[39m) where {K, V}\u001b[90m @\u001b[39m \u001b[90mOrderedCollections\u001b[39m \u001b[90m~/.julia/packages/OrderedCollections/Xihhq/src/\u001b[39m\u001b[90m\u001b[4mordered_dict.jl:346\u001b[24m\u001b[39m\n",
       "[9] get!(\u001b[90mdefault\u001b[39m::\u001b[1mUnion\u001b[22m\u001b[0m{Function, Type}, \u001b[90mh\u001b[39m::\u001b[1mOrderedDict\u001b[22m\u001b[0m{K, V}, \u001b[90mkey0\u001b[39m) where {K, V}\u001b[90m @\u001b[39m \u001b[90mOrderedCollections\u001b[39m \u001b[90m~/.julia/packages/OrderedCollections/Xihhq/src/\u001b[39m\u001b[90m\u001b[4mordered_dict.jl:361\u001b[24m\u001b[39m\n",
       "[10] getindex(\u001b[90mh\u001b[39m::\u001b[1mOrderedDict\u001b[22m\u001b[0m{K, V}, \u001b[90mkey\u001b[39m) where {K, V}\u001b[90m @\u001b[39m \u001b[90mOrderedCollections\u001b[39m \u001b[90m~/.julia/packages/OrderedCollections/Xihhq/src/\u001b[39m\u001b[90m\u001b[4mordered_dict.jl:385\u001b[24m\u001b[39m\n",
       "[11] getkey(\u001b[90mh\u001b[39m::\u001b[1mOrderedDict\u001b[22m\u001b[0m{K, V}, \u001b[90mkey\u001b[39m, \u001b[90mdefault\u001b[39m) where {K, V}\u001b[90m @\u001b[39m \u001b[90mOrderedCollections\u001b[39m \u001b[90m~/.julia/packages/OrderedCollections/Xihhq/src/\u001b[39m\u001b[90m\u001b[4mordered_dict.jl:403\u001b[24m\u001b[39m\n",
       "[12] haskey(\u001b[90mh\u001b[39m::\u001b[1mOrderedDict\u001b[22m, \u001b[90mkey\u001b[39m)\u001b[90m @\u001b[39m \u001b[90mOrderedCollections\u001b[39m \u001b[90m~/.julia/packages/OrderedCollections/Xihhq/src/\u001b[39m\u001b[90m\u001b[4mordered_dict.jl:400\u001b[24m\u001b[39m\n",
       "[13] isempty(\u001b[90md\u001b[39m::\u001b[1mOrderedDict\u001b[22m)\u001b[90m @\u001b[39m \u001b[90mOrderedCollections\u001b[39m \u001b[90m~/.julia/packages/OrderedCollections/Xihhq/src/\u001b[39m\u001b[90m\u001b[4mordered_dict.jl:92\u001b[24m\u001b[39m\n",
       "[14] iterate(\u001b[90mt\u001b[39m::\u001b[1mOrderedDict\u001b[22m)\u001b[90m @\u001b[39m \u001b[90mOrderedCollections\u001b[39m \u001b[90m~/.julia/packages/OrderedCollections/Xihhq/src/\u001b[39m\u001b[90m\u001b[4mordered_dict.jl:454\u001b[24m\u001b[39m\n",
       "[15] iterate(\u001b[90mt\u001b[39m::\u001b[1mOrderedDict\u001b[22m, \u001b[90mi\u001b[39m)\u001b[90m @\u001b[39m \u001b[90mOrderedCollections\u001b[39m \u001b[90m~/.julia/packages/OrderedCollections/Xihhq/src/\u001b[39m\u001b[90m\u001b[4mordered_dict.jl:459\u001b[24m\u001b[39m\n",
       "[16] last(\u001b[90mh\u001b[39m::\u001b[1mOrderedDict\u001b[22m)\u001b[90m @\u001b[39m \u001b[90mOrderedCollections\u001b[39m \u001b[90m~/.julia/packages/OrderedCollections/Xihhq/src/\u001b[39m\u001b[90m\u001b[4mordered_dict.jl:515\u001b[24m\u001b[39m\n",
       "[17] length(\u001b[90md\u001b[39m::\u001b[1mOrderedDict\u001b[22m)\u001b[90m @\u001b[39m \u001b[90mOrderedCollections\u001b[39m \u001b[90m~/.julia/packages/OrderedCollections/Xihhq/src/\u001b[39m\u001b[90m\u001b[4mordered_dict.jl:91\u001b[24m\u001b[39m\n",
       "[18] merge(\u001b[90md\u001b[39m::\u001b[1mOrderedDict\u001b[22m, \u001b[90mothers\u001b[39m::\u001b[1mAbstractDict...\u001b[22m)\u001b[90m @\u001b[39m \u001b[90mOrderedCollections\u001b[39m \u001b[90m~/.julia/packages/OrderedCollections/Xihhq/src/\u001b[39m\u001b[90m\u001b[4mordered_dict.jl:488\u001b[24m\u001b[39m\n",
       "[19] merge(\u001b[90mcombine\u001b[39m::\u001b[1mFunction\u001b[22m, \u001b[90md\u001b[39m::\u001b[1mOrderedDict\u001b[22m, \u001b[90mothers\u001b[39m::\u001b[1mAbstractDict...\u001b[22m)\u001b[90m @\u001b[39m \u001b[90mOrderedCollections\u001b[39m \u001b[90m~/.julia/packages/OrderedCollections/Xihhq/src/\u001b[39m\u001b[90m\u001b[4mordered_dict.jl:498\u001b[24m\u001b[39m\n",
       "[20] mergewith(\u001b[90mcombine\u001b[39m, \u001b[90md\u001b[39m::\u001b[1mOrderedDict\u001b[22m, \u001b[90mothers\u001b[39m::\u001b[1mAbstractDict...\u001b[22m)\u001b[90m @\u001b[39m \u001b[90mOrderedCollections\u001b[39m \u001b[90m~/.julia/packages/OrderedCollections/Xihhq/src/\u001b[39m\u001b[90m\u001b[4mordered_dict.jl:493\u001b[24m\u001b[39m\n",
       "[21] pop!(\u001b[90mh\u001b[39m::\u001b[1mOrderedDict\u001b[22m)\u001b[90m @\u001b[39m \u001b[90mOrderedCollections\u001b[39m \u001b[90m~/.julia/packages/OrderedCollections/Xihhq/src/\u001b[39m\u001b[90m\u001b[4mordered_dict.jl:414\u001b[24m\u001b[39m\n",
       "[22] pop!(\u001b[90mh\u001b[39m::\u001b[1mOrderedDict\u001b[22m, \u001b[90mkey\u001b[39m)\u001b[90m @\u001b[39m \u001b[90mOrderedCollections\u001b[39m \u001b[90m~/.julia/packages/OrderedCollections/Xihhq/src/\u001b[39m\u001b[90m\u001b[4mordered_dict.jl:428\u001b[24m\u001b[39m\n",
       "[23] pop!(\u001b[90mh\u001b[39m::\u001b[1mOrderedDict\u001b[22m, \u001b[90mkey\u001b[39m, \u001b[90mdefault\u001b[39m)\u001b[90m @\u001b[39m \u001b[90mOrderedCollections\u001b[39m \u001b[90m~/.julia/packages/OrderedCollections/Xihhq/src/\u001b[39m\u001b[90m\u001b[4mordered_dict.jl:433\u001b[24m\u001b[39m\n",
       "[24] popfirst!(\u001b[90mh\u001b[39m::\u001b[1mOrderedDict\u001b[22m)\u001b[90m @\u001b[39m \u001b[90mOrderedCollections\u001b[39m \u001b[90m~/.julia/packages/OrderedCollections/Xihhq/src/\u001b[39m\u001b[90m\u001b[4mordered_dict.jl:421\u001b[24m\u001b[39m\n",
       "[25] setindex!(\u001b[90mh\u001b[39m::\u001b[1mOrderedDict\u001b[22m\u001b[0m{K, V}, \u001b[90mv0\u001b[39m, \u001b[90mkey0\u001b[39m) where {K, V}\u001b[90m @\u001b[39m \u001b[90mOrderedCollections\u001b[39m \u001b[90m~/.julia/packages/OrderedCollections/Xihhq/src/\u001b[39m\u001b[90m\u001b[4mordered_dict.jl:327\u001b[24m\u001b[39m\n",
       "[26] similar(\u001b[90md\u001b[39m::\u001b[1mOrderedDict\u001b[22m)\u001b[90m @\u001b[39m \u001b[90mOrderedCollections\u001b[39m \u001b[90m\u001b[4mdeprecated.jl:103\u001b[24m\u001b[39m\n",
       "[27] sizehint!(\u001b[90md\u001b[39m::\u001b[1mOrderedDict\u001b[22m, \u001b[90mnewsz\u001b[39m)\u001b[90m @\u001b[39m \u001b[90mOrderedCollections\u001b[39m \u001b[90m~/.julia/packages/OrderedCollections/Xihhq/src/\u001b[39m\u001b[90m\u001b[4mordered_dict.jl:215\u001b[24m\u001b[39m\n",
       "[28] sort!(\u001b[90md\u001b[39m::\u001b[1mOrderedDict\u001b[22m; byvalue, args...)\u001b[90m @\u001b[39m \u001b[90mOrderedCollections\u001b[39m \u001b[90m~/.julia/packages/OrderedCollections/Xihhq/src/\u001b[39m\u001b[90m\u001b[4mdict_sorting.jl:4\u001b[24m\u001b[39m"
      ]
     },
     "execution_count": 132,
     "metadata": {},
     "output_type": "execute_result"
    }
   ],
   "source": [
    "methodswith(OrderedDict)"
   ]
  },
  {
   "cell_type": "code",
   "execution_count": 133,
   "id": "9f387203",
   "metadata": {},
   "outputs": [
    {
     "data": {
      "text/plain": [
       "zip(1:5, 'a':1:'e')"
      ]
     },
     "execution_count": 133,
     "metadata": {},
     "output_type": "execute_result"
    }
   ],
   "source": [
    "zipit = zip(1:5, 'a':'e')"
   ]
  },
  {
   "cell_type": "code",
   "execution_count": 134,
   "id": "43c4ad10",
   "metadata": {},
   "outputs": [
    {
     "data": {
      "text/plain": [
       "OrderedDict{Int64, Char} with 5 entries:\n",
       "  1 => 'a'\n",
       "  2 => 'b'\n",
       "  3 => 'c'\n",
       "  4 => 'd'\n",
       "  5 => 'e'"
      ]
     },
     "execution_count": 134,
     "metadata": {},
     "output_type": "execute_result"
    }
   ],
   "source": [
    "OrderedDict(zipit)"
   ]
  }
 ],
 "metadata": {
  "kernelspec": {
   "display_name": "Julia 1.11.6",
   "language": "julia",
   "name": "julia-1.11"
  },
  "language_info": {
   "file_extension": ".jl",
   "mimetype": "application/julia",
   "name": "julia",
   "version": "1.11.6"
  },
  "latex_envs": {
   "LaTeX_envs_menu_present": true,
   "autoclose": false,
   "autocomplete": true,
   "bibliofile": "biblio.bib",
   "cite_by": "apalike",
   "current_citInitial": 1,
   "eqLabelWithNumbers": true,
   "eqNumInitial": 1,
   "hotkeys": {
    "equation": "Ctrl-E",
    "itemize": "Ctrl-I"
   },
   "labels_anchors": false,
   "latex_user_defs": false,
   "report_style_numbering": false,
   "user_envs_cfg": false
  },
  "toc": {
   "base_numbering": 1,
   "nav_menu": {},
   "number_sections": true,
   "sideBar": true,
   "skip_h1_title": false,
   "title_cell": "Table of Contents",
   "title_sidebar": "Contents",
   "toc_cell": false,
   "toc_position": {
    "height": "calc(100% - 180px)",
    "left": "10px",
    "top": "150px",
    "width": "392.146px"
   },
   "toc_section_display": true,
   "toc_window_display": true
  }
 },
 "nbformat": 4,
 "nbformat_minor": 5
}
