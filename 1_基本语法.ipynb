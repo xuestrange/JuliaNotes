{
 "cells": [
  {
   "cell_type": "markdown",
   "id": "91a66f8f",
   "metadata": {
    "pycharm": {
     "name": "#%% md\n"
    }
   },
   "source": [
    "# REPL\n",
    "\n",
    "1. `REPL`全称是`read-eval-print-loop`\n",
    "2. 赋值语句后边加`;`可以不打印结果\n",
    "3. `ans`打印上一个结果\n",
    "4. 四种切换模式\n",
    "    + `]`进入pkg包管理模式(包名区分大小写):\n",
    "            - `update`: 更新所有包\n",
    "            - `add package`: 安装包\n",
    "            - `add githubg_url`: 安装github上的包，更新时也会一并更新\n",
    "    + `?` 进入`help`模式\n",
    "    + `;` 进入`shell`模式\n",
    "    + `BackSpace`进入julia模式\n",
    "5. `pwd()` print working directory"
   ]
  },
  {
   "cell_type": "markdown",
   "id": "34821397-f8cb-44ee-87f1-51dd983ebff3",
   "metadata": {
    "pycharm": {
     "name": "#%% md\n"
    }
   },
   "source": [
    "# 数值系统"
   ]
  },
  {
   "cell_type": "markdown",
   "id": "18efc3a1-5f9c-49b7-929c-325cbafa20e1",
   "metadata": {
    "pycharm": {
     "name": "#%% md\n"
    }
   },
   "source": [
    "+ 整数(`Int8`, `Int16`, `Int32`, `Int64`, `Int128`)\n",
    "    + 我们的电脑为64位系统，因此常常用`Int`默认代表`Int64`\n",
    "+ 浮点数(`Folat16`, `Float32`, `Float64`)\n",
    "    + Julia中正0和负0之间有微弱的区别，可以使用`zero`来表达0\n",
    "    + 无穷值`Inf16`, `Inf32`, `Inf64`(默认），这并不是一种类型，就是一个无穷大的数\n",
    "    + 非输出`NaN16`, `NaN32`, `NaN64`(默认），非类型（同上）\n",
    "+ 布尔类型`Bool`\n",
    "+ BigFloat\n",
    "+ 有理数\n",
    "+ 复数(`ComplexF64`(`Complex`),`ComplexF32`, `ComplexF16`)\n",
    "+ 随机数(`rand`, `randn`, `randexp`)"
   ]
  },
  {
   "cell_type": "code",
   "execution_count": 10,
   "id": "d25223ea",
   "metadata": {
    "pycharm": {
     "name": "#%%\n"
    }
   },
   "outputs": [
    {
     "data": {
      "text/plain": [
       "0"
      ]
     },
     "execution_count": 10,
     "metadata": {},
     "output_type": "execute_result"
    }
   ],
   "source": [
    "float0 = zero(Float64);\n",
    "int0 = zero(Int64)"
   ]
  },
  {
   "cell_type": "code",
   "execution_count": 11,
   "id": "13c84861",
   "metadata": {
    "pycharm": {
     "name": "#%%\n"
    }
   },
   "outputs": [
    {
     "data": {
      "text/plain": [
       "Float64"
      ]
     },
     "execution_count": 11,
     "metadata": {},
     "output_type": "execute_result"
    }
   ],
   "source": [
    "typeof(int0)\n",
    "typeof(float0)"
   ]
  },
  {
   "cell_type": "code",
   "execution_count": 12,
   "id": "b9c4d67c",
   "metadata": {
    "pycharm": {
     "is_executing": true,
     "name": "#%%\n"
    }
   },
   "outputs": [
    {
     "data": {
      "text/plain": [
       "Inf"
      ]
     },
     "execution_count": 12,
     "metadata": {},
     "output_type": "execute_result"
    }
   ],
   "source": [
    "typemax(Int64)\n",
    "typemax(Float64)"
   ]
  },
  {
   "cell_type": "code",
   "execution_count": 13,
   "id": "fa9b0657",
   "metadata": {
    "pycharm": {
     "name": "#%%\n"
    }
   },
   "outputs": [
    {
     "data": {
      "text/plain": [
       "false"
      ]
     },
     "execution_count": 13,
     "metadata": {},
     "output_type": "execute_result"
    }
   ],
   "source": [
    "isfinite(Inf)"
   ]
  },
  {
   "cell_type": "code",
   "execution_count": 14,
   "id": "2608312e",
   "metadata": {
    "pycharm": {
     "name": "#%%\n"
    }
   },
   "outputs": [
    {
     "data": {
      "text/plain": [
       "true"
      ]
     },
     "execution_count": 14,
     "metadata": {},
     "output_type": "execute_result"
    }
   ],
   "source": [
    "isnan(-NaN64) # 它就是一个数不是个类型"
   ]
  },
  {
   "cell_type": "markdown",
   "id": "db16b8ee",
   "metadata": {
    "pycharm": {
     "name": "#%% md\n"
    }
   },
   "source": [
    "## 数值类型的提升"
   ]
  },
  {
   "cell_type": "markdown",
   "id": "192ffaa6",
   "metadata": {
    "pycharm": {
     "name": "#%% md\n"
    }
   },
   "source": [
    "`+(x::Float64, y::Float64) = add_float(x, y)`\n",
    "数值类型的提升\n",
    "\n",
    "`+((promote(x, y)...)`\n",
    "promote把x, y提升的相同类型, 生成一个元祖, ...进行元组解包"
   ]
  },
  {
   "cell_type": "code",
   "execution_count": 20,
   "id": "00bcc7ef",
   "metadata": {
    "pycharm": {
     "name": "#%%\n"
    }
   },
   "outputs": [
    {
     "data": {
      "text/plain": [
       "10.0"
      ]
     },
     "execution_count": 20,
     "metadata": {},
     "output_type": "execute_result"
    }
   ],
   "source": [
    "+(promote(1, 2.0, 3.0, 4.0)...)"
   ]
  },
  {
   "cell_type": "markdown",
   "id": "baa51853",
   "metadata": {
    "pycharm": {
     "name": "#%% md\n"
    }
   },
   "source": [
    "## 运算符\n",
    "\n",
    "+ 算术运算\n",
    "+ 位运算（操作二进制序列）\n",
    "    - `~`取反\n",
    "    - `&`与\n",
    "    - `|`或\n",
    "+ 更新运算符\n",
    "    - `+=`\n",
    "    - `-=`\n",
    "    - `*=`\n",
    "    - `/=`\n",
    "+ 比较运算符(数值大小之间的对比，不会比较类型是不是相同)\n",
    "    - `==`, 数值相等\n",
    "    - `===`， 值与类型完全相同\n",
    "    - `!=`\n",
    "    - `>, >=, <=, <`\n",
    "+ 逻辑运算符\n",
    "    - `a && b`与此同时， 只有`a`为true时才会执行`b`\n",
    "    - `a || b`或者, 只有`a`为false时才会执行`b`，否则就不执行`b`直接返回false\n",
    "        + 常常被用于错误条件的处理， e.g. `size(m, 1) == length(g) || error(\"两者的长度不一致\")`\n",
    "    - `!`不满足"
   ]
  },
  {
   "cell_type": "code",
   "execution_count": 2,
   "id": "9308ec1b",
   "metadata": {
    "pycharm": {
     "name": "#%%\n"
    }
   },
   "outputs": [
    {
     "data": {
      "text/plain": [
       "(false, false)"
      ]
     },
     "execution_count": 2,
     "metadata": {},
     "output_type": "execute_result"
    }
   ],
   "source": [
    "a = true\n",
    "~ a, ! a"
   ]
  },
  {
   "cell_type": "code",
   "execution_count": 22,
   "id": "eb8352ff",
   "metadata": {
    "pycharm": {
     "name": "#%%\n"
    }
   },
   "outputs": [
    {
     "data": {
      "text/plain": [
       "8"
      ]
     },
     "execution_count": 22,
     "metadata": {},
     "output_type": "execute_result"
    }
   ],
   "source": [
    "num1 = Int32(8)\n",
    "num2 = Int64(8)"
   ]
  },
  {
   "cell_type": "code",
   "execution_count": 23,
   "id": "31c6b3bf",
   "metadata": {
    "pycharm": {
     "name": "#%%\n"
    }
   },
   "outputs": [
    {
     "data": {
      "text/plain": [
       "true"
      ]
     },
     "execution_count": 23,
     "metadata": {},
     "output_type": "execute_result"
    }
   ],
   "source": [
    "num1 == num2\n",
    "\n",
    "num1 === num2\n",
    "\n",
    "isequal(num1, num2) # isequal 和==差不多，但是又略有不同, 更为严格"
   ]
  },
  {
   "cell_type": "markdown",
   "id": "1b35ddaa-f0f7-46f3-a7a3-36d0aeb50985",
   "metadata": {},
   "source": [
    "# 控制逻辑"
   ]
  },
  {
   "cell_type": "code",
   "execution_count": 6,
   "id": "00ed1d45-c0e2-41b9-b471-1c47e3521b5d",
   "metadata": {},
   "outputs": [
    {
     "data": {
      "text/plain": [
       "(2, 2)"
      ]
     },
     "execution_count": 6,
     "metadata": {},
     "output_type": "execute_result"
    }
   ],
   "source": [
    "# 两种等价方式\n",
    "ifelse(1.0 > 2.0, 1, 2), 1.0 > 2.0 ? 1 : 2"
   ]
  },
  {
   "cell_type": "code",
   "execution_count": 10,
   "id": "bc254a0c-7041-4fd4-ad4f-2ee13b33b89f",
   "metadata": {},
   "outputs": [
    {
     "data": {
      "text/plain": [
       "(Base.OneTo(3), Base.OneTo(4), Base.OneTo(12))"
      ]
     },
     "execution_count": 10,
     "metadata": {},
     "output_type": "execute_result"
    }
   ],
   "source": [
    "a = rand(3, 4)\n",
    "# 笛卡尔索引：行，列，线性索引\n",
    "axes(a, 1), axes(a, 2), eachindex(a)"
   ]
  },
  {
   "cell_type": "markdown",
   "id": "0717a691-f606-4605-8106-956ade298e94",
   "metadata": {},
   "source": [
    "# 异常捕捉"
   ]
  },
  {
   "cell_type": "code",
   "execution_count": 22,
   "id": "3ef90e53-78f2-4759-96e5-11da630ff8b1",
   "metadata": {},
   "outputs": [
    {
     "name": "stderr",
     "output_type": "stream",
     "text": [
      "\u001b[91m\u001b[1m┌ \u001b[22m\u001b[39m\u001b[91m\u001b[1mError: \u001b[22m\u001b[39m1.0 != 2.0\n",
      "\u001b[91m\u001b[1m└ \u001b[22m\u001b[39m\u001b[90m@ Main In[22]:1\u001b[39m\n",
      "\u001b[36m\u001b[1m[ \u001b[22m\u001b[39m\u001b[36m\u001b[1mInfo: \u001b[22m\u001b[39m1.0 != 2.0\n",
      "\u001b[33m\u001b[1m┌ \u001b[22m\u001b[39m\u001b[33m\u001b[1mWarning: \u001b[22m\u001b[39m1.0 != 2.0\n",
      "\u001b[33m\u001b[1m└ \u001b[22m\u001b[39m\u001b[90m@ Main In[22]:3\u001b[39m\n"
     ]
    }
   ],
   "source": [
    "1.0 == 2.0 || @error(\"1.0 != 2.0\")\n",
    "1.0 == 2.0 || @info(\"1.0 != 2.0\")\n",
    "1.0 == 2.0 || @warn(\"1.0 != 2.0\")"
   ]
  },
  {
   "cell_type": "markdown",
   "id": "33e652bc-eeaf-4611-baa0-5686de52043b",
   "metadata": {},
   "source": [
    "# 字符串"
   ]
  },
  {
   "cell_type": "code",
   "execution_count": 30,
   "id": "cfc25304-2433-4d90-92b2-ad539af2ca9e",
   "metadata": {},
   "outputs": [
    {
     "data": {
      "text/plain": [
       "('x', \"xx\", \"the length of xx is 2\")"
      ]
     },
     "execution_count": 30,
     "metadata": {},
     "output_type": "execute_result"
    }
   ],
   "source": [
    "# char, string\n",
    "'x', \"xx\", \"the length of xx is $(length(\"xx\"))\""
   ]
  },
  {
   "cell_type": "code",
   "execution_count": 33,
   "id": "19a047a8-6d55-4bd3-b092-a14f82bc5c4d",
   "metadata": {},
   "outputs": [
    {
     "data": {
      "text/plain": [
       "(\"=========x\", \"x=========\")"
      ]
     },
     "execution_count": 33,
     "metadata": {},
     "output_type": "execute_result"
    }
   ],
   "source": [
    "lpad(\"x\", 10, \"=\"), rpad(\"x\", 10, \"=\")"
   ]
  },
  {
   "cell_type": "code",
   "execution_count": 38,
   "id": "491e1469-b968-49ce-96c5-33b9ead051e5",
   "metadata": {},
   "outputs": [
    {
     "data": {
      "text/plain": [
       "3"
      ]
     },
     "execution_count": 38,
     "metadata": {},
     "output_type": "execute_result"
    }
   ],
   "source": [
    "floor(Int, 3.1)"
   ]
  },
  {
   "cell_type": "code",
   "execution_count": 70,
   "id": "6902047c-ec80-4f36-b0d7-b00fe602c9c7",
   "metadata": {},
   "outputs": [
    {
     "name": "stdout",
     "output_type": "stream",
     "text": [
      "===================HELLO WORLD====================\n"
     ]
    }
   ],
   "source": [
    "function section_line(title, T, seperater)\n",
    "    tlen = length(title)\n",
    "    llen = floor(Int, T / 2 + tlen / 2)\n",
    "    println(rpad(lpad(uppercase(title), llen, seperater), T, seperater))\n",
    "end\n",
    "\n",
    "section_line(\"hello world\", 50, \"=\")"
   ]
  },
  {
   "cell_type": "markdown",
   "id": "19c3c328-31a6-49fb-ab3c-8a34e0c8d481",
   "metadata": {},
   "source": [
    "# 函数"
   ]
  },
  {
   "cell_type": "code",
   "execution_count": 1,
   "id": "ae2df5f9",
   "metadata": {},
   "outputs": [
    {
     "data": {
      "text/plain": [
       "add_two (generic function with 1 method)"
      ]
     },
     "execution_count": 1,
     "metadata": {},
     "output_type": "execute_result"
    }
   ],
   "source": [
    "function add_two(x, y)\n",
    "    return x + y\n",
    "end"
   ]
  },
  {
   "cell_type": "code",
   "execution_count": 4,
   "id": "f0a83446",
   "metadata": {},
   "outputs": [
    {
     "name": "stdout",
     "output_type": "stream",
     "text": [
      "Variables\n",
      "  #self#\u001b[36m::Core.Const(add_two)\u001b[39m\n",
      "  x\u001b[36m::Int64\u001b[39m\n",
      "  y\u001b[36m::Int64\u001b[39m\n",
      "\n",
      "Body\u001b[36m::Int64\u001b[39m\n",
      "\u001b[90m1 ─\u001b[39m %1 = (x + y)\u001b[36m::Int64\u001b[39m\n",
      "\u001b[90m└──\u001b[39m      return %1\n"
     ]
    }
   ],
   "source": [
    "@code_warntype add_two(1, 2)"
   ]
  },
  {
   "cell_type": "markdown",
   "id": "f0cea4fe-4b7c-443f-81a3-b5e28d454bc0",
   "metadata": {},
   "source": [
    "## 传参"
   ]
  },
  {
   "cell_type": "markdown",
   "id": "00846633-f498-4aea-a9e6-af7147f46a38",
   "metadata": {},
   "source": [
    "共享传参（pass-by-sharing):\n",
    "+ 对于原语类型参数，按值传参(不会修改原来变量)\n",
    "+ 对于复合类型（包括数组、字典、结构体等）参数，按引用传参（会修改原有变量）"
   ]
  },
  {
   "cell_type": "code",
   "execution_count": 7,
   "id": "b603796e",
   "metadata": {},
   "outputs": [
    {
     "data": {
      "text/plain": [
       "10"
      ]
     },
     "execution_count": 7,
     "metadata": {},
     "output_type": "execute_result"
    }
   ],
   "source": [
    "# 按值传参\n",
    "x = 10\n",
    "function change_val(y)\n",
    "    y = 1\n",
    "    return y\n",
    "end\n",
    "change_val(x)\n",
    "x"
   ]
  },
  {
   "cell_type": "code",
   "execution_count": 13,
   "id": "40b3f3f3",
   "metadata": {},
   "outputs": [
    {
     "data": {
      "text/plain": [
       "Dict{Symbol, Int64} with 1 entry:\n",
       "  :a => 1"
      ]
     },
     "execution_count": 13,
     "metadata": {},
     "output_type": "execute_result"
    }
   ],
   "source": [
    "d2 = Dict(:a => 10)\n",
    "function change_val!(d::Dict)\n",
    "    for key in keys(d)\n",
    "        d[key] = 1\n",
    "    end\n",
    "end\n",
    "change_val!(d2)\n",
    "d2"
   ]
  },
  {
   "cell_type": "markdown",
   "id": "cd9d7739-d86c-4bb3-b43c-813ebef6cab3",
   "metadata": {},
   "source": [
    "function(位置参数; 关键字参数)\n",
    "\n",
    "位置参数和关键字参数中都可以包含各自的默认参数, 默认参数都要放在最后边"
   ]
  },
  {
   "cell_type": "code",
   "execution_count": 71,
   "id": "dd1d6a8b",
   "metadata": {},
   "outputs": [
    {
     "data": {
      "text/plain": [
       "plot (generic function with 2 methods)"
      ]
     },
     "execution_count": 71,
     "metadata": {},
     "output_type": "execute_result"
    }
   ],
   "source": [
    "# z 是位置参数，而oper是关键字参数\n",
    "function plot(x, y, z = 1; oper = \"sum\")\n",
    "    return x + y + z\n",
    "end"
   ]
  },
  {
   "cell_type": "code",
   "execution_count": 72,
   "id": "d03cba08",
   "metadata": {},
   "outputs": [
    {
     "data": {
      "text/plain": [
       "4"
      ]
     },
     "execution_count": 72,
     "metadata": {},
     "output_type": "execute_result"
    }
   ],
   "source": [
    "plot(1, 2)"
   ]
  },
  {
   "cell_type": "code",
   "execution_count": 73,
   "id": "0cebad4e",
   "metadata": {},
   "outputs": [
    {
     "data": {
      "text/plain": [
       "6"
      ]
     },
     "execution_count": 73,
     "metadata": {},
     "output_type": "execute_result"
    }
   ],
   "source": [
    "plot(1, 2, 3; oper = \"sum\")"
   ]
  },
  {
   "cell_type": "markdown",
   "id": "92fb01b2-40aa-4625-8075-91e9e60fc86e",
   "metadata": {},
   "source": [
    "可变参数\n",
    "+ args...\n",
    "+ kwargs..."
   ]
  },
  {
   "cell_type": "code",
   "execution_count": 1,
   "id": "b3a23fda",
   "metadata": {},
   "outputs": [
    {
     "data": {
      "text/plain": [
       "MyShow (generic function with 1 method)"
      ]
     },
     "execution_count": 1,
     "metadata": {},
     "output_type": "execute_result"
    }
   ],
   "source": [
    "function MyShow(args...)\n",
    "    rs = 0\n",
    "    for arg in args\n",
    "        rs += arg\n",
    "    end\n",
    "    return rs\n",
    "end"
   ]
  },
  {
   "cell_type": "code",
   "execution_count": 2,
   "id": "9ad53c36",
   "metadata": {},
   "outputs": [
    {
     "data": {
      "text/html": [
       "MyShow(args...) in Main at In[1]:1"
      ],
      "text/plain": [
       "MyShow(\u001b[90margs...\u001b[39m)\n",
       "\u001b[90m     @\u001b[39m \u001b[90mMain\u001b[39m \u001b[90m\u001b[4mIn[1]:1\u001b[24m\u001b[39m"
      ]
     },
     "execution_count": 2,
     "metadata": {},
     "output_type": "execute_result"
    }
   ],
   "source": [
    "@which MyShow(1, 2, 3, 4, 5, 6)"
   ]
  },
  {
   "cell_type": "code",
   "execution_count": 4,
   "id": "2737e70f",
   "metadata": {},
   "outputs": [
    {
     "data": {
      "text/plain": [
       "MyShow2 (generic function with 1 method)"
      ]
     },
     "execution_count": 4,
     "metadata": {},
     "output_type": "execute_result"
    }
   ],
   "source": [
    "function MyShow2(;kwargs...)\n",
    "    rs = 0\n",
    "    for value in values(kwargs) \n",
    "        rs += value\n",
    "    end\n",
    "    return rs\n",
    "end"
   ]
  },
  {
   "cell_type": "code",
   "execution_count": 5,
   "id": "c29b2c7e",
   "metadata": {},
   "outputs": [
    {
     "data": {
      "text/html": [
       "kwcall(::<b>Any</b>, ::<b>typeof(MyShow2)</b>) in Main at In[4]:1"
      ],
      "text/plain": [
       "kwcall(::\u001b[1mAny\u001b[22m, ::\u001b[1mtypeof(MyShow2)\u001b[22m)\n",
       "\u001b[90m     @\u001b[39m \u001b[90mMain\u001b[39m \u001b[90m\u001b[4mIn[4]:1\u001b[24m\u001b[39m"
      ]
     },
     "execution_count": 5,
     "metadata": {},
     "output_type": "execute_result"
    }
   ],
   "source": [
    "@which MyShow2(; a = 1, b = 2, c = 3)"
   ]
  },
  {
   "cell_type": "markdown",
   "id": "aa23f16c-1fae-402e-a1ec-238c7e6070cc",
   "metadata": {},
   "source": [
    "如果传入的参数我并不想使用，可以不加函数名"
   ]
  },
  {
   "cell_type": "code",
   "execution_count": 9,
   "id": "bade4f10-ada1-40e7-94b0-1329a31d1abf",
   "metadata": {},
   "outputs": [
    {
     "data": {
      "text/plain": [
       "f (generic function with 4 methods)"
      ]
     },
     "execution_count": 9,
     "metadata": {},
     "output_type": "execute_result"
    }
   ],
   "source": [
    "function f(::Int64, x)\n",
    "    return x\n",
    "end\n",
    "\n",
    "function f(::Type{Int64}, x)\n",
    "    return x^2\n",
    "end"
   ]
  },
  {
   "cell_type": "code",
   "execution_count": 12,
   "id": "2ec02bc6-7e84-4348-9616-27157dddd914",
   "metadata": {},
   "outputs": [
    {
     "data": {
      "text/plain": [
       "(2, 4)"
      ]
     },
     "execution_count": 12,
     "metadata": {},
     "output_type": "execute_result"
    }
   ],
   "source": [
    "f(1, 2), f(Int64, 2)"
   ]
  },
  {
   "cell_type": "markdown",
   "id": "0e99a8a5-f3f1-4acb-8e0f-57648c622e5c",
   "metadata": {},
   "source": [
    "##  匿名函数"
   ]
  },
  {
   "cell_type": "code",
   "execution_count": 86,
   "id": "e0dd71be",
   "metadata": {},
   "outputs": [
    {
     "data": {
      "text/plain": [
       "#7 (generic function with 1 method)"
      ]
     },
     "execution_count": 86,
     "metadata": {},
     "output_type": "execute_result"
    }
   ],
   "source": [
    "# 标准形式\n",
    "(x, y, z) -> x + y + z"
   ]
  },
  {
   "cell_type": "code",
   "execution_count": 87,
   "id": "54c25c7e",
   "metadata": {},
   "outputs": [
    {
     "data": {
      "text/plain": [
       "#9 (generic function with 1 method)"
      ]
     },
     "execution_count": 87,
     "metadata": {},
     "output_type": "execute_result"
    }
   ],
   "source": [
    "# 只有一个参数可以省略括号\n",
    "x -> x + 1"
   ]
  },
  {
   "cell_type": "code",
   "execution_count": 88,
   "id": "0ad1da88",
   "metadata": {},
   "outputs": [
    {
     "data": {
      "text/plain": [
       "#11 (generic function with 1 method)"
      ]
     },
     "execution_count": 88,
     "metadata": {},
     "output_type": "execute_result"
    }
   ],
   "source": [
    "# 没有参数，不能省略括号\n",
    "() -> 10 + 2"
   ]
  },
  {
   "cell_type": "markdown",
   "id": "f3f295bd-b0d2-42ca-bd4b-fb70ee6d06c6",
   "metadata": {},
   "source": [
    "当一个函数只使用一次时，使用匿名函数比较方便，但是如果这个匿名函数写起来很复杂，便可以用do代码块"
   ]
  }
 ],
 "metadata": {
  "kernelspec": {
   "display_name": "Julia 1.10.2",
   "language": "julia",
   "name": "julia-1.10"
  },
  "language_info": {
   "file_extension": ".jl",
   "mimetype": "application/julia",
   "name": "julia",
   "version": "1.10.2"
  },
  "latex_envs": {
   "LaTeX_envs_menu_present": true,
   "autoclose": false,
   "autocomplete": true,
   "bibliofile": "biblio.bib",
   "cite_by": "apalike",
   "current_citInitial": 1,
   "eqLabelWithNumbers": true,
   "eqNumInitial": 1,
   "hotkeys": {
    "equation": "Ctrl-E",
    "itemize": "Ctrl-I"
   },
   "labels_anchors": false,
   "latex_user_defs": false,
   "report_style_numbering": false,
   "user_envs_cfg": false
  },
  "toc": {
   "base_numbering": 1,
   "nav_menu": {},
   "number_sections": true,
   "sideBar": true,
   "skip_h1_title": false,
   "title_cell": "Table of Contents",
   "title_sidebar": "Contents",
   "toc_cell": false,
   "toc_position": {},
   "toc_section_display": true,
   "toc_window_display": false
  }
 },
 "nbformat": 4,
 "nbformat_minor": 5
}
