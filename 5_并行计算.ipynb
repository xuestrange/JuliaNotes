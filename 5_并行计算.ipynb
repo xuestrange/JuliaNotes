{
 "cells": [
  {
   "cell_type": "markdown",
   "id": "c1b7c13e",
   "metadata": {},
   "source": [
    "# 并行计算"
   ]
  },
  {
   "cell_type": "markdown",
   "id": "7ed75a3d-7ff6-4d50-8126-eb04ced448eb",
   "metadata": {},
   "source": [
    "> cocurrency(异步) Vs. multi-threading（多线程）\n",
    "> + https://www.rugu.dev/en/blog/concurrency-and-parallelism/"
   ]
  },
  {
   "cell_type": "markdown",
   "id": "82a39c67-1751-4113-95c5-de0b64c9428a",
   "metadata": {},
   "source": [
    "并行计算(适用于计算顺序不影响最终结果的for-loop中)\n",
    "- `@simd` 单指令多数据, `simd`只能用于简单的数学运算，例如`+-`，而且Julia的编译器会自动帮你查询，你的for-loop能不能使用simd，可以的话它会自动帮你加上\n",
    "- `@turbo` 进阶版的`@simd`， 可以替代`@inbounds @simd`，比这俩要快很多\n",
    "    - 貌似对自动微分的支持比较差，不建议使用\n",
    "- `@threads` 单进程多线程，共享一块内存区域\n",
    "    + 不推荐使用`@threads`宏，https://julialang.org/blog/2023/07/PSA-dont-use-threadid/\n",
    "    + 建议使用`@sync`和`Threads.@spawn`，`using Base.Threads`来使用多线程\n",
    "- 多进程与分布式数据（或者copy数据到所有其它julia进程），每个julia程序单独享用一块内存区域"
   ]
  },
  {
   "cell_type": "markdown",
   "id": "867780fb-93ff-4670-9eb6-ff1cd0a542a6",
   "metadata": {},
   "source": [
    "参考资料\n",
    "+ https://johnnychen94.github.io/Julia_and_its_applications/6_2_parallel_intro.jl.html"
   ]
  },
  {
   "cell_type": "markdown",
   "id": "cda658b5-89a2-4e9c-b12e-028a0aaf7b55",
   "metadata": {},
   "source": [
    "## 异步"
   ]
  },
  {
   "cell_type": "markdown",
   "id": "c492d067",
   "metadata": {},
   "source": [
    "异步适用于IO密集型任务，不适用于CPU密集型任务，一般用不上\n",
    "协程不能调用CPU的多核资源，因为这些协程实际上共享同一个系统线程\n",
    "异步还是没有搞明白 :sad:"
   ]
  },
  {
   "cell_type": "markdown",
   "id": "161481d8",
   "metadata": {},
   "source": [
    "## 多进程"
   ]
  },
  {
   "cell_type": "markdown",
   "id": "2524b8a8-ceb9-4a4d-8211-9cbeac6ec083",
   "metadata": {},
   "source": [
    "### 底层接口"
   ]
  },
  {
   "cell_type": "markdown",
   "id": "623f053b",
   "metadata": {},
   "source": [
    "消息传递接口（Message Passing Interface， MPI）"
   ]
  },
  {
   "cell_type": "code",
   "execution_count": 1,
   "id": "5debb24c-235b-4ea0-a547-94865db40792",
   "metadata": {},
   "outputs": [],
   "source": [
    "using Distributed"
   ]
  },
  {
   "cell_type": "code",
   "execution_count": 2,
   "id": "df7c0bde",
   "metadata": {},
   "outputs": [
    {
     "data": {
      "text/plain": [
       "1"
      ]
     },
     "execution_count": 2,
     "metadata": {},
     "output_type": "execute_result"
    }
   ],
   "source": [
    "nprocs()"
   ]
  },
  {
   "cell_type": "code",
   "execution_count": 3,
   "id": "c0c56fdd",
   "metadata": {},
   "outputs": [
    {
     "data": {
      "text/plain": [
       "3-element Vector{Int64}:\n",
       " 2\n",
       " 3\n",
       " 4"
      ]
     },
     "execution_count": 3,
     "metadata": {},
     "output_type": "execute_result"
    }
   ],
   "source": [
    "addprocs(3)"
   ]
  },
  {
   "cell_type": "markdown",
   "id": "8c8fe169",
   "metadata": {},
   "source": [
    "+ 远程调用 remote reference\n",
    "+ 远程引用 remote calls"
   ]
  },
  {
   "cell_type": "code",
   "execution_count": 4,
   "id": "45cc5ecc-add8-4829-a001-86362162e105",
   "metadata": {},
   "outputs": [
    {
     "data": {
      "text/plain": [
       "Future(2, 1, 5, ReentrantLock(nothing, 0x00000000, 0x00, Base.GenericCondition{Base.Threads.SpinLock}(Base.IntrusiveLinkedList{Task}(nothing, nothing), Base.Threads.SpinLock(0)), (8, 105553119440896, 4294967297)), nothing)"
      ]
     },
     "execution_count": 4,
     "metadata": {},
     "output_type": "execute_result"
    }
   ],
   "source": [
    "# 远程调用：通过本地进程在远程Worker中启动某一处理过程\n",
    "# 当前进程PID = 1，在当前进程中调用PID = 2的进程，在这个2进程中生成随机数矩阵\n",
    "r = remotecall(rand, 2, 3, 3)"
   ]
  },
  {
   "cell_type": "code",
   "execution_count": 5,
   "id": "41dc9f11",
   "metadata": {},
   "outputs": [
    {
     "name": "stdout",
     "output_type": "stream",
     "text": [
      "Future\n",
      "  where: Int64 2\n",
      "  whence: Int64 1\n",
      "  id: Int64 5\n",
      "  lock: ReentrantLock\n",
      "    locked_by: Nothing nothing\n",
      "    reentrancy_cnt: UInt32 0x00000000\n",
      "    havelock: UInt8 0x00\n",
      "    cond_wait: Base.GenericCondition{Base.Threads.SpinLock}\n",
      "      waitq: Base.IntrusiveLinkedList{Task}\n",
      "        head: Nothing nothing\n",
      "        tail: Nothing nothing\n",
      "      lock: Base.Threads.SpinLock\n",
      "        owned: Int64 0\n",
      "    _: Tuple{Int64, Int64, Int64}\n",
      "      1: Int64 8\n",
      "      2: Int64 105553119440896\n",
      "      3: Int64 4294967297\n",
      "  v: Nothing nothing\n"
     ]
    }
   ],
   "source": [
    "# whence为本地进程，where 为被调用的进程, v为返回结果\n",
    "# remotecall只会建立本地进程，被调用进程和处理过程之间的关系，不会返回结果\n",
    "dump(r)"
   ]
  },
  {
   "cell_type": "code",
   "execution_count": 6,
   "id": "014a0d79",
   "metadata": {},
   "outputs": [
    {
     "data": {
      "text/plain": [
       "3×3 Matrix{Float64}:\n",
       " 0.528922  0.680318  0.544822\n",
       " 0.904478  0.145737  0.249805\n",
       " 0.123782  0.948467  0.832162"
      ]
     },
     "execution_count": 6,
     "metadata": {},
     "output_type": "execute_result"
    }
   ],
   "source": [
    "# fetch第一次被执行，远程的计算结果就会被传输到本地进程中的Future对象中缓存起来，远程的数据则会被删除\n",
    "# 多次执行返回的结果都是一样的，看起来fetch之前就已经执行完毕了\n",
    "fetch(r)"
   ]
  },
  {
   "cell_type": "markdown",
   "id": "9a2f5478",
   "metadata": {},
   "source": [
    "`spawn`在英文中有生产、造成的意思"
   ]
  },
  {
   "cell_type": "code",
   "execution_count": 7,
   "id": "4965961a",
   "metadata": {},
   "outputs": [
    {
     "data": {
      "text/plain": [
       "Future(4, 1, 7, ReentrantLock(nothing, 0x00000000, 0x00, Base.GenericCondition{Base.Threads.SpinLock}(Base.IntrusiveLinkedList{Task}(nothing, nothing), Base.Threads.SpinLock(0)), (140714828219088, 140714828219088, 0)), nothing)"
      ]
     },
     "execution_count": 7,
     "metadata": {},
     "output_type": "execute_result"
    }
   ],
   "source": [
    "# 使用进程4生成4X4矩阵，不返回计算结果\n",
    "# @spawn和remotecall的功能是一样的，区别在于remotecall只能执行函数，而spawn可以执行表达式\n",
    "m1 = @spawnat 4 rand(4, 4)"
   ]
  },
  {
   "cell_type": "code",
   "execution_count": 8,
   "id": "f8ab30b7",
   "metadata": {},
   "outputs": [
    {
     "data": {
      "text/plain": [
       "Future(2, 1, 8, ReentrantLock(nothing, 0x00000000, 0x00, Base.GenericCondition{Base.Threads.SpinLock}(Base.IntrusiveLinkedList{Task}(nothing, nothing), Base.Threads.SpinLock(0)), (8, 140714822336512, 0)), nothing)"
      ]
     },
     "execution_count": 8,
     "metadata": {},
     "output_type": "execute_result"
    }
   ],
   "source": [
    "# 系统自动选择一个进程生成4X4矩阵, 不返回计算结果\n",
    "m2 = @spawn rand(4, 4)"
   ]
  },
  {
   "cell_type": "code",
   "execution_count": 9,
   "id": "645ea22f",
   "metadata": {},
   "outputs": [
    {
     "data": {
      "text/plain": [
       "([0.228160 0.024405 0.528314 0.711916; 0.874635 0.687846 0.559633 0.452102; 0.190403 0.282483 0.846801 0.813613; 0.561852 0.309151 0.017492 0.855308], [0.953928 0.170724 0.482075 0.121593; 0.789284 0.271510 0.950596 0.774774; 0.145357 0.368087 0.057804 0.747346; 0.014133 0.330092 0.148950 0.063762])"
      ]
     },
     "execution_count": 9,
     "metadata": {},
     "output_type": "execute_result"
    }
   ],
   "source": [
    "fetch(m1), fetch(m2)"
   ]
  },
  {
   "cell_type": "code",
   "execution_count": 10,
   "id": "b0491fb4-5d22-46b4-a216-b89078c9fd3a",
   "metadata": {},
   "outputs": [
    {
     "data": {
      "text/plain": [
       "([0.595564 0.338191 0.963176; 0.685822 0.711244 0.273929; 0.024006 0.962724 0.138202], [0.340016 0.548147 0.628379; 0.586101 0.521727 0.448607; 0.665175 0.245007 0.236799])"
      ]
     },
     "execution_count": 10,
     "metadata": {},
     "output_type": "execute_result"
    }
   ],
   "source": [
    "# @fetch = fetch(@spawn function)\n",
    "# @fetchfrom  PID = fetch(@spawnat PID function)\n",
    "\n",
    "@fetch rand(3, 3), @fetchfrom 1 rand(3, 3)"
   ]
  },
  {
   "cell_type": "code",
   "execution_count": 11,
   "id": "c706add4",
   "metadata": {},
   "outputs": [],
   "source": [
    "# 不同的进程有不同的作用域，@everywhere可以把你定义的一些东西放到所有的进程中\n",
    "@everywhere function rand2(ndim)\n",
    "    return 2 * rand(ndim, ndim)\n",
    "end"
   ]
  },
  {
   "cell_type": "code",
   "execution_count": 12,
   "id": "93c2a693-336a-47d9-b437-3aa239989dfc",
   "metadata": {},
   "outputs": [
    {
     "data": {
      "text/plain": [
       "([0.504044 1.927709; 0.795914 0.183168], [0.354061 0.747744; 0.198152 0.503928])"
      ]
     },
     "execution_count": 12,
     "metadata": {},
     "output_type": "execute_result"
    }
   ],
   "source": [
    "# @fetch和fetch不是一回事，别弄混了\n",
    "@fetch rand2(2), @fetchfrom 2 rand2(2)"
   ]
  },
  {
   "cell_type": "code",
   "execution_count": 13,
   "id": "41412191",
   "metadata": {},
   "outputs": [
    {
     "data": {
      "text/plain": [
       "99998073"
      ]
     },
     "execution_count": 13,
     "metadata": {},
     "output_type": "execute_result"
    }
   ],
   "source": [
    "# 自动将for-loop分配到所有的进程中，但是结果的顺序是乱的\n",
    "@distributed (+) for i = 1:200000000\n",
    "                    Int64(rand(Bool))\n",
    "end"
   ]
  },
  {
   "cell_type": "markdown",
   "id": "7ae58eba",
   "metadata": {},
   "source": [
    "### 共享数组"
   ]
  },
  {
   "cell_type": "markdown",
   "id": "3f70c096-40b8-4dcf-8dad-3fb0881c0b6c",
   "metadata": {},
   "source": [
    "分布式数据和共享数据不一样哈😄，前者用在集群，后者是单机"
   ]
  },
  {
   "cell_type": "code",
   "execution_count": 14,
   "id": "adca776e",
   "metadata": {},
   "outputs": [],
   "source": [
    "using SharedArrays, LogExpFunctions"
   ]
  },
  {
   "cell_type": "code",
   "execution_count": 15,
   "id": "c90340fc",
   "metadata": {},
   "outputs": [
    {
     "data": {
      "text/plain": [
       "2.302585"
      ]
     },
     "execution_count": 15,
     "metadata": {},
     "output_type": "execute_result"
    }
   ],
   "source": [
    "a = SharedArray{Float64}(1, 10)\n",
    "@distributed for i in 1:10\n",
    "    a[i] = i / 10\n",
    "end\n",
    "logsumexp(a)"
   ]
  },
  {
   "cell_type": "markdown",
   "id": "a6197fbb-6e2a-4591-a928-9bc5fe3d4826",
   "metadata": {},
   "source": [
    "### 上层接口"
   ]
  },
  {
   "cell_type": "markdown",
   "id": "2b6c253e-bafb-46cf-a50e-80707d4eed3a",
   "metadata": {},
   "source": [
    "TODO"
   ]
  },
  {
   "cell_type": "markdown",
   "id": "51a0e011",
   "metadata": {},
   "source": [
    "## 多线程"
   ]
  },
  {
   "cell_type": "markdown",
   "id": "d49df183-eeed-4216-8498-422c27fd1bc2",
   "metadata": {},
   "source": [
    "### `@sync + Threads.@spawn / Distributed.@spawn`"
   ]
  },
  {
   "cell_type": "markdown",
   "id": "aa815a59-fa19-4fdc-84a3-e3c11a2bf0cd",
   "metadata": {},
   "source": [
    "在for-loop中\n",
    "+ 使用`Threads.@spawn`会将要执行的函数分别让多个线程一起执行，但是不管他们执行是否完毕，就显示程序运行完成，返回结果；\n",
    "+ 使用`@sync`可以等待所有线程执行完毕以后，再返回结果，显示程序运行完成；\n",
    "\n",
    "由此可以推广到`@sync + Distributed.@spawn`的使用，也是类似的原理"
   ]
  },
  {
   "cell_type": "code",
   "execution_count": 16,
   "id": "f3fcc5db-eaae-4e12-b62b-7e3a419f3416",
   "metadata": {},
   "outputs": [
    {
     "data": {
      "text/plain": [
       "f2 (generic function with 1 method)"
      ]
     },
     "execution_count": 16,
     "metadata": {},
     "output_type": "execute_result"
    }
   ],
   "source": [
    "function _f(i)\n",
    "    println(\"Threadid: \",Threads.threadid(), \" \", i, \" direct\")\n",
    "    sleep(1)\n",
    "    println(\"Threadid: \",Threads.threadid(), \" \", i, \" sleep 1\")\n",
    "    sleep(1)\n",
    "    println(\"Threadid: \",Threads.threadid(), \" \", i, \" sleep 2\")\n",
    "end\n",
    "function f1(x)\n",
    "    for i in x\n",
    "        Threads.@spawn _f(i)\n",
    "    end\n",
    "end\n",
    "function f2(x)\n",
    "    @sync for i in x\n",
    "        Threads.@spawn _f(i)\n",
    "    end\n",
    "end"
   ]
  },
  {
   "cell_type": "code",
   "execution_count": 17,
   "id": "0f81d2ae-0e59-4eac-a8a7-8ced5a45f710",
   "metadata": {},
   "outputs": [
    {
     "name": "stdout",
     "output_type": "stream",
     "text": [
      "Threadid: 2 2 direct\n",
      "Threadid: 3 1 direct\n",
      "Threadid: 3 1 direct\n",
      "Threadid: 4 2 direct\n",
      "  0.000022 seconds (10 allocations: 1.156 KiB)\n"
     ]
    }
   ],
   "source": [
    "# 发现了一个有趣的现象\n",
    "# 整个for-loop的多线程任务分配（不是执行）是一次完成的\n",
    "f1(1:2); @time f1(1:2)"
   ]
  },
  {
   "cell_type": "code",
   "execution_count": 18,
   "id": "6b641a7d-e0d3-464b-aaff-3ce14e4462fd",
   "metadata": {},
   "outputs": [
    {
     "name": "stdout",
     "output_type": "stream",
     "text": [
      "Threadid: 2 1 direct\n",
      "Threadid: 3 2 direct\n",
      "Threadid: 2 2 sleep 1\n",
      "Threadid: 6 1 sleep 1\n",
      "Threadid: 3 2 sleep 1\n",
      "Threadid: 4 1 sleep 1\n",
      "Threadid: 2 1 sleep 1\n",
      "Threadid: 5 2 sleep 1\n",
      "Threadid: 4 1 sleep 2\n",
      "Threadid: 2 2 sleep 2\n",
      "Threadid: 6 1 sleep 2\n",
      "Threadid: 3 2 sleep 2\n",
      "Threadid: 5 2 sleep 2\n",
      "Threadid: 2 1 sleep 2\n",
      "Threadid: 4 2 direct\n",
      "Threadid: 2 1 direct\n",
      "Threadid: 4 2 sleep 1\n",
      "Threadid: 2 1 sleep 1\n",
      "Threadid: 4 2 sleep 2\n",
      "Threadid: 2 1 sleep 2\n",
      "  2.032554 seconds (744 allocations: 45.203 KiB)\n"
     ]
    }
   ],
   "source": [
    "f2(1:2); @time f2(1:2)"
   ]
  },
  {
   "cell_type": "markdown",
   "id": "31391b76-136c-4fff-b5dd-6ba0fc0f5ac8",
   "metadata": {},
   "source": [
    "### 数据竞争与锁"
   ]
  },
  {
   "cell_type": "markdown",
   "id": "3623da4b-c99b-4ed3-a228-a14b595a3b0a",
   "metadata": {},
   "source": [
    "在多线程的场景下，同时写入会存在数据竞争，导致结果出现错误，下图是[JohnnyChen](https://johnnychen94.github.io/Julia_and_its_applications/6_2_parallel_intro.jl.html)画的，如果两个线程同时写入，就会导致结果与真实结果不一致。\n",
    "\n",
    "解决方法有：（1）加锁🔒；（2）使用线程上下文避免数据竞争；（3）原子操作；\n",
    "\n",
    "+ 加锁：当一个变量正在被写入时，它会被锁定，下一个线程必须等待该线程写入完成后才能写入\n",
    "+ 线程上下文：每一个线程的计算结果单独用一个变量来累加，最后所有线程的结果再相加就是最后的计算结果，这样就不会出现数据竞争\n",
    "+ 原子操作：对`Threads.Atomic{T}(0)`通过`Threads.atomic_add!()`等操作，可以自动解决数据竞争问题，原子操作就是为了解决数据竞争而存在的\n",
    "    + 原子操作貌似只能对处理原子类型(Primitive type: Int, Float, ...)，抽象类型(Abstract type: Real, Integer, etc.)无法使用，所以使用Optim.jl中的自动微分时无法使用\n",
    "    + > \"Julia 支持访问和修改值的原子操作，即以一种线程安全的方式来避免竞态条件。一个值（必须是基本类型的，primitive type）可以通过 Threads.Atomic 来包装起来从而支持原子操作\"\n",
    "      \n",
    "*Notes.* 加锁可能会有性能损耗，使用线程上下文比较方便"
   ]
  },
  {
   "cell_type": "markdown",
   "id": "b094c698-75a2-4b15-9539-128609c8d180",
   "metadata": {},
   "source": [
    "<img src=\"https://raw.githubusercontent.com/xuestrange/picGoUploader/main/img/20231010171913.png\" width=800 height=250>"
   ]
  },
  {
   "cell_type": "code",
   "execution_count": 5,
   "id": "fc8c4f17-9dba-43f3-b5be-767ad6460dd6",
   "metadata": {},
   "outputs": [],
   "source": [
    "using BenchmarkTools"
   ]
  },
  {
   "cell_type": "code",
   "execution_count": 7,
   "id": "ba4d858c-95f1-4746-b2a3-2aa48ed58b91",
   "metadata": {},
   "outputs": [
    {
     "name": "stdout",
     "output_type": "stream",
     "text": [
      "  4.083 μs (50 allocations: 4.26 KiB)\n"
     ]
    },
    {
     "data": {
      "text/plain": [
       "55.000000"
      ]
     },
     "execution_count": 7,
     "metadata": {},
     "output_type": "execute_result"
    }
   ],
   "source": [
    "# 加锁\n",
    "function test_lock()\n",
    "    a = 1:10\n",
    "    l = ReentrantLock()\n",
    "    rst = 0.0\n",
    "    Threads.@threads for i in a\n",
    "        lock(l) do \n",
    "            rst += i\n",
    "        end\n",
    "    end\n",
    "    return rst\n",
    "end\n",
    "@btime test_lock()"
   ]
  },
  {
   "cell_type": "code",
   "execution_count": 10,
   "id": "76028d80-0aff-47d3-9b3a-b6d51eac8f46",
   "metadata": {},
   "outputs": [
    {
     "name": "stdout",
     "output_type": "stream",
     "text": [
      "  3.337 μs (37 allocations: 3.98 KiB)\n"
     ]
    },
    {
     "data": {
      "text/plain": [
       "55"
      ]
     },
     "execution_count": 10,
     "metadata": {},
     "output_type": "execute_result"
    }
   ],
   "source": [
    "# 原子操作\n",
    "function test_atomic()\n",
    "    a = 1:10\n",
    "    rst = Threads.Atomic{Int64}(0)\n",
    "    Threads.@threads for i in a\n",
    "        Threads.atomic_add!(rst, i)\n",
    "    end\n",
    "    return rst[]\n",
    "end\n",
    "@btime test_atomic()"
   ]
  },
  {
   "cell_type": "markdown",
   "id": "8367b56e-2cca-4cb2-b57c-c3326f407cfb",
   "metadata": {},
   "source": [
    "### Overhead"
   ]
  },
  {
   "attachments": {},
   "cell_type": "markdown",
   "id": "ed682535-85ef-4bff-be59-cc3415c8c076",
   "metadata": {},
   "source": [
    "The cost of creating and scheduling the tasks, ~20微妙 / per task\n",
    "+ https://discourse.julialang.org/t/how-to-use-multithreading-appropriately/105154"
   ]
  },
  {
   "cell_type": "markdown",
   "id": "672de9aa-b952-418d-a5f1-e74d8a983cbb",
   "metadata": {},
   "source": [
    "(TODO)"
   ]
  },
  {
   "cell_type": "markdown",
   "id": "3944128c-3f92-4e36-a7bb-f44be5cf0a43",
   "metadata": {},
   "source": [
    "### 案例：Logit模型"
   ]
  },
  {
   "cell_type": "code",
   "execution_count": 1,
   "id": "3b9ea349-4115-44b7-b1d6-796ae973953a",
   "metadata": {},
   "outputs": [
    {
     "name": "stdout",
     "output_type": "stream",
     "text": [
      "Iter 0 ---> f_val: 2772.588722 g_norm: 1123.279946\n",
      "\t x_hat: [0.000000, 0.000000, 0.000000, 0.000000]\n",
      "Iter 1 ---> f_val: 949.441080 g_norm: 27.357037\n",
      "\t x_hat: [1.325210, 2.549662, -3.970691, 5.016058]\n",
      "Iter 2 ---> f_val: 914.524226 g_norm: 8.540237\n",
      "\t x_hat: [1.027858, 2.025966, -3.214843, 4.031323]\n",
      "Iter 3 ---> f_val: 912.105887 g_norm: 0.245877\n",
      "\t x_hat: [0.935645, 1.869017, -2.999550, 3.742520]\n",
      "Iter 4 ---> f_val: 912.105455 g_norm: 0.000084\n",
      "\t x_hat: [0.934208, 1.867128, -2.998153, 3.739742]\n",
      "Iter 5 ---> f_val: 912.105455 g_norm: 0.000000\n",
      "\t x_hat: [0.934208, 1.867129, -2.998154, 3.739743]\n"
     ]
    },
    {
     "data": {
      "text/plain": [
       " * Status: success\n",
       "\n",
       " * Candidate solution\n",
       "    Final objective value:     9.121055e+02\n",
       "\n",
       " * Found with\n",
       "    Algorithm:     Newton's Method\n",
       "\n",
       " * Convergence measures\n",
       "    |x - x'|               = 8.99e-07 ≰ 0.0e+00\n",
       "    |x - x'|/|x'|          = 2.40e-07 ≰ 0.0e+00\n",
       "    |f(x) - f(x')|         = 3.83e-11 ≰ 0.0e+00\n",
       "    |f(x) - f(x')|/|f(x')| = 4.20e-14 ≰ 0.0e+00\n",
       "    |g(x)|                 = 6.96e-12 ≤ 1.0e-08\n",
       "\n",
       " * Work counters\n",
       "    Seconds run:   0  (vs limit Inf)\n",
       "    Iterations:    5\n",
       "    f(x) calls:    13\n",
       "    ∇f(x) calls:   13\n",
       "    ∇²f(x) calls:  5\n"
      ]
     },
     "execution_count": 1,
     "metadata": {},
     "output_type": "execute_result"
    }
   ],
   "source": [
    "using LogExpFunctions, Optim\n",
    "using Random, Distributions\n",
    "using LinearAlgebra:dot\n",
    "using BenchmarkTools\n",
    "const seed = Random.seed!(2022 - 1 - 3)\n",
    "BenchmarkTools.DEFAULT_PARAMETERS.samples = 10\n",
    "\n",
    "begin\n",
    "    Inds = 1000\n",
    "    nX = 4\n",
    "    Tlen = rand([15, 10, 20], Inds)\n",
    "    X = Vector{Matrix{Float64}}()\n",
    "    for i in eachindex(Tlen)\n",
    "        push!(X, randn(seed, (nX, Tlen[i])))\n",
    "    end\n",
    "    beta = [1.0, 2, -3, 4]\n",
    "    y = Vector{Vector{Int64}}()\n",
    "    for i in 1:Inds\n",
    "        Xi = X[i]\n",
    "        yi = Vector{Int64}()\n",
    "        for t in axes(Xi, 1)\n",
    "            U = @views dot(Xi[:, t], beta)\n",
    "            push!(yi, rand(BernoulliLogit(-U)))\n",
    "        end\n",
    "        push!(y, yi)\n",
    "    end\n",
    "end\n",
    "\n",
    "function nll_threading(X, beta::Vector{T}, y) where {T <: Real}\n",
    "    # 使用线程上下文\n",
    "    ind_ll = zeros(T, Threads.nthreads())\n",
    "    Threads.@threads for i in eachindex(y)\n",
    "        Xi = X[i]\n",
    "        yi = y[i] \n",
    "        for t in axes(Xi, 1)\n",
    "            U = @views dot(Xi[:, t], beta)\n",
    "            ind_ll[Threads.threadid()] += logpdf(BernoulliLogit(-U), yi[t])\n",
    "        end\n",
    "    end\n",
    "    return - sum(ind_ll)\n",
    "end\n",
    "\n",
    "function diary(tr)\n",
    "        println(\"Iter \", tr.iteration, \" ---> f_val: \", tr.value, \" g_norm: \", tr.g_norm)\n",
    "        println(\"\\t x_hat: \", tr.metadata[\"x\"])\n",
    "        false # 不知道为啥要加false\n",
    "end\n",
    "\n",
    "fit_optim = optimize(\n",
    "    pars -> nll_threading(X, pars, y),\n",
    "    zeros(4),\n",
    "    Newton(),\n",
    "    # 使用callback就必须关闭store_trace\n",
    "    Optim.Options(show_trace = false, extended_trace = true, store_trace = false, callback = diary);\n",
    "    autodiff = :forward\n",
    ")\n",
    "\n",
    "# fit_optim.minimizer"
   ]
  }
 ],
 "metadata": {
  "kernelspec": {
   "display_name": "Julia 1.11.2",
   "language": "julia",
   "name": "julia-1.11"
  },
  "language_info": {
   "file_extension": ".jl",
   "mimetype": "application/julia",
   "name": "julia",
   "version": "1.11.2"
  },
  "latex_envs": {
   "LaTeX_envs_menu_present": true,
   "autoclose": true,
   "autocomplete": true,
   "bibliofile": "biblio.bib",
   "cite_by": "apalike",
   "current_citInitial": 1,
   "eqLabelWithNumbers": true,
   "eqNumInitial": 1,
   "hotkeys": {
    "equation": "Ctrl-E",
    "itemize": "Ctrl-I"
   },
   "labels_anchors": false,
   "latex_user_defs": false,
   "report_style_numbering": true,
   "user_envs_cfg": false
  },
  "toc": {
   "base_numbering": 1,
   "nav_menu": {},
   "number_sections": true,
   "sideBar": true,
   "skip_h1_title": false,
   "title_cell": "Table of Contents",
   "title_sidebar": "Contents",
   "toc_cell": false,
   "toc_position": {
    "height": "885.6px",
    "left": "51px",
    "top": "180px",
    "width": "341.323px"
   },
   "toc_section_display": true,
   "toc_window_display": true
  }
 },
 "nbformat": 4,
 "nbformat_minor": 5
}
