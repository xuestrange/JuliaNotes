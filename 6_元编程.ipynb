{
 "cells": [
  {
   "cell_type": "markdown",
   "id": "5850845b",
   "metadata": {},
   "source": [
    "# 元编程（Meta-Programming）"
   ]
  },
  {
   "cell_type": "markdown",
   "id": "4877d89c",
   "metadata": {},
   "source": [
    "什么是元编程呢？\n",
    "\n",
    "简而言之，代码是可以操作的对象，我可以通过元编程来**自动生成代码， 并执行代码**"
   ]
  },
  {
   "cell_type": "markdown",
   "id": "287f4d86",
   "metadata": {},
   "source": [
    "## 创建表达式"
   ]
  },
  {
   "cell_type": "markdown",
   "id": "05172474",
   "metadata": {},
   "source": [
    "### 通过字符串创建表达式"
   ]
  },
  {
   "cell_type": "code",
   "execution_count": 1,
   "id": "61972388",
   "metadata": {},
   "outputs": [
    {
     "data": {
      "text/plain": [
       ":(1 + 1)"
      ]
     },
     "execution_count": 1,
     "metadata": {},
     "output_type": "execute_result"
    }
   ],
   "source": [
    "ex1 = Meta.parse(\"1 + 1\")"
   ]
  },
  {
   "cell_type": "code",
   "execution_count": 2,
   "id": "1e2a5cbc",
   "metadata": {},
   "outputs": [
    {
     "data": {
      "text/plain": [
       "2"
      ]
     },
     "execution_count": 2,
     "metadata": {},
     "output_type": "execute_result"
    }
   ],
   "source": [
    "eval(ex1)"
   ]
  },
  {
   "cell_type": "code",
   "execution_count": 3,
   "id": "8221194a-7c9e-4c00-b73f-c8b7935f3614",
   "metadata": {},
   "outputs": [
    {
     "data": {
      "text/plain": [
       ":(1 + aaaa)"
      ]
     },
     "execution_count": 3,
     "metadata": {},
     "output_type": "execute_result"
    }
   ],
   "source": [
    "ex2 = Meta.parse(\"1 + aaaa\")\n",
    "ex2 # 虽然我们不知道a是几，如果scope中aaaa有定义，那么ex2是可以执行的"
   ]
  },
  {
   "cell_type": "code",
   "execution_count": 4,
   "id": "2a960302-c91c-4d76-af14-96a9ac68a388",
   "metadata": {},
   "outputs": [
    {
     "ename": "LoadError",
     "evalue": "UndefVarError: `aaaa` not defined",
     "output_type": "error",
     "traceback": [
      "UndefVarError: `aaaa` not defined",
      "",
      "Stacktrace:",
      " [1] top-level scope",
      "   @ none:1",
      " [2] eval",
      "   @ .\\boot.jl:385 [inlined]",
      " [3] eval(x::Expr)",
      "   @ Base.MainInclude .\\client.jl:491",
      " [4] top-level scope",
      "   @ In[4]:1"
     ]
    }
   ],
   "source": [
    "eval(ex2)"
   ]
  },
  {
   "cell_type": "code",
   "execution_count": 5,
   "id": "d543ae2a-a12b-4d70-9bf1-603c493ebd8e",
   "metadata": {},
   "outputs": [
    {
     "data": {
      "text/plain": [
       "101"
      ]
     },
     "execution_count": 5,
     "metadata": {},
     "output_type": "execute_result"
    }
   ],
   "source": [
    "aaaa = 100\n",
    "eval(ex2)"
   ]
  },
  {
   "cell_type": "code",
   "execution_count": 6,
   "id": "7b9bf90c",
   "metadata": {},
   "outputs": [
    {
     "name": "stdout",
     "output_type": "stream",
     "text": [
      "Expr\n",
      "  head: Symbol call\n",
      "  args: Array{Any}((3,))\n",
      "    1: Symbol +\n",
      "    2: Int64 1\n",
      "    3: Int64 1\n"
     ]
    }
   ],
   "source": [
    "dump(ex1)"
   ]
  },
  {
   "cell_type": "markdown",
   "id": "99830f8b",
   "metadata": {},
   "source": [
    "### 通过`Expr`手动创建"
   ]
  },
  {
   "cell_type": "code",
   "execution_count": 7,
   "id": "6e385413",
   "metadata": {},
   "outputs": [
    {
     "data": {
      "text/plain": [
       ":(1 + 1)"
      ]
     },
     "execution_count": 7,
     "metadata": {},
     "output_type": "execute_result"
    }
   ],
   "source": [
    "Expr(:call, :+, 1, 1)"
   ]
  },
  {
   "cell_type": "markdown",
   "id": "e22ce11c",
   "metadata": {},
   "source": [
    "### 通过`quote`创建多个表达式"
   ]
  },
  {
   "cell_type": "code",
   "execution_count": 8,
   "id": "400ad89d",
   "metadata": {},
   "outputs": [
    {
     "data": {
      "text/plain": [
       "quote\n",
       "    \u001b[90m#= In[8]:2 =#\u001b[39m\n",
       "    x = 1\n",
       "    \u001b[90m#= In[8]:3 =#\u001b[39m\n",
       "    y = 2\n",
       "end"
      ]
     },
     "execution_count": 8,
     "metadata": {},
     "output_type": "execute_result"
    }
   ],
   "source": [
    "ex3 = quote\n",
    "    x = 1\n",
    "    y = 2\n",
    "end"
   ]
  },
  {
   "cell_type": "code",
   "execution_count": 9,
   "id": "221b01f2",
   "metadata": {},
   "outputs": [
    {
     "name": "stdout",
     "output_type": "stream",
     "text": [
      "Expr\n",
      "  head: Symbol block\n",
      "  args: Array{Any}((4,))\n",
      "    1: LineNumberNode\n",
      "      line: Int64 2\n",
      "      file: Symbol In[8]\n",
      "    2: Expr\n",
      "      head: Symbol =\n",
      "      args: Array{Any}((2,))\n",
      "        1: Symbol x\n",
      "        2: Int64 1\n",
      "    3: LineNumberNode\n",
      "      line: Int64 3\n",
      "      file: Symbol In[8]\n",
      "    4: Expr\n",
      "      head: Symbol =\n",
      "      args: Array{Any}((2,))\n",
      "        1: Symbol y\n",
      "        2: Int64 2\n"
     ]
    }
   ],
   "source": [
    "dump(ex3)"
   ]
  },
  {
   "cell_type": "markdown",
   "id": "fc773eba",
   "metadata": {},
   "source": [
    "可以看出`quote`通过`array`嵌套了多个表达式， 他的`head`是`:block`（中间有两行是注释）"
   ]
  },
  {
   "cell_type": "code",
   "execution_count": 10,
   "id": "0112e84c",
   "metadata": {},
   "outputs": [
    {
     "data": {
      "text/plain": [
       ":($(Expr(:escape, quote\n",
       "    \u001b[90m#= In[8]:2 =#\u001b[39m\n",
       "    x = 1\n",
       "    \u001b[90m#= In[8]:3 =#\u001b[39m\n",
       "    y = 2\n",
       "end)))"
      ]
     },
     "execution_count": 10,
     "metadata": {},
     "output_type": "execute_result"
    }
   ],
   "source": [
    "esc(ex3)"
   ]
  },
  {
   "cell_type": "markdown",
   "id": "57682d9e",
   "metadata": {},
   "source": [
    "### 直接通过`:()`创建"
   ]
  },
  {
   "cell_type": "code",
   "execution_count": 11,
   "id": "1f3cf7a3",
   "metadata": {},
   "outputs": [
    {
     "data": {
      "text/plain": [
       "true"
      ]
     },
     "execution_count": 11,
     "metadata": {},
     "output_type": "execute_result"
    }
   ],
   "source": [
    ":(1+1) == Expr(:call, :+, 1, 1)"
   ]
  },
  {
   "cell_type": "code",
   "execution_count": 12,
   "id": "8ff6bc74",
   "metadata": {},
   "outputs": [
    {
     "data": {
      "text/plain": [
       ":(2 + 3a + b)"
      ]
     },
     "execution_count": 12,
     "metadata": {},
     "output_type": "execute_result"
    }
   ],
   "source": [
    "ex2 = :(2 + 3 * a + b) "
   ]
  },
  {
   "cell_type": "code",
   "execution_count": 13,
   "id": "f4787a4a",
   "metadata": {},
   "outputs": [
    {
     "name": "stdout",
     "output_type": "stream",
     "text": [
      "Expr\n",
      "  head: Symbol call\n",
      "  args: Array{Any}((4,))\n",
      "    1: Symbol +\n",
      "    2: Int64 2\n",
      "    3: Expr\n",
      "      head: Symbol call\n",
      "      args: Array{Any}((3,))\n",
      "        1: Symbol *\n",
      "        2: Int64 3\n",
      "        3: Symbol a\n",
      "    4: Symbol b\n"
     ]
    }
   ],
   "source": [
    "dump(ex2)"
   ]
  },
  {
   "cell_type": "markdown",
   "id": "7a9ac11b",
   "metadata": {},
   "source": [
    "julia的表达式通常尽可以包含`符号、子表达式、字面值`， 上式中`+, b`是符号， `:(3 * a)`是子表达式， `2`是字面值，上式是一个嵌套的表达式， **`a, b`的值还不知道， 在这里被当做符号对待**\n",
    "\n",
    "<font style=\"color:purple;font-size:14pt;\">如果`a, b`已知， 那么通过`$`进行插值， 可以使构造的表达式中的`a, b`替换为变量`a, b`的实际值</font>"
   ]
  },
  {
   "cell_type": "code",
   "execution_count": 14,
   "id": "f898da26",
   "metadata": {},
   "outputs": [
    {
     "data": {
      "text/plain": [
       ":(2 + 3a + b)"
      ]
     },
     "execution_count": 14,
     "metadata": {},
     "output_type": "execute_result"
    }
   ],
   "source": [
    "a = 1\n",
    "b = 1\n",
    ":(2 + 3 * a + b) # no $"
   ]
  },
  {
   "cell_type": "code",
   "execution_count": 15,
   "id": "495207a4",
   "metadata": {},
   "outputs": [
    {
     "data": {
      "text/plain": [
       "6"
      ]
     },
     "execution_count": 15,
     "metadata": {},
     "output_type": "execute_result"
    }
   ],
   "source": [
    "# 仍然是可以求值的\n",
    "eval(:(2 + 3 * a + b))"
   ]
  },
  {
   "cell_type": "code",
   "execution_count": 16,
   "id": "f3b9dc8e",
   "metadata": {},
   "outputs": [
    {
     "data": {
      "text/plain": [
       ":(2 + 3 * 1 + 1)"
      ]
     },
     "execution_count": 16,
     "metadata": {},
     "output_type": "execute_result"
    }
   ],
   "source": [
    ":(2 + 3 * $a + $b) #！！ with $ "
   ]
  },
  {
   "cell_type": "code",
   "execution_count": 17,
   "id": "37132445",
   "metadata": {},
   "outputs": [
    {
     "data": {
      "text/plain": [
       "6"
      ]
     },
     "execution_count": 17,
     "metadata": {},
     "output_type": "execute_result"
    }
   ],
   "source": [
    "# 很自然的可以求值\n",
    "eval(:(2 + 3 * $a + $b))"
   ]
  },
  {
   "cell_type": "code",
   "execution_count": 18,
   "id": "eb1d8359",
   "metadata": {},
   "outputs": [
    {
     "data": {
      "text/plain": [
       ":(f(1, x, y, z))"
      ]
     },
     "execution_count": 18,
     "metadata": {},
     "output_type": "execute_result"
    }
   ],
   "source": [
    "# splatting interploration\n",
    "\n",
    "args = [:x, :y, :z]\n",
    ":(f(1, $(args...)))"
   ]
  },
  {
   "cell_type": "markdown",
   "id": "e3a8f699",
   "metadata": {},
   "source": [
    "可以看出来整个工作的流程就是， 利用`Expr`表达式生成代码， 然后使用`eval`函数求值， 达到自动生成代码， 运行代码的目的"
   ]
  },
  {
   "cell_type": "markdown",
   "id": "7e100e95",
   "metadata": {},
   "source": [
    "## 宏"
   ]
  },
  {
   "cell_type": "markdown",
   "id": "e594531b",
   "metadata": {},
   "source": [
    "宏像是一个函数， 但是又与函数不太相同， **宏会返回一个Expr表达式， 这个表达式不经过`eval`直接自动运行**, `@macroexpand`可以看到生成的表达式。\n",
    "\n",
    "宏相当于：\n",
    "1. 构造一个函数`function`，该函数的返回为表达式\n",
    "2. 通过`eval()`执行该表达式\n",
    "\n",
    "宏的作用：按照一定规则重构代码，如`@threads`...\n",
    "+ Domain Specific Language, e.g., JuMP.jl, Turing.jl"
   ]
  },
  {
   "cell_type": "markdown",
   "id": "0959f50d",
   "metadata": {},
   "source": [
    "### 定义宏"
   ]
  },
  {
   "cell_type": "code",
   "execution_count": 19,
   "id": "a7d6956e",
   "metadata": {},
   "outputs": [
    {
     "data": {
      "text/plain": [
       "@sayhello (macro with 1 method)"
      ]
     },
     "execution_count": 19,
     "metadata": {},
     "output_type": "execute_result"
    }
   ],
   "source": [
    "macro sayhello()\n",
    "    return :(println(\"Hello World!\"))\n",
    "end"
   ]
  },
  {
   "cell_type": "code",
   "execution_count": 20,
   "id": "78f41a00",
   "metadata": {},
   "outputs": [
    {
     "name": "stdout",
     "output_type": "stream",
     "text": [
      "Hello World!\n"
     ]
    }
   ],
   "source": [
    "@sayhello"
   ]
  },
  {
   "cell_type": "code",
   "execution_count": 21,
   "id": "0e5646ff",
   "metadata": {},
   "outputs": [
    {
     "data": {
      "text/plain": [
       "@sayhello1 (macro with 1 method)"
      ]
     },
     "execution_count": 21,
     "metadata": {},
     "output_type": "execute_result"
    }
   ],
   "source": [
    "macro sayhello0(name)\n",
    "    return :(println(\"Hello World! \", name))\n",
    "end\n",
    "macro sayhello1(name)\n",
    "    return :(println(\"Hello World! \", $name))\n",
    "end"
   ]
  },
  {
   "cell_type": "code",
   "execution_count": 22,
   "id": "a40e266f",
   "metadata": {},
   "outputs": [
    {
     "data": {
      "text/plain": [
       ":(Main.println(\"Hello World! \", Main.name))"
      ]
     },
     "execution_count": 22,
     "metadata": {},
     "output_type": "execute_result"
    }
   ],
   "source": [
    "@macroexpand @sayhello0 \"XJZ\""
   ]
  },
  {
   "cell_type": "code",
   "execution_count": 23,
   "id": "731c2657",
   "metadata": {},
   "outputs": [
    {
     "data": {
      "text/plain": [
       ":(Main.println(\"Hello World! \", \"XJZ\"))"
      ]
     },
     "execution_count": 23,
     "metadata": {},
     "output_type": "execute_result"
    }
   ],
   "source": [
    "@macroexpand @sayhello1 \"XJZ\""
   ]
  },
  {
   "cell_type": "markdown",
   "id": "77a65fb8",
   "metadata": {},
   "source": [
    "*Notes*\n",
    "+ `sayhello1(name)`这个宏中用到了插值`$name`, 表明宏将`name`这个位置参数的值插入到构造的表达式中\n",
    "+ `sayhello0(name)`这个宏中直接使用`name`, 则宏将`name`理解为symbol加入到的表达式中，实际执行时为`Main.name`，即全局变量\n",
    "\n",
    "因此，在构造`Expr`的过程中，使用任何函数参数都要进行插值🐮"
   ]
  },
  {
   "cell_type": "markdown",
   "id": "d8a4b87c",
   "metadata": {},
   "source": [
    "### 理解宏的运行"
   ]
  },
  {
   "cell_type": "code",
   "execution_count": 24,
   "id": "1b727b30",
   "metadata": {},
   "outputs": [
    {
     "data": {
      "text/plain": [
       "@twostep (macro with 1 method)"
      ]
     },
     "execution_count": 24,
     "metadata": {},
     "output_type": "execute_result"
    }
   ],
   "source": [
    "macro twostep(arg...)\n",
    "    println(\"I execute at parse time. The argument is: \", arg...)\n",
    "    return :(println(\"I execute at runtime. The argument is: \", $(arg...)))\n",
    "end"
   ]
  },
  {
   "cell_type": "code",
   "execution_count": 25,
   "id": "e399b85d",
   "metadata": {},
   "outputs": [
    {
     "name": "stdout",
     "output_type": "stream",
     "text": [
      "I execute at parse time. The argument is: 123\n"
     ]
    },
    {
     "data": {
      "text/plain": [
       ":(Main.println(\"I execute at runtime. The argument is: \", 1, 2, 3))"
      ]
     },
     "execution_count": 25,
     "metadata": {},
     "output_type": "execute_result"
    }
   ],
   "source": [
    "@macroexpand @twostep(1, 2, 3)"
   ]
  },
  {
   "cell_type": "markdown",
   "id": "d60d288e",
   "metadata": {},
   "source": [
    "可以看出， 仅生成表达式时， 会执行中间定义的命令，即**生成表达式也属于执行命令**\n",
    "\n",
    "执行宏命令时， 会运行宏内部的的所有语句命令， 以及\"`eval`\"该宏返回的表达式"
   ]
  },
  {
   "cell_type": "code",
   "execution_count": 26,
   "id": "9f83455c",
   "metadata": {},
   "outputs": [
    {
     "name": "stdout",
     "output_type": "stream",
     "text": [
      "I execute at parse time. The argument is: (1, 2, 3)\n",
      "I execute at runtime. The argument is: (1, 2, 3)\n"
     ]
    }
   ],
   "source": [
    "@twostep 1, 2, 3"
   ]
  },
  {
   "cell_type": "markdown",
   "id": "e78809fb",
   "metadata": {},
   "source": [
    "### 卫生宏\n",
    "\n",
    "卫生宏，英文为`Hygienic Macro`， 指宏内定义的变量与宏运行环境中的变量不冲突， Julia默认帮你做到了这一点(默认定义的变量为`local`)， 但是有些情况我们希望宏能够修改运行环境中的一些变量， 那么就可以使用`global`，声明该变量为全局变量， 这样可以修改全局作用域中的变量。\n",
    "\n",
    "然而存在一种情况， 例如函数内使用了宏， 这个宏想修改函数内的变量的值而不是全局作用域的值， 这样怎么搞？， 答`esc()`"
   ]
  },
  {
   "cell_type": "code",
   "execution_count": 27,
   "id": "e8b541dd",
   "metadata": {},
   "outputs": [
    {
     "data": {
      "text/plain": [
       "(2, 0.1000, 0.2000)"
      ]
     },
     "execution_count": 27,
     "metadata": {},
     "output_type": "execute_result"
    }
   ],
   "source": [
    "# 局部变量， 运行环境内的变量没有任何影响\n",
    "# 默认quote内定义的为局部变量\n",
    "x = 0.1\n",
    "y = 0.2\n",
    "macro envtest1()\n",
    "    return quote\n",
    "         x = 1 # 前边隐藏了local\n",
    "         y = 2 # 前边隐藏了local\n",
    "    end\n",
    "end\n",
    "(@envtest1, x, y)"
   ]
  },
  {
   "cell_type": "code",
   "execution_count": 28,
   "id": "cb3acef3",
   "metadata": {},
   "outputs": [
    {
     "data": {
      "text/plain": [
       "quote\n",
       "    \u001b[90m#= In[27]:7 =#\u001b[39m\n",
       "    var\"#54#x\" = 1\n",
       "    \u001b[90m#= In[27]:8 =#\u001b[39m\n",
       "    var\"#55#y\" = 2\n",
       "end"
      ]
     },
     "execution_count": 28,
     "metadata": {},
     "output_type": "execute_result"
    }
   ],
   "source": [
    "# 可以看出Julia对局部变量进行了重命名保证唯一性， 这样局quote中定义的变量就不会与全局变量冲突了\n",
    "@macroexpand @envtest1"
   ]
  },
  {
   "cell_type": "code",
   "execution_count": 29,
   "id": "b0f4a29d",
   "metadata": {},
   "outputs": [
    {
     "data": {
      "text/plain": [
       "(2, 1, 0.2000)"
      ]
     },
     "execution_count": 29,
     "metadata": {},
     "output_type": "execute_result"
    }
   ],
   "source": [
    "# 另一种写法， 修改全局变量x的值， y为局部变量\n",
    "x = 0.1\n",
    "y = 0.2\n",
    "macro envtest2()\n",
    "    expr = quote\n",
    "         global x = 1\n",
    "         y = 2\n",
    "    end\n",
    "    return expr\n",
    "end\n",
    "(@envtest2, x, y)"
   ]
  },
  {
   "cell_type": "code",
   "execution_count": 30,
   "id": "6424aa7f",
   "metadata": {},
   "outputs": [
    {
     "data": {
      "text/plain": [
       "quote\n",
       "    \u001b[90m#= In[29]:6 =#\u001b[39m\n",
       "    global x = 1\n",
       "    \u001b[90m#= In[29]:7 =#\u001b[39m\n",
       "    var\"#57#y\" = 2\n",
       "end"
      ]
     },
     "execution_count": 30,
     "metadata": {},
     "output_type": "execute_result"
    }
   ],
   "source": [
    "# 仅仅y被重命名了\n",
    "@macroexpand @envtest2"
   ]
  },
  {
   "cell_type": "code",
   "execution_count": 31,
   "id": "c29769d7",
   "metadata": {},
   "outputs": [
    {
     "data": {
      "text/plain": [
       "@envtest3 (macro with 1 method)"
      ]
     },
     "execution_count": 31,
     "metadata": {},
     "output_type": "execute_result"
    }
   ],
   "source": [
    "# 以纳秒（ns）的形式的获取当前时间， 内置函数\n",
    "time_ns()\n",
    "macro envtest3(ex)\n",
    "    return quote\n",
    "        t1 = time_ns()\n",
    "        $(ex)\n",
    "        t2 = time_ns()\n",
    "        elapsed = (t2 - t1)/1e9\n",
    "        println(\"elapsed time is \", elapsed)\n",
    "        println(t1, \"\\n\", t2)\n",
    "    end\n",
    "end"
   ]
  },
  {
   "cell_type": "code",
   "execution_count": 32,
   "id": "b611b355",
   "metadata": {},
   "outputs": [
    {
     "data": {
      "text/plain": [
       "quote\n",
       "    \u001b[90m#= In[31]:5 =#\u001b[39m\n",
       "    var\"#58#t1\" = Main.time_ns()\n",
       "    \u001b[90m#= In[31]:6 =#\u001b[39m\n",
       "    var\"#59#z\" = 1 + 2\n",
       "    \u001b[90m#= In[31]:7 =#\u001b[39m\n",
       "    var\"#60#t2\" = Main.time_ns()\n",
       "    \u001b[90m#= In[31]:8 =#\u001b[39m\n",
       "    var\"#61#elapsed\" = (var\"#60#t2\" - var\"#58#t1\") / 1000000000.0000\n",
       "    \u001b[90m#= In[31]:9 =#\u001b[39m\n",
       "    Main.println(\"elapsed time is \", var\"#61#elapsed\")\n",
       "    \u001b[90m#= In[31]:10 =#\u001b[39m\n",
       "    Main.println(var\"#58#t1\", \"\\n\", var\"#60#t2\")\n",
       "end"
      ]
     },
     "execution_count": 32,
     "metadata": {},
     "output_type": "execute_result"
    }
   ],
   "source": [
    "@macroexpand @envtest3 z = 1 + 2 # 这里的z竟然也是局部变量， 相当于把z加入了quote中， 也是在quote中定义为局部变量"
   ]
  },
  {
   "cell_type": "code",
   "execution_count": 33,
   "id": "1ad55ea5",
   "metadata": {},
   "outputs": [
    {
     "data": {
      "text/plain": [
       "test_env (generic function with 1 method)"
      ]
     },
     "execution_count": 33,
     "metadata": {},
     "output_type": "execute_result"
    }
   ],
   "source": [
    "function test_env()\n",
    "    t1 = 1\n",
    "    t2 = 2\n",
    "    return t2 + t2\n",
    "end"
   ]
  },
  {
   "cell_type": "code",
   "execution_count": 34,
   "id": "6702d735",
   "metadata": {},
   "outputs": [
    {
     "data": {
      "text/plain": [
       "quote\n",
       "    \u001b[90m#= In[31]:5 =#\u001b[39m\n",
       "    var\"#62#t1\" = Main.time_ns()\n",
       "    \u001b[90m#= In[31]:6 =#\u001b[39m\n",
       "    Main.test_env()\n",
       "    \u001b[90m#= In[31]:7 =#\u001b[39m\n",
       "    var\"#63#t2\" = Main.time_ns()\n",
       "    \u001b[90m#= In[31]:8 =#\u001b[39m\n",
       "    var\"#64#elapsed\" = (var\"#63#t2\" - var\"#62#t1\") / 1000000000.0000\n",
       "    \u001b[90m#= In[31]:9 =#\u001b[39m\n",
       "    Main.println(\"elapsed time is \", var\"#64#elapsed\")\n",
       "    \u001b[90m#= In[31]:10 =#\u001b[39m\n",
       "    Main.println(var\"#62#t1\", \"\\n\", var\"#63#t2\")\n",
       "end"
      ]
     },
     "execution_count": 34,
     "metadata": {},
     "output_type": "execute_result"
    }
   ],
   "source": [
    "@macroexpand @envtest3 test_env()"
   ]
  },
  {
   "cell_type": "markdown",
   "id": "56e7f1f5",
   "metadata": {},
   "source": [
    "看以上宏展开结果， quote中所有宏调用的函数都是`Main.function`，即全局作用域中的函数"
   ]
  },
  {
   "cell_type": "code",
   "execution_count": 35,
   "id": "49fd892c",
   "metadata": {},
   "outputs": [
    {
     "data": {
      "text/plain": [
       "@envtest3 (macro with 1 method)"
      ]
     },
     "execution_count": 35,
     "metadata": {},
     "output_type": "execute_result"
    }
   ],
   "source": [
    "macro envtest3(ex)\n",
    "    return quote\n",
    "        t1 = time_ns()\n",
    "        $(esc(ex))\n",
    "        t2 = time_ns()\n",
    "        elapsed = (t2 - t1)/1e9\n",
    "        println(\"elapsed time is \", elapsed)\n",
    "        println(t1, \"\\n\", t2)\n",
    "    end\n",
    "end"
   ]
  },
  {
   "cell_type": "code",
   "execution_count": 36,
   "id": "a8910921",
   "metadata": {},
   "outputs": [
    {
     "data": {
      "text/plain": [
       "quote\n",
       "    \u001b[90m#= In[35]:3 =#\u001b[39m\n",
       "    var\"#65#t1\" = Main.time_ns()\n",
       "    \u001b[90m#= In[35]:4 =#\u001b[39m\n",
       "    test_env()\n",
       "    \u001b[90m#= In[35]:5 =#\u001b[39m\n",
       "    var\"#66#t2\" = Main.time_ns()\n",
       "    \u001b[90m#= In[35]:6 =#\u001b[39m\n",
       "    var\"#67#elapsed\" = (var\"#66#t2\" - var\"#65#t1\") / 1000000000.0000\n",
       "    \u001b[90m#= In[35]:7 =#\u001b[39m\n",
       "    Main.println(\"elapsed time is \", var\"#67#elapsed\")\n",
       "    \u001b[90m#= In[35]:8 =#\u001b[39m\n",
       "    Main.println(var\"#65#t1\", \"\\n\", var\"#66#t2\")\n",
       "end"
      ]
     },
     "execution_count": 36,
     "metadata": {},
     "output_type": "execute_result"
    }
   ],
   "source": [
    "@macroexpand @envtest3 test_env()"
   ]
  },
  {
   "cell_type": "markdown",
   "id": "4119fdc0",
   "metadata": {},
   "source": [
    "加入`esc`以后， `Main.`被去掉了， 即**当前作用域能看到的`test_env()`我都可以去调用**"
   ]
  },
  {
   "cell_type": "code",
   "execution_count": 37,
   "id": "45798199",
   "metadata": {},
   "outputs": [
    {
     "data": {
      "text/plain": [
       "@zero_global (macro with 1 method)"
      ]
     },
     "execution_count": 37,
     "metadata": {},
     "output_type": "execute_result"
    }
   ],
   "source": [
    "# 案例\n",
    "macro zero_scope()\n",
    "    return esc(:(xx = 0))\n",
    "end\n",
    "macro zero_global()\n",
    "    return quote\n",
    "        global xx = 0\n",
    "    end\n",
    "end"
   ]
  },
  {
   "cell_type": "code",
   "execution_count": 38,
   "id": "71d8eaa4-a76e-446c-94cf-bd9d7bd09e4f",
   "metadata": {},
   "outputs": [
    {
     "data": {
      "text/plain": [
       ":(xx = 0)"
      ]
     },
     "execution_count": 38,
     "metadata": {},
     "output_type": "execute_result"
    }
   ],
   "source": [
    "@macroexpand @zero_scope"
   ]
  },
  {
   "cell_type": "code",
   "execution_count": 39,
   "id": "42a53ad9-527b-4075-b6e3-f17b6e9a27dd",
   "metadata": {},
   "outputs": [
    {
     "data": {
      "text/plain": [
       "(0, 100)"
      ]
     },
     "execution_count": 39,
     "metadata": {},
     "output_type": "execute_result"
    }
   ],
   "source": [
    "xx = 100\n",
    "function change_scope()\n",
    "    xx = 99\n",
    "    @zero_scope\n",
    "    return xx\n",
    "end\n",
    "change_scope(), xx # xx在全局作用域中还是100，不过在change_scope()的这个作用域中被改为了0"
   ]
  },
  {
   "cell_type": "code",
   "execution_count": 40,
   "id": "14862433-8ef6-4084-b573-bb8a664ddf4f",
   "metadata": {},
   "outputs": [
    {
     "data": {
      "text/plain": [
       "(0, 0)"
      ]
     },
     "execution_count": 40,
     "metadata": {},
     "output_type": "execute_result"
    }
   ],
   "source": [
    "xx = 100\n",
    "function change_global()\n",
    "    @zero_global\n",
    "    return xx\n",
    "end\n",
    "change_global(), xx # xx在全局作用域中变成了0，相当于执行了Main。xx = 0"
   ]
  },
  {
   "cell_type": "markdown",
   "id": "a6d18cdf",
   "metadata": {},
   "source": [
    "这可案例可以清楚的看到， `global`声明会直接修改全局作用域的变量， 这样其实不太好， 而`esc()`仅会修改上层作用域的变量， 毕竟没有`Main.`, 宏出现在哪个作用域里， 他就会调用哪个作用域里都可以看到的函数"
   ]
  },
  {
   "cell_type": "markdown",
   "id": "632aa700",
   "metadata": {},
   "source": [
    "### 案例一：assert"
   ]
  },
  {
   "cell_type": "code",
   "execution_count": 41,
   "id": "043f0cf0",
   "metadata": {},
   "outputs": [
    {
     "data": {
      "text/plain": [
       "@assert (macro with 1 method)"
      ]
     },
     "execution_count": 41,
     "metadata": {},
     "output_type": "execute_result"
    }
   ],
   "source": [
    "macro assert(ex)\n",
    "    return :($ex ? nothing : AssertionError(\"not equal\"))\n",
    "end"
   ]
  },
  {
   "cell_type": "code",
   "execution_count": 42,
   "id": "723e4662",
   "metadata": {},
   "outputs": [
    {
     "data": {
      "text/plain": [
       "AssertionError(\"not equal\")"
      ]
     },
     "execution_count": 42,
     "metadata": {},
     "output_type": "execute_result"
    }
   ],
   "source": [
    "@assert 1 == 12"
   ]
  },
  {
   "cell_type": "code",
   "execution_count": 43,
   "id": "08a76c34",
   "metadata": {},
   "outputs": [
    {
     "data": {
      "text/plain": [
       ":(if 1 == 2.0000\n",
       "      Main.nothing\n",
       "  else\n",
       "      Main.AssertionError(\"not equal\")\n",
       "  end)"
      ]
     },
     "execution_count": 43,
     "metadata": {},
     "output_type": "execute_result"
    }
   ],
   "source": [
    "@macroexpand @assert 1 == 2.0"
   ]
  }
 ],
 "metadata": {
  "jpcodetoc-autonumbering": false,
  "jpcodetoc-showcode": false,
  "jpcodetoc-showmarkdowntxt": false,
  "kernelspec": {
   "display_name": "Julia 1.10.3",
   "language": "julia",
   "name": "julia-1.10"
  },
  "language_info": {
   "file_extension": ".jl",
   "mimetype": "application/julia",
   "name": "julia",
   "version": "1.10.3"
  },
  "latex_envs": {
   "LaTeX_envs_menu_present": true,
   "autoclose": false,
   "autocomplete": true,
   "bibliofile": "biblio.bib",
   "cite_by": "apalike",
   "current_citInitial": 1,
   "eqLabelWithNumbers": true,
   "eqNumInitial": 1,
   "hotkeys": {
    "equation": "Ctrl-E",
    "itemize": "Ctrl-I"
   },
   "labels_anchors": false,
   "latex_user_defs": false,
   "report_style_numbering": false,
   "user_envs_cfg": false
  },
  "toc": {
   "base_numbering": 1,
   "nav_menu": {},
   "number_sections": true,
   "sideBar": true,
   "skip_h1_title": false,
   "title_cell": "Table of Contents",
   "title_sidebar": "Contents",
   "toc_cell": false,
   "toc_position": {
    "height": "calc(100% - 180px)",
    "left": "10px",
    "top": "150px",
    "width": "381.667px"
   },
   "toc_section_display": true,
   "toc_window_display": true
  }
 },
 "nbformat": 4,
 "nbformat_minor": 5
}
