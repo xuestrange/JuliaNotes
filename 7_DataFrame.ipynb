{
 "cells": [
  {
   "cell_type": "markdown",
   "id": "5d624a2a",
   "metadata": {},
   "source": [
    "# 引言"
   ]
  },
  {
   "cell_type": "markdown",
   "id": "b01eb095",
   "metadata": {},
   "source": [
    "在数据预处理中，我一般是使用Python的Pandas将其整理成整洁的长表格，输入到其它语言中进行建模计算，然后也不是输入到其它语言就可以直接用的，还需要稍微做一点处理，比较典型的包含\n",
    "1. 数据框读取与类型指定;\n",
    "2. 变量选择（select）;\n",
    "3. 生成新变量（mutate）;\n",
    "4. 数据类型转换（将数据框转换为向量或矩阵）;\n",
    "5. 分组聚合;\n",
    "6. 操控变形（长变宽和宽变长）;\n",
    "7. 变量分布图绘制。\n",
    "其中（5， 6)是重点\n",
    "\n",
    "由于Pandas已经做好了绝大部分的数据清理工作，DataFrame.jl我们也不需要学习的太过深入，掌握上述基本操作，懂一点DataFrame.jl的基本原理即可（这些数据分析库实现的功能大同小异，基本上都差不多，增删查改，操控变形，分组聚合等等）"
   ]
  },
  {
   "cell_type": "markdown",
   "id": "e4aa2811",
   "metadata": {},
   "source": [
    "参考资料：\n",
    "+ 中文cheetsheet\n",
    "+ https://github.com/bkamins\n",
    "+ https://dataframes.juliadata.org/stable/man/comparisons/#Comparison-with-the-Python-package-pandas"
   ]
  },
  {
   "cell_type": "markdown",
   "id": "ff47700f",
   "metadata": {},
   "source": [
    "# DataFrame.jl"
   ]
  },
  {
   "cell_type": "code",
   "execution_count": 36,
   "id": "2f570441",
   "metadata": {},
   "outputs": [],
   "source": [
    "# 设置显示的行数和列数\n",
    "Base.displaysize() = (10, 800)"
   ]
  },
  {
   "cell_type": "code",
   "execution_count": 37,
   "id": "5972ba93",
   "metadata": {},
   "outputs": [],
   "source": [
    "using DataFrames\n",
    "using RDatasets\n",
    "using Random\n",
    "using Distributions"
   ]
  },
  {
   "cell_type": "markdown",
   "id": "89ee8b2b",
   "metadata": {},
   "source": [
    "## DataFrame类型"
   ]
  },
  {
   "cell_type": "markdown",
   "id": "269d40c4",
   "metadata": {},
   "source": [
    "创建可以通过`关键字参数`，`Pair`，`矩阵`，`表格`等建立"
   ]
  },
  {
   "cell_type": "code",
   "execution_count": 57,
   "id": "c41dab30-6e17-4400-aa46-978f3ba2a2f1",
   "metadata": {},
   "outputs": [
    {
     "data": {
      "text/plain": [
       "                               FixedEffectModel                               \n",
       "==============================================================================\n",
       "Number of obs:                    5000  Converged:                        true\n",
       "dof (model):                         3  dof (residuals):                  4995\n",
       "R²:                              0.935  R² adjusted:                     0.935\n",
       "F-statistic:              24129.989965  P-value:                         0.000\n",
       "==============================================================================\n",
       "              Estimate  Std. Error      t-stat  Pr(>|t|)  Lower 95%  Upper 95%\n",
       "──────────────────────────────────────────────────────────────────────────────\n",
       "x1           -1.002412    0.014165  -70.764397    <1e-99  -1.030183  -0.974642\n",
       "x2            2.014420    0.013919  144.720924    <1e-99   1.987132   2.041708\n",
       "x3            3.012791    0.014088  213.856320    <1e-99   2.985173   3.040410\n",
       "(Intercept)   3.991898    0.014176  281.603083    <1e-99   3.964108   4.019689\n",
       "==============================================================================\n"
      ]
     },
     "execution_count": 57,
     "metadata": {},
     "output_type": "execute_result"
    }
   ],
   "source": [
    "N = 5000\n",
    "df = DataFrame(x1 = randn(N), x2 = randn(N), x3 = randn(N), intercept = 1)\n",
    "df[!, :y] = Matrix(df) * [-1, 2, 3, 4] + randn(N)\n",
    "using FixedEffectModels\n",
    "reg(df, @formula(y ~ x1 + x2 + x3))"
   ]
  },
  {
   "cell_type": "code",
   "execution_count": 58,
   "id": "34ed0afe-dada-491a-8229-6eef30bec5fb",
   "metadata": {},
   "outputs": [
    {
     "data": {
      "text/plain": [
       "                                FixedEffectModel                                \n",
       "================================================================================\n",
       "Number of obs:                     5000  Converged:                         true\n",
       "dof (model):                          3  dof (residuals):                   4995\n",
       "R²:                               0.017  R² adjusted:                      0.016\n",
       "F-statistic:                  28.394509  P-value:                          0.000\n",
       "================================================================================\n",
       "               Estimate  Std. Error     t-stat  Pr(>|t|)   Lower 95%   Upper 95%\n",
       "────────────────────────────────────────────────────────────────────────────────\n",
       "x1            -7.045645    3.185719  -2.211634    0.0270  -13.291053   -0.800238\n",
       "x2            16.981155    3.172518   5.352580    <1e-07   10.761628   23.200682\n",
       "x3           -23.288697    3.248803  -7.168392    <1e-12  -29.657778  -16.919616\n",
       "(Intercept)    9.962896    3.199892   3.113510    0.0019    3.689704   16.236088\n",
       "================================================================================\n"
      ]
     },
     "execution_count": 58,
     "metadata": {},
     "output_type": "execute_result"
    }
   ],
   "source": [
    "N = 5000\n",
    "df = DataFrame(x1 = randn(N), x2 = randn(N), x3 = randn(N), intercept = 1)\n",
    "df[!, :y] = rand.(Poisson.(exp.(Matrix(df) * [-1, 2, -3, -4])))\n",
    "using FixedEffectModels\n",
    "reg(df, @formula(y ~ x1 + x2 + x3))"
   ]
  },
  {
   "cell_type": "code",
   "execution_count": 59,
   "id": "9921604a-1746-474c-a89a-b231674ce364",
   "metadata": {},
   "outputs": [],
   "source": [
    "using GLM"
   ]
  },
  {
   "cell_type": "code",
   "execution_count": 60,
   "id": "b955c7de-1ed8-479e-93b4-5634fb5a2c9c",
   "metadata": {},
   "outputs": [
    {
     "data": {
      "text/plain": [
       "StatsModels.TableRegressionModel{GeneralizedLinearModel{GLM.GlmResp{Vector{Float64}, Poisson{Float64}, LogLink}, GLM.DensePredChol{Float64, LinearAlgebra.CholeskyPivoted{Float64, Matrix{Float64}, Vector{Int64}}}}, Matrix{Float64}}\n",
       "\n",
       "y ~ 1 + x1 + x2 + x3\n",
       "\n",
       "Coefficients:\n",
       "───────────────────────────────────────────────────────────────────────────\n",
       "                 Coef.  Std. Error        z  Pr(>|z|)  Lower 95%  Upper 95%\n",
       "───────────────────────────────────────────────────────────────────────────\n",
       "(Intercept)  -3.967890    0.022441  -176.82    <1e-99  -4.011873  -3.923907\n",
       "x1           -0.992254    0.004010  -247.47    <1e-99  -1.000113  -0.984396\n",
       "x2            1.998611    0.005866   340.74    <1e-99   1.987114   2.010107\n",
       "x3           -2.990613    0.007255  -412.20    <1e-99  -3.004833  -2.976393\n",
       "───────────────────────────────────────────────────────────────────────────"
      ]
     },
     "execution_count": 60,
     "metadata": {},
     "output_type": "execute_result"
    }
   ],
   "source": [
    "glm(@formula(y ~ x1 + x2 + x3), df, Poisson(), LogLink())"
   ]
  },
  {
   "cell_type": "code",
   "execution_count": 61,
   "id": "4e3c939b",
   "metadata": {},
   "outputs": [
    {
     "data": {
      "text/plain": [
       "(5000, 5)"
      ]
     },
     "execution_count": 61,
     "metadata": {},
     "output_type": "execute_result"
    }
   ],
   "source": [
    "nrow(df), ncol(df)"
   ]
  },
  {
   "cell_type": "code",
   "execution_count": 62,
   "id": "e752c654",
   "metadata": {},
   "outputs": [
    {
     "data": {
      "text/html": [
       "<div class=\"data-frame\"><p>5 rows × 7 columns</p><table class=\"data-frame\"><thead><tr><th></th><th>variable</th><th>mean</th><th>min</th><th>median</th><th>max</th><th>nmissing</th><th>eltype</th></tr><tr><th></th><th title=\"Symbol\">Symbol</th><th title=\"Float64\">Float64</th><th title=\"Real\">Real</th><th title=\"Float64\">Float64</th><th title=\"Real\">Real</th><th title=\"Int64\">Int64</th><th title=\"DataType\">DataType</th></tr></thead><tbody><tr><th>1</th><td>x1</td><td>0.004719</td><td>-4.018530</td><td>0.002617</td><td>3.347035</td><td>0</td><td>Float64</td></tr><tr><th>2</th><td>x2</td><td>-0.008869</td><td>-3.972854</td><td>-0.003843</td><td>3.496787</td><td>0</td><td>Float64</td></tr><tr><th>3</th><td>x3</td><td>0.001581</td><td>-3.161158</td><td>-0.017333</td><td>3.750153</td><td>0</td><td>Float64</td></tr><tr><th>4</th><td>intercept</td><td>1.000000</td><td>1</td><td>1.000000</td><td>1</td><td>0</td><td>Int64</td></tr><tr><th>5</th><td>y</td><td>9.742200</td><td>0</td><td>0.000000</td><td>14088</td><td>0</td><td>Int64</td></tr></tbody></table></div>"
      ],
      "text/latex": [
       "\\begin{tabular}{r|ccccccc}\n",
       "\t& variable & mean & min & median & max & nmissing & eltype\\\\\n",
       "\t\\hline\n",
       "\t& Symbol & Float64 & Real & Float64 & Real & Int64 & DataType\\\\\n",
       "\t\\hline\n",
       "\t1 & x1 & 0.004719 & -4.018530 & 0.002617 & 3.347035 & 0 & Float64 \\\\\n",
       "\t2 & x2 & -0.008869 & -3.972854 & -0.003843 & 3.496787 & 0 & Float64 \\\\\n",
       "\t3 & x3 & 0.001581 & -3.161158 & -0.017333 & 3.750153 & 0 & Float64 \\\\\n",
       "\t4 & intercept & 1.000000 & 1 & 1.000000 & 1 & 0 & Int64 \\\\\n",
       "\t5 & y & 9.742200 & 0 & 0.000000 & 14088 & 0 & Int64 \\\\\n",
       "\\end{tabular}\n"
      ],
      "text/plain": [
       "\u001b[1m5×7 DataFrame\u001b[0m\n",
       "\u001b[1m Row \u001b[0m│\u001b[1m variable  \u001b[0m\u001b[1m mean      \u001b[0m\u001b[1m min       \u001b[0m\u001b[1m median    \u001b[0m\u001b[1m max          \u001b[0m\u001b[1m nmissing \u001b[0m\u001b[1m eltype   \u001b[0m\n",
       "\u001b[1m     \u001b[0m│\u001b[90m Symbol    \u001b[0m\u001b[90m Float64   \u001b[0m\u001b[90m Real      \u001b[0m\u001b[90m Float64   \u001b[0m\u001b[90m Real         \u001b[0m\u001b[90m Int64    \u001b[0m\u001b[90m DataType \u001b[0m\n",
       "─────┼──────────────────────────────────────────────────────────────────────────────\n",
       "   1 │ x1          0.004719  -4.018530   0.002617      3.347035         0  Float64\n",
       "  ⋮  │     ⋮          ⋮          ⋮          ⋮           ⋮           ⋮         ⋮\n",
       "\u001b[36m                                                                      4 rows omitted\u001b[0m"
      ]
     },
     "execution_count": 62,
     "metadata": {},
     "output_type": "execute_result"
    }
   ],
   "source": [
    "describe(df)"
   ]
  },
  {
   "cell_type": "code",
   "execution_count": 63,
   "id": "7021f990",
   "metadata": {},
   "outputs": [
    {
     "data": {
      "text/plain": [
       "5-element Vector{String}:\n",
       " \"x1\"\n",
       " \"x2\"\n",
       " \"x3\"\n",
       " \"intercept\"\n",
       " \"y\""
      ]
     },
     "execution_count": 63,
     "metadata": {},
     "output_type": "execute_result"
    }
   ],
   "source": [
    "# 获取列名\n",
    "names(df)"
   ]
  },
  {
   "cell_type": "code",
   "execution_count": 64,
   "id": "3123baeb",
   "metadata": {},
   "outputs": [
    {
     "data": {
      "text/plain": [
       "5-element Vector{Symbol}:\n",
       " :x1\n",
       " :x2\n",
       " :x3\n",
       " :intercept\n",
       " :y"
      ]
     },
     "execution_count": 64,
     "metadata": {},
     "output_type": "execute_result"
    }
   ],
   "source": [
    "# 获取列名为 Symbol\n",
    "propertynames(df)"
   ]
  },
  {
   "cell_type": "code",
   "execution_count": 65,
   "id": "2354035c",
   "metadata": {},
   "outputs": [
    {
     "data": {
      "text/plain": [
       "([-0.893089, -0.663048, -0.011093, 0.048355, 0.615507, 0.488753, -0.157378, -0.776902, -0.996300, 0.568948  …  0.086998, -1.425759, 0.575318, 0.166253, -0.377847, 0.794452, -0.618051, -0.270667, -3.007232, 1.452772], [-0.893089, -0.663048, -0.011093, 0.048355, 0.615507, 0.488753, -0.157378, -0.776902, -0.996300, 0.568948  …  0.086998, -1.425759, 0.575318, 0.166253, -0.377847, 0.794452, -0.618051, -0.270667, -3.007232, 1.452772], [-0.893089, -0.663048, -0.011093, 0.048355, 0.615507, 0.488753, -0.157378, -0.776902, -0.996300, 0.568948  …  0.086998, -1.425759, 0.575318, 0.166253, -0.377847, 0.794452, -0.618051, -0.270667, -3.007232, 1.452772], [-0.893089, -0.663048, -0.011093, 0.048355, 0.615507, 0.488753, -0.157378, -0.776902, -0.996300, 0.568948  …  0.086998, -1.425759, 0.575318, 0.166253, -0.377847, 0.794452, -0.618051, -0.270667, -3.007232, 1.452772], [-0.893089, -0.663048, -0.011093, 0.048355, 0.615507, 0.488753, -0.157378, -0.776902, -0.996300, 0.568948  …  0.086998, -1.425759, 0.575318, 0.166253, -0.377847, 0.794452, -0.618051, -0.270667, -3.007232, 1.452772])"
      ]
     },
     "execution_count": 65,
     "metadata": {},
     "output_type": "execute_result"
    }
   ],
   "source": [
    "# 直接获取原数据（不会copy）\n",
    "df.x1, df.\"x1\", df.:x1, df[!, \"x1\"], df[!, :x1]"
   ]
  },
  {
   "cell_type": "code",
   "execution_count": 66,
   "id": "a277c0cb",
   "metadata": {},
   "outputs": [
    {
     "data": {
      "text/plain": [
       "([-0.893089, -0.663048, -0.011093, 0.048355, 0.615507, 0.488753, -0.157378, -0.776902, -0.996300, 0.568948  …  0.086998, -1.425759, 0.575318, 0.166253, -0.377847, 0.794452, -0.618051, -0.270667, -3.007232, 1.452772], [-0.893089, -0.663048, -0.011093, 0.048355, 0.615507, 0.488753, -0.157378, -0.776902, -0.996300, 0.568948  …  0.086998, -1.425759, 0.575318, 0.166253, -0.377847, 0.794452, -0.618051, -0.270667, -3.007232, 1.452772])"
      ]
     },
     "execution_count": 66,
     "metadata": {},
     "output_type": "execute_result"
    }
   ],
   "source": [
    "# 复制原数据的一列\n",
    "df[:, :x1], df[:, \"x1\"]"
   ]
  },
  {
   "cell_type": "markdown",
   "id": "bb38428e",
   "metadata": {},
   "source": [
    "## 文件读取"
   ]
  },
  {
   "cell_type": "markdown",
   "id": "bcc09f1d",
   "metadata": {},
   "source": [
    "`CSV.read(\"/path/to/file\", DataFrame)`，读取为DataFrame"
   ]
  },
  {
   "cell_type": "markdown",
   "id": "fd34cecc",
   "metadata": {},
   "source": [
    "+ integer, vecor of integers\n",
    "+ Symbol, vector of Symbols\n",
    "+ string, vector of strings\n",
    "+ `All()`, `Between()`, `Not()`\n",
    "+ 正则表达式"
   ]
  },
  {
   "cell_type": "markdown",
   "id": "391b173d",
   "metadata": {},
   "source": [
    "## 变量生成"
   ]
  },
  {
   "cell_type": "code",
   "execution_count": 69,
   "id": "fc7ddd9c",
   "metadata": {},
   "outputs": [
    {
     "data": {
      "text/html": [
       "<div class=\"data-frame\"><p>5,000 rows × 1 columns</p><table class=\"data-frame\"><thead><tr><th></th><th>x1_mean</th></tr><tr><th></th><th title=\"Float64\">Float64</th></tr></thead><tbody><tr><th>1</th><td>-893.089008</td></tr><tr><th>2</th><td>-663.047503</td></tr><tr><th>3</th><td>-11.093019</td></tr><tr><th>4</th><td>48.355102</td></tr><tr><th>5</th><td>615.506890</td></tr><tr><th>6</th><td>488.753350</td></tr><tr><th>7</th><td>-157.378402</td></tr><tr><th>8</th><td>-776.902255</td></tr><tr><th>9</th><td>-996.299904</td></tr><tr><th>10</th><td>568.948364</td></tr><tr><th>&vellip;</th><td>&vellip;</td></tr></tbody></table></div>"
      ],
      "text/latex": [
       "\\begin{tabular}{r|c}\n",
       "\t& x1\\_mean\\\\\n",
       "\t\\hline\n",
       "\t& Float64\\\\\n",
       "\t\\hline\n",
       "\t1 & -893.089008 \\\\\n",
       "\t2 & -663.047503 \\\\\n",
       "\t3 & -11.093019 \\\\\n",
       "\t4 & 48.355102 \\\\\n",
       "\t5 & 615.506890 \\\\\n",
       "\t6 & 488.753350 \\\\\n",
       "\t7 & -157.378402 \\\\\n",
       "\t8 & -776.902255 \\\\\n",
       "\t9 & -996.299904 \\\\\n",
       "\t10 & 568.948364 \\\\\n",
       "\t$\\dots$ & $\\dots$ \\\\\n",
       "\\end{tabular}\n"
      ],
      "text/plain": [
       "\u001b[1m5000×1 DataFrame\u001b[0m\n",
       "\u001b[1m  Row \u001b[0m│\u001b[1m x1_mean      \u001b[0m\n",
       "\u001b[1m      \u001b[0m│\u001b[90m Float64      \u001b[0m\n",
       "──────┼──────────────\n",
       "    1 │  -893.089008\n",
       "  ⋮   │      ⋮\n",
       "\u001b[36m    4999 rows omitted\u001b[0m"
      ]
     },
     "execution_count": 69,
     "metadata": {},
     "output_type": "execute_result"
    }
   ],
   "source": [
    "select(df, :x1 => (a -> a * 1000) => :x1_mean)"
   ]
  },
  {
   "cell_type": "code",
   "execution_count": 70,
   "id": "28cf74e9",
   "metadata": {},
   "outputs": [
    {
     "data": {
      "text/html": [
       "<div class=\"data-frame\"><p>5,000 rows × 6 columns</p><table class=\"data-frame\"><thead><tr><th></th><th>x1</th><th>x2</th><th>x3</th><th>intercept</th><th>y</th><th>x1_mean</th></tr><tr><th></th><th title=\"Float64\">Float64</th><th title=\"Float64\">Float64</th><th title=\"Float64\">Float64</th><th title=\"Int64\">Int64</th><th title=\"Int64\">Int64</th><th title=\"Float64\">Float64</th></tr></thead><tbody><tr><th>1</th><td>-0.893089</td><td>1.090354</td><td>-0.098414</td><td>1</td><td>1</td><td>-893.089008</td></tr><tr><th>2</th><td>-0.663048</td><td>-0.599173</td><td>1.071210</td><td>1</td><td>0</td><td>-663.047503</td></tr><tr><th>3</th><td>-0.011093</td><td>1.131863</td><td>0.619766</td><td>1</td><td>0</td><td>-11.093019</td></tr><tr><th>4</th><td>0.048355</td><td>-0.449926</td><td>0.392205</td><td>1</td><td>0</td><td>48.355102</td></tr><tr><th>5</th><td>0.615507</td><td>-1.815548</td><td>-0.266469</td><td>1</td><td>0</td><td>615.506890</td></tr><tr><th>6</th><td>0.488753</td><td>-1.866037</td><td>-1.411774</td><td>1</td><td>0</td><td>488.753350</td></tr><tr><th>7</th><td>-0.157378</td><td>-1.058923</td><td>0.220755</td><td>1</td><td>0</td><td>-157.378402</td></tr><tr><th>8</th><td>-0.776902</td><td>-0.906232</td><td>-0.521686</td><td>1</td><td>0</td><td>-776.902255</td></tr><tr><th>9</th><td>-0.996300</td><td>-0.084873</td><td>0.061557</td><td>1</td><td>0</td><td>-996.299904</td></tr><tr><th>10</th><td>0.568948</td><td>-1.571198</td><td>0.357816</td><td>1</td><td>0</td><td>568.948364</td></tr><tr><th>&vellip;</th><td>&vellip;</td><td>&vellip;</td><td>&vellip;</td><td>&vellip;</td><td>&vellip;</td><td>&vellip;</td></tr></tbody></table></div>"
      ],
      "text/latex": [
       "\\begin{tabular}{r|cccccc}\n",
       "\t& x1 & x2 & x3 & intercept & y & x1\\_mean\\\\\n",
       "\t\\hline\n",
       "\t& Float64 & Float64 & Float64 & Int64 & Int64 & Float64\\\\\n",
       "\t\\hline\n",
       "\t1 & -0.893089 & 1.090354 & -0.098414 & 1 & 1 & -893.089008 \\\\\n",
       "\t2 & -0.663048 & -0.599173 & 1.071210 & 1 & 0 & -663.047503 \\\\\n",
       "\t3 & -0.011093 & 1.131863 & 0.619766 & 1 & 0 & -11.093019 \\\\\n",
       "\t4 & 0.048355 & -0.449926 & 0.392205 & 1 & 0 & 48.355102 \\\\\n",
       "\t5 & 0.615507 & -1.815548 & -0.266469 & 1 & 0 & 615.506890 \\\\\n",
       "\t6 & 0.488753 & -1.866037 & -1.411774 & 1 & 0 & 488.753350 \\\\\n",
       "\t7 & -0.157378 & -1.058923 & 0.220755 & 1 & 0 & -157.378402 \\\\\n",
       "\t8 & -0.776902 & -0.906232 & -0.521686 & 1 & 0 & -776.902255 \\\\\n",
       "\t9 & -0.996300 & -0.084873 & 0.061557 & 1 & 0 & -996.299904 \\\\\n",
       "\t10 & 0.568948 & -1.571198 & 0.357816 & 1 & 0 & 568.948364 \\\\\n",
       "\t$\\dots$ & $\\dots$ & $\\dots$ & $\\dots$ & $\\dots$ & $\\dots$ & $\\dots$ \\\\\n",
       "\\end{tabular}\n"
      ],
      "text/plain": [
       "\u001b[1m5000×6 DataFrame\u001b[0m\n",
       "\u001b[1m  Row \u001b[0m│\u001b[1m x1        \u001b[0m\u001b[1m x2        \u001b[0m\u001b[1m x3        \u001b[0m\u001b[1m intercept \u001b[0m\u001b[1m y     \u001b[0m\u001b[1m x1_mean      \u001b[0m\n",
       "\u001b[1m      \u001b[0m│\u001b[90m Float64   \u001b[0m\u001b[90m Float64   \u001b[0m\u001b[90m Float64   \u001b[0m\u001b[90m Int64     \u001b[0m\u001b[90m Int64 \u001b[0m\u001b[90m Float64      \u001b[0m\n",
       "──────┼─────────────────────────────────────────────────────────────────\n",
       "    1 │ -0.893089   1.090354  -0.098414          1      1   -893.089008\n",
       "  ⋮   │     ⋮          ⋮          ⋮          ⋮        ⋮         ⋮\n",
       "\u001b[36m                                                       4999 rows omitted\u001b[0m"
      ]
     },
     "execution_count": 70,
     "metadata": {},
     "output_type": "execute_result"
    }
   ],
   "source": [
    "transform(df, :x1 => (a -> a * 1000) => :x1_mean)"
   ]
  },
  {
   "cell_type": "markdown",
   "id": "ba262574",
   "metadata": {
    "editable": true,
    "slideshow": {
     "slide_type": ""
    },
    "tags": []
   },
   "source": [
    "## 分组聚合"
   ]
  },
  {
   "cell_type": "markdown",
   "id": "2a5ad947",
   "metadata": {},
   "source": [
    "三个函数：\n",
    "+ `combine`,类似于`apply`，可以处理`df`，也可以处理`groupby(df)`,对于返回结果没有强制要求\n",
    "+ `select`,类似于`transform`,可以处理`df`，也可以处理`groupby(df)`，返回结果和原DataFrame行索引一致，仅包含新生成的列\n",
    "+ `transform`,类似于`transform`,可以处理`df`，也可以处理`groupby(df)`，返回结果和原DataFrame行索引一致，包含DataFrame原有的列和新生成的列"
   ]
  },
  {
   "cell_type": "code",
   "execution_count": 76,
   "id": "5f972b9d",
   "metadata": {},
   "outputs": [
    {
     "data": {
      "text/html": [
       "<div class=\"data-frame\"><p>150 rows × 5 columns</p><table class=\"data-frame\"><thead><tr><th></th><th>SepalLength</th><th>SepalWidth</th><th>PetalLength</th><th>PetalWidth</th><th>Species</th></tr><tr><th></th><th title=\"Float64\">Float64</th><th title=\"Float64\">Float64</th><th title=\"Float64\">Float64</th><th title=\"Float64\">Float64</th><th title=\"CategoricalArrays.CategoricalValue{String, UInt8}\">Cat…</th></tr></thead><tbody><tr><th>1</th><td>5.100000</td><td>3.500000</td><td>1.400000</td><td>0.200000</td><td>setosa</td></tr><tr><th>2</th><td>4.900000</td><td>3.000000</td><td>1.400000</td><td>0.200000</td><td>setosa</td></tr><tr><th>3</th><td>4.700000</td><td>3.200000</td><td>1.300000</td><td>0.200000</td><td>setosa</td></tr><tr><th>4</th><td>4.600000</td><td>3.100000</td><td>1.500000</td><td>0.200000</td><td>setosa</td></tr><tr><th>5</th><td>5.000000</td><td>3.600000</td><td>1.400000</td><td>0.200000</td><td>setosa</td></tr><tr><th>6</th><td>5.400000</td><td>3.900000</td><td>1.700000</td><td>0.400000</td><td>setosa</td></tr><tr><th>7</th><td>4.600000</td><td>3.400000</td><td>1.400000</td><td>0.300000</td><td>setosa</td></tr><tr><th>8</th><td>5.000000</td><td>3.400000</td><td>1.500000</td><td>0.200000</td><td>setosa</td></tr><tr><th>9</th><td>4.400000</td><td>2.900000</td><td>1.400000</td><td>0.200000</td><td>setosa</td></tr><tr><th>10</th><td>4.900000</td><td>3.100000</td><td>1.500000</td><td>0.100000</td><td>setosa</td></tr><tr><th>&vellip;</th><td>&vellip;</td><td>&vellip;</td><td>&vellip;</td><td>&vellip;</td><td>&vellip;</td></tr></tbody></table></div>"
      ],
      "text/latex": [
       "\\begin{tabular}{r|ccccc}\n",
       "\t& SepalLength & SepalWidth & PetalLength & PetalWidth & Species\\\\\n",
       "\t\\hline\n",
       "\t& Float64 & Float64 & Float64 & Float64 & Cat…\\\\\n",
       "\t\\hline\n",
       "\t1 & 5.100000 & 3.500000 & 1.400000 & 0.200000 & setosa \\\\\n",
       "\t2 & 4.900000 & 3.000000 & 1.400000 & 0.200000 & setosa \\\\\n",
       "\t3 & 4.700000 & 3.200000 & 1.300000 & 0.200000 & setosa \\\\\n",
       "\t4 & 4.600000 & 3.100000 & 1.500000 & 0.200000 & setosa \\\\\n",
       "\t5 & 5.000000 & 3.600000 & 1.400000 & 0.200000 & setosa \\\\\n",
       "\t6 & 5.400000 & 3.900000 & 1.700000 & 0.400000 & setosa \\\\\n",
       "\t7 & 4.600000 & 3.400000 & 1.400000 & 0.300000 & setosa \\\\\n",
       "\t8 & 5.000000 & 3.400000 & 1.500000 & 0.200000 & setosa \\\\\n",
       "\t9 & 4.400000 & 2.900000 & 1.400000 & 0.200000 & setosa \\\\\n",
       "\t10 & 4.900000 & 3.100000 & 1.500000 & 0.100000 & setosa \\\\\n",
       "\t$\\dots$ & $\\dots$ & $\\dots$ & $\\dots$ & $\\dots$ & $\\dots$ \\\\\n",
       "\\end{tabular}\n"
      ],
      "text/plain": [
       "\u001b[1m150×5 DataFrame\u001b[0m\n",
       "\u001b[1m Row \u001b[0m│\u001b[1m SepalLength \u001b[0m\u001b[1m SepalWidth \u001b[0m\u001b[1m PetalLength \u001b[0m\u001b[1m PetalWidth \u001b[0m\u001b[1m Species   \u001b[0m\n",
       "\u001b[1m     \u001b[0m│\u001b[90m Float64     \u001b[0m\u001b[90m Float64    \u001b[0m\u001b[90m Float64     \u001b[0m\u001b[90m Float64    \u001b[0m\u001b[90m Cat…      \u001b[0m\n",
       "─────┼─────────────────────────────────────────────────────────────\n",
       "   1 │    5.100000    3.500000     1.400000    0.200000  setosa\n",
       "  ⋮  │      ⋮           ⋮            ⋮           ⋮           ⋮\n",
       "\u001b[36m                                                   149 rows omitted\u001b[0m"
      ]
     },
     "execution_count": 76,
     "metadata": {},
     "output_type": "execute_result"
    }
   ],
   "source": [
    "# 示例数据\n",
    "iris = dataset(\"datasets\", \"iris\")"
   ]
  },
  {
   "cell_type": "code",
   "execution_count": 77,
   "id": "c4be54ea",
   "metadata": {},
   "outputs": [
    {
     "data": {
      "text/html": [
       "<div class=\"data-frame\"><p>150 rows × 2 columns</p><table class=\"data-frame\"><thead><tr><th></th><th>SepalLength*100</th><th>SepalLength/100</th></tr><tr><th></th><th title=\"Float64\">Float64</th><th title=\"Float64\">Float64</th></tr></thead><tbody><tr><th>1</th><td>510.000000</td><td>0.014000</td></tr><tr><th>2</th><td>490.000000</td><td>0.014000</td></tr><tr><th>3</th><td>470.000000</td><td>0.013000</td></tr><tr><th>4</th><td>460.000000</td><td>0.015000</td></tr><tr><th>5</th><td>500.000000</td><td>0.014000</td></tr><tr><th>6</th><td>540.000000</td><td>0.017000</td></tr><tr><th>7</th><td>460.000000</td><td>0.014000</td></tr><tr><th>8</th><td>500.000000</td><td>0.015000</td></tr><tr><th>9</th><td>440.000000</td><td>0.014000</td></tr><tr><th>10</th><td>490.000000</td><td>0.015000</td></tr><tr><th>&vellip;</th><td>&vellip;</td><td>&vellip;</td></tr></tbody></table></div>"
      ],
      "text/latex": [
       "\\begin{tabular}{r|cc}\n",
       "\t& SepalLength*100 & SepalLength/100\\\\\n",
       "\t\\hline\n",
       "\t& Float64 & Float64\\\\\n",
       "\t\\hline\n",
       "\t1 & 510.000000 & 0.014000 \\\\\n",
       "\t2 & 490.000000 & 0.014000 \\\\\n",
       "\t3 & 470.000000 & 0.013000 \\\\\n",
       "\t4 & 460.000000 & 0.015000 \\\\\n",
       "\t5 & 500.000000 & 0.014000 \\\\\n",
       "\t6 & 540.000000 & 0.017000 \\\\\n",
       "\t7 & 460.000000 & 0.014000 \\\\\n",
       "\t8 & 500.000000 & 0.015000 \\\\\n",
       "\t9 & 440.000000 & 0.014000 \\\\\n",
       "\t10 & 490.000000 & 0.015000 \\\\\n",
       "\t$\\dots$ & $\\dots$ & $\\dots$ \\\\\n",
       "\\end{tabular}\n"
      ],
      "text/plain": [
       "\u001b[1m150×2 DataFrame\u001b[0m\n",
       "\u001b[1m Row \u001b[0m│\u001b[1m SepalLength*100 \u001b[0m\u001b[1m SepalLength/100 \u001b[0m\n",
       "\u001b[1m     \u001b[0m│\u001b[90m Float64         \u001b[0m\u001b[90m Float64         \u001b[0m\n",
       "─────┼──────────────────────────────────\n",
       "   1 │      510.000000         0.014000\n",
       "  ⋮  │        ⋮                ⋮\n",
       "\u001b[36m                        149 rows omitted\u001b[0m"
      ]
     },
     "execution_count": 77,
     "metadata": {},
     "output_type": "execute_result"
    }
   ],
   "source": [
    "# 生成两列，这两列是对原来数据列的数值变换\n",
    "combine(\n",
    "    iris,\n",
    "    :SepalLength => (c -> c * 100) => \"SepalLength*100\",\n",
    "    :PetalLength => (c -> c / 100) => \"SepalLength/100\",\n",
    ")"
   ]
  },
  {
   "cell_type": "code",
   "execution_count": 78,
   "id": "ebfc2bfb",
   "metadata": {},
   "outputs": [
    {
     "data": {
      "text/html": [
       "<div class=\"data-frame\"><p>3 rows × 2 columns</p><table class=\"data-frame\"><thead><tr><th></th><th>Species</th><th>firstSpecies</th></tr><tr><th></th><th title=\"CategoricalArrays.CategoricalValue{String, UInt8}\">Cat…</th><th title=\"Float64\">Float64</th></tr></thead><tbody><tr><th>1</th><td>setosa</td><td>5.100000</td></tr><tr><th>2</th><td>versicolor</td><td>7.000000</td></tr><tr><th>3</th><td>virginica</td><td>6.300000</td></tr></tbody></table></div>"
      ],
      "text/latex": [
       "\\begin{tabular}{r|cc}\n",
       "\t& Species & firstSpecies\\\\\n",
       "\t\\hline\n",
       "\t& Cat… & Float64\\\\\n",
       "\t\\hline\n",
       "\t1 & setosa & 5.100000 \\\\\n",
       "\t2 & versicolor & 7.000000 \\\\\n",
       "\t3 & virginica & 6.300000 \\\\\n",
       "\\end{tabular}\n"
      ],
      "text/plain": [
       "\u001b[1m3×2 DataFrame\u001b[0m\n",
       "\u001b[1m Row \u001b[0m│\u001b[1m Species    \u001b[0m\u001b[1m firstSpecies \u001b[0m\n",
       "\u001b[1m     \u001b[0m│\u001b[90m Cat…       \u001b[0m\u001b[90m Float64      \u001b[0m\n",
       "─────┼──────────────────────────\n",
       "   1 │ setosa          5.100000\n",
       "   2 │ versicolor      7.000000\n",
       "   3 │ virginica       6.300000"
      ]
     },
     "execution_count": 78,
     "metadata": {},
     "output_type": "execute_result"
    }
   ],
   "source": [
    "combine(groupby(iris, :Species), :SepalLength => (c -> first(c)) => \"firstSpecies\")"
   ]
  },
  {
   "cell_type": "code",
   "execution_count": 79,
   "id": "6e96aac4",
   "metadata": {},
   "outputs": [
    {
     "data": {
      "text/html": [
       "<div class=\"data-frame\"><p>150 rows × 2 columns</p><table class=\"data-frame\"><thead><tr><th></th><th>Species</th><th>SepalLength_function</th></tr><tr><th></th><th title=\"CategoricalArrays.CategoricalValue{String, UInt8}\">Cat…</th><th title=\"Float64\">Float64</th></tr></thead><tbody><tr><th>1</th><td>setosa</td><td>4.300000</td></tr><tr><th>2</th><td>setosa</td><td>4.300000</td></tr><tr><th>3</th><td>setosa</td><td>4.300000</td></tr><tr><th>4</th><td>setosa</td><td>4.300000</td></tr><tr><th>5</th><td>setosa</td><td>4.300000</td></tr><tr><th>6</th><td>setosa</td><td>4.300000</td></tr><tr><th>7</th><td>setosa</td><td>4.300000</td></tr><tr><th>8</th><td>setosa</td><td>4.300000</td></tr><tr><th>9</th><td>setosa</td><td>4.300000</td></tr><tr><th>10</th><td>setosa</td><td>4.300000</td></tr><tr><th>&vellip;</th><td>&vellip;</td><td>&vellip;</td></tr></tbody></table></div>"
      ],
      "text/latex": [
       "\\begin{tabular}{r|cc}\n",
       "\t& Species & SepalLength\\_function\\\\\n",
       "\t\\hline\n",
       "\t& Cat… & Float64\\\\\n",
       "\t\\hline\n",
       "\t1 & setosa & 4.300000 \\\\\n",
       "\t2 & setosa & 4.300000 \\\\\n",
       "\t3 & setosa & 4.300000 \\\\\n",
       "\t4 & setosa & 4.300000 \\\\\n",
       "\t5 & setosa & 4.300000 \\\\\n",
       "\t6 & setosa & 4.300000 \\\\\n",
       "\t7 & setosa & 4.300000 \\\\\n",
       "\t8 & setosa & 4.300000 \\\\\n",
       "\t9 & setosa & 4.300000 \\\\\n",
       "\t10 & setosa & 4.300000 \\\\\n",
       "\t$\\dots$ & $\\dots$ & $\\dots$ \\\\\n",
       "\\end{tabular}\n"
      ],
      "text/plain": [
       "\u001b[1m150×2 DataFrame\u001b[0m\n",
       "\u001b[1m Row \u001b[0m│\u001b[1m Species   \u001b[0m\u001b[1m SepalLength_function \u001b[0m\n",
       "\u001b[1m     \u001b[0m│\u001b[90m Cat…      \u001b[0m\u001b[90m Float64              \u001b[0m\n",
       "─────┼─────────────────────────────────\n",
       "   1 │ setosa                 4.300000\n",
       "  ⋮  │     ⋮               ⋮\n",
       "\u001b[36m                       149 rows omitted\u001b[0m"
      ]
     },
     "execution_count": 79,
     "metadata": {},
     "output_type": "execute_result"
    }
   ],
   "source": [
    "select(groupby(iris, :Species), :SepalLength => (c -> minimum(c)))"
   ]
  },
  {
   "cell_type": "code",
   "execution_count": 80,
   "id": "c8120fb8",
   "metadata": {},
   "outputs": [
    {
     "data": {
      "text/html": [
       "<div class=\"data-frame\"><p>150 rows × 6 columns</p><table class=\"data-frame\"><thead><tr><th></th><th>SepalLength</th><th>SepalWidth</th><th>PetalLength</th><th>PetalWidth</th><th>Species</th><th>SepalLength_function</th></tr><tr><th></th><th title=\"Float64\">Float64</th><th title=\"Float64\">Float64</th><th title=\"Float64\">Float64</th><th title=\"Float64\">Float64</th><th title=\"CategoricalArrays.CategoricalValue{String, UInt8}\">Cat…</th><th title=\"Float64\">Float64</th></tr></thead><tbody><tr><th>1</th><td>5.100000</td><td>3.500000</td><td>1.400000</td><td>0.200000</td><td>setosa</td><td>5.100000</td></tr><tr><th>2</th><td>4.900000</td><td>3.000000</td><td>1.400000</td><td>0.200000</td><td>setosa</td><td>5.100000</td></tr><tr><th>3</th><td>4.700000</td><td>3.200000</td><td>1.300000</td><td>0.200000</td><td>setosa</td><td>5.100000</td></tr><tr><th>4</th><td>4.600000</td><td>3.100000</td><td>1.500000</td><td>0.200000</td><td>setosa</td><td>5.100000</td></tr><tr><th>5</th><td>5.000000</td><td>3.600000</td><td>1.400000</td><td>0.200000</td><td>setosa</td><td>5.100000</td></tr><tr><th>6</th><td>5.400000</td><td>3.900000</td><td>1.700000</td><td>0.400000</td><td>setosa</td><td>5.100000</td></tr><tr><th>7</th><td>4.600000</td><td>3.400000</td><td>1.400000</td><td>0.300000</td><td>setosa</td><td>5.100000</td></tr><tr><th>8</th><td>5.000000</td><td>3.400000</td><td>1.500000</td><td>0.200000</td><td>setosa</td><td>5.100000</td></tr><tr><th>9</th><td>4.400000</td><td>2.900000</td><td>1.400000</td><td>0.200000</td><td>setosa</td><td>5.100000</td></tr><tr><th>10</th><td>4.900000</td><td>3.100000</td><td>1.500000</td><td>0.100000</td><td>setosa</td><td>5.100000</td></tr><tr><th>&vellip;</th><td>&vellip;</td><td>&vellip;</td><td>&vellip;</td><td>&vellip;</td><td>&vellip;</td><td>&vellip;</td></tr></tbody></table></div>"
      ],
      "text/latex": [
       "\\begin{tabular}{r|cccccc}\n",
       "\t& SepalLength & SepalWidth & PetalLength & PetalWidth & Species & SepalLength\\_function\\\\\n",
       "\t\\hline\n",
       "\t& Float64 & Float64 & Float64 & Float64 & Cat… & Float64\\\\\n",
       "\t\\hline\n",
       "\t1 & 5.100000 & 3.500000 & 1.400000 & 0.200000 & setosa & 5.100000 \\\\\n",
       "\t2 & 4.900000 & 3.000000 & 1.400000 & 0.200000 & setosa & 5.100000 \\\\\n",
       "\t3 & 4.700000 & 3.200000 & 1.300000 & 0.200000 & setosa & 5.100000 \\\\\n",
       "\t4 & 4.600000 & 3.100000 & 1.500000 & 0.200000 & setosa & 5.100000 \\\\\n",
       "\t5 & 5.000000 & 3.600000 & 1.400000 & 0.200000 & setosa & 5.100000 \\\\\n",
       "\t6 & 5.400000 & 3.900000 & 1.700000 & 0.400000 & setosa & 5.100000 \\\\\n",
       "\t7 & 4.600000 & 3.400000 & 1.400000 & 0.300000 & setosa & 5.100000 \\\\\n",
       "\t8 & 5.000000 & 3.400000 & 1.500000 & 0.200000 & setosa & 5.100000 \\\\\n",
       "\t9 & 4.400000 & 2.900000 & 1.400000 & 0.200000 & setosa & 5.100000 \\\\\n",
       "\t10 & 4.900000 & 3.100000 & 1.500000 & 0.100000 & setosa & 5.100000 \\\\\n",
       "\t$\\dots$ & $\\dots$ & $\\dots$ & $\\dots$ & $\\dots$ & $\\dots$ & $\\dots$ \\\\\n",
       "\\end{tabular}\n"
      ],
      "text/plain": [
       "\u001b[1m150×6 DataFrame\u001b[0m\n",
       "\u001b[1m Row \u001b[0m│\u001b[1m SepalLength \u001b[0m\u001b[1m SepalWidth \u001b[0m\u001b[1m PetalLength \u001b[0m\u001b[1m PetalWidth \u001b[0m\u001b[1m Species   \u001b[0m\u001b[1m SepalLength_function \u001b[0m\n",
       "\u001b[1m     \u001b[0m│\u001b[90m Float64     \u001b[0m\u001b[90m Float64    \u001b[0m\u001b[90m Float64     \u001b[0m\u001b[90m Float64    \u001b[0m\u001b[90m Cat…      \u001b[0m\u001b[90m Float64              \u001b[0m\n",
       "─────┼───────────────────────────────────────────────────────────────────────────────────\n",
       "   1 │    5.100000    3.500000     1.400000    0.200000  setosa                 5.100000\n",
       "  ⋮  │      ⋮           ⋮            ⋮           ⋮           ⋮               ⋮\n",
       "\u001b[36m                                                                         149 rows omitted\u001b[0m"
      ]
     },
     "execution_count": 80,
     "metadata": {},
     "output_type": "execute_result"
    }
   ],
   "source": [
    "transform(groupby(iris, :Species), :SepalLength => (c -> first(c)))"
   ]
  },
  {
   "cell_type": "markdown",
   "id": "627b0914-4105-40b7-922d-4317f9b52f02",
   "metadata": {},
   "source": [
    "## 嵌套list"
   ]
  },
  {
   "cell_type": "code",
   "execution_count": 2,
   "id": "7d07587b-5447-4f2f-8345-0bfc946f6c77",
   "metadata": {},
   "outputs": [],
   "source": [
    "using DataFrames\n",
    "using CategoricalArrays"
   ]
  },
  {
   "cell_type": "code",
   "execution_count": 3,
   "id": "0715846b-9a64-46de-852d-d87bdae97850",
   "metadata": {},
   "outputs": [
    {
     "data": {
      "text/html": [
       "<div class=\"data-frame\"><p>3 rows × 2 columns</p><table class=\"data-frame\"><thead><tr><th></th><th>x</th><th>y</th></tr><tr><th></th><th title=\"Int64\">Int64</th><th title=\"CategoricalValue{String, UInt32}\">Cat…</th></tr></thead><tbody><tr><th>1</th><td>1</td><td>a</td></tr><tr><th>2</th><td>2</td><td>a</td></tr><tr><th>3</th><td>3</td><td>a</td></tr></tbody></table></div>"
      ],
      "text/latex": [
       "\\begin{tabular}{r|cc}\n",
       "\t& x & y\\\\\n",
       "\t\\hline\n",
       "\t& Int64 & Cat…\\\\\n",
       "\t\\hline\n",
       "\t1 & 1 & a \\\\\n",
       "\t2 & 2 & a \\\\\n",
       "\t3 & 3 & a \\\\\n",
       "\\end{tabular}\n"
      ],
      "text/plain": [
       "\u001b[1m3×2 DataFrame\u001b[0m\n",
       "\u001b[1m Row \u001b[0m│\u001b[1m x     \u001b[0m\u001b[1m y    \u001b[0m\n",
       "\u001b[1m     \u001b[0m│\u001b[90m Int64 \u001b[0m\u001b[90m Cat… \u001b[0m\n",
       "─────┼─────────────\n",
       "   1 │     1  a\n",
       "   2 │     2  a\n",
       "   3 │     3  a"
      ]
     },
     "execution_count": 3,
     "metadata": {},
     "output_type": "execute_result"
    }
   ],
   "source": [
    "df = DataFrame(:x => [1, 2, 3, 4, 5, 1, 2, 3, 4, 5], :y => categorical(string.([:a, :a, :a, :b, :b, :b, :c, :c, :c, :c])))\n",
    "first(df, 3)"
   ]
  },
  {
   "cell_type": "code",
   "execution_count": 6,
   "id": "30d8c83f-ba8e-4561-9db0-9a61b95370ae",
   "metadata": {},
   "outputs": [],
   "source": [
    "gdf  = groupby(df, :y);"
   ]
  },
  {
   "cell_type": "code",
   "execution_count": 7,
   "id": "ef9bdfbb-173e-44c1-b4c8-84a5e2b5e9af",
   "metadata": {},
   "outputs": [
    {
     "name": "stdout",
     "output_type": "stream",
     "text": [
      "[1, 2, 3]\n",
      "[4, 5, 1]\n",
      "[2, 3, 4, 5]\n"
     ]
    }
   ],
   "source": [
    "for g in gdf\n",
    "    println(g[:, :x])\n",
    "end"
   ]
  },
  {
   "cell_type": "markdown",
   "id": "079c2843-4905-40b0-ba19-6603dd2f38e3",
   "metadata": {},
   "source": [
    "# 文件读写"
   ]
  },
  {
   "cell_type": "code",
   "execution_count": 12,
   "id": "decc2c63-f77e-4e15-aaf8-7b15e4675feb",
   "metadata": {},
   "outputs": [],
   "source": [
    "using DelimitedFiles\n",
    "using Random"
   ]
  },
  {
   "cell_type": "markdown",
   "id": "45c73e65-9051-4238-889e-77e3238112e9",
   "metadata": {},
   "source": [
    "## 写入矩阵"
   ]
  },
  {
   "cell_type": "code",
   "execution_count": 13,
   "id": "b2f28d71-cc5d-4497-8117-9ffc32092bd7",
   "metadata": {},
   "outputs": [],
   "source": [
    "N = 100\n",
    "x = rand(collect(1:10), N)\n",
    "y = randn(N)\n",
    "[x y];"
   ]
  },
  {
   "cell_type": "code",
   "execution_count": 14,
   "id": "f718d519-a0fb-4860-b525-190df19da850",
   "metadata": {},
   "outputs": [
    {
     "data": {
      "text/plain": [
       "\"C:\\\\Users\\\\xue\\\\Desktop\\\\Code\\\\笔记\\\\编程语言\\\\Julia\""
      ]
     },
     "execution_count": 14,
     "metadata": {},
     "output_type": "execute_result"
    }
   ],
   "source": [
    "pwd()"
   ]
  },
  {
   "cell_type": "code",
   "execution_count": 15,
   "id": "7587930a-b48d-492f-a6ae-20097c193df0",
   "metadata": {},
   "outputs": [],
   "source": [
    "writedlm(\"./Data/xy.txt\", [x y], ',')"
   ]
  },
  {
   "cell_type": "markdown",
   "id": "22c23f8a-a6a8-421c-83a7-4f630b5db29b",
   "metadata": {},
   "source": [
    "## 读取矩阵"
   ]
  },
  {
   "cell_type": "code",
   "execution_count": 16,
   "id": "4ace2b4f-2635-424a-9c72-70c1cc9a833b",
   "metadata": {},
   "outputs": [],
   "source": [
    "mat = readdlm(\"./Data/xy.txt\", ',');"
   ]
  },
  {
   "cell_type": "markdown",
   "id": "e4ce5a1a-126e-4eaf-b216-19a4704663b4",
   "metadata": {},
   "source": [
    "## 创建CSV"
   ]
  },
  {
   "cell_type": "code",
   "execution_count": 17,
   "id": "99e34a9a-b3b5-41b2-8d28-1939fa380d5c",
   "metadata": {},
   "outputs": [],
   "source": [
    "using CSV\n",
    "using DataFrames"
   ]
  },
  {
   "cell_type": "code",
   "execution_count": 18,
   "id": "b53ce29d-b840-4a17-bebf-4174a3c5c1e6",
   "metadata": {},
   "outputs": [
    {
     "data": {
      "text/html": [
       "<div class=\"data-frame\"><p>3 rows × 2 columns</p><table class=\"data-frame\"><thead><tr><th></th><th>x</th><th>y</th></tr><tr><th></th><th title=\"Int64\">Int64</th><th title=\"Float64\">Float64</th></tr></thead><tbody><tr><th>1</th><td>1</td><td>0.135971</td></tr><tr><th>2</th><td>2</td><td>-0.227822</td></tr><tr><th>3</th><td>10</td><td>-0.212262</td></tr></tbody></table></div>"
      ],
      "text/latex": [
       "\\begin{tabular}{r|cc}\n",
       "\t& x & y\\\\\n",
       "\t\\hline\n",
       "\t& Int64 & Float64\\\\\n",
       "\t\\hline\n",
       "\t1 & 1 & 0.135971 \\\\\n",
       "\t2 & 2 & -0.227822 \\\\\n",
       "\t3 & 10 & -0.212262 \\\\\n",
       "\\end{tabular}\n"
      ],
      "text/plain": [
       "\u001b[1m3×2 DataFrame\u001b[0m\n",
       "\u001b[1m Row \u001b[0m│\u001b[1m x     \u001b[0m\u001b[1m y         \u001b[0m\n",
       "\u001b[1m     \u001b[0m│\u001b[90m Int64 \u001b[0m\u001b[90m Float64   \u001b[0m\n",
       "─────┼──────────────────\n",
       "   1 │     1   0.135971\n",
       "   2 │     2  -0.227822\n",
       "   3 │    10  -0.212262"
      ]
     },
     "execution_count": 18,
     "metadata": {},
     "output_type": "execute_result"
    }
   ],
   "source": [
    "df = DataFrame(\"x\" => x, \"y\" => y)\n",
    "first(df, 3)"
   ]
  },
  {
   "cell_type": "code",
   "execution_count": 19,
   "id": "a1430a4d-a9f6-42ae-9d8b-a004bccec81d",
   "metadata": {},
   "outputs": [
    {
     "data": {
      "text/plain": [
       "\"./Data/xy.csv\""
      ]
     },
     "execution_count": 19,
     "metadata": {},
     "output_type": "execute_result"
    }
   ],
   "source": [
    "CSV.write(\"./Data/xy.csv\", df)"
   ]
  },
  {
   "cell_type": "markdown",
   "id": "2b0cb4e8-3b9f-472b-bdd7-bb922fa170d4",
   "metadata": {},
   "source": [
    "## 读取CSV"
   ]
  },
  {
   "cell_type": "code",
   "execution_count": 20,
   "id": "e8f9af2e-d6fc-4ed3-b702-008911c935a3",
   "metadata": {},
   "outputs": [
    {
     "data": {
      "text/html": [
       "<div class=\"data-frame\"><p>3 rows × 2 columns</p><table class=\"data-frame\"><thead><tr><th></th><th>x</th><th>y</th></tr><tr><th></th><th title=\"Int64\">Int64</th><th title=\"Float64\">Float64</th></tr></thead><tbody><tr><th>1</th><td>1</td><td>0.135971</td></tr><tr><th>2</th><td>2</td><td>-0.227822</td></tr><tr><th>3</th><td>10</td><td>-0.212262</td></tr></tbody></table></div>"
      ],
      "text/latex": [
       "\\begin{tabular}{r|cc}\n",
       "\t& x & y\\\\\n",
       "\t\\hline\n",
       "\t& Int64 & Float64\\\\\n",
       "\t\\hline\n",
       "\t1 & 1 & 0.135971 \\\\\n",
       "\t2 & 2 & -0.227822 \\\\\n",
       "\t3 & 10 & -0.212262 \\\\\n",
       "\\end{tabular}\n"
      ],
      "text/plain": [
       "\u001b[1m3×2 DataFrame\u001b[0m\n",
       "\u001b[1m Row \u001b[0m│\u001b[1m x     \u001b[0m\u001b[1m y         \u001b[0m\n",
       "\u001b[1m     \u001b[0m│\u001b[90m Int64 \u001b[0m\u001b[90m Float64   \u001b[0m\n",
       "─────┼──────────────────\n",
       "   1 │     1   0.135971\n",
       "   2 │     2  -0.227822\n",
       "   3 │    10  -0.212262"
      ]
     },
     "execution_count": 20,
     "metadata": {},
     "output_type": "execute_result"
    }
   ],
   "source": [
    "df = CSV.read(\"./Data/xy.csv\", DataFrame)\n",
    "first(df, 3)"
   ]
  },
  {
   "cell_type": "code",
   "execution_count": 21,
   "id": "0c330d0c-6a11-49d3-b27a-115b498c0e6c",
   "metadata": {},
   "outputs": [
    {
     "data": {
      "text/plain": [
       "([1.000000 0.135971; 2.000000 -0.227822; … ; 8.000000 0.425795; 5.000000 -0.918026], AbstractString[\"x\" \"y\"])"
      ]
     },
     "execution_count": 21,
     "metadata": {},
     "output_type": "execute_result"
    }
   ],
   "source": [
    "value, header = readdlm(\"./Data/xy.csv\", ','; header = true)"
   ]
  }
 ],
 "metadata": {
  "kernelspec": {
   "display_name": "Julia 1.9.4",
   "language": "julia",
   "name": "julia-1.9"
  },
  "language_info": {
   "file_extension": ".jl",
   "mimetype": "application/julia",
   "name": "julia",
   "version": "1.9.4"
  },
  "latex_envs": {
   "LaTeX_envs_menu_present": true,
   "autoclose": false,
   "autocomplete": true,
   "bibliofile": "biblio.bib",
   "cite_by": "apalike",
   "current_citInitial": 1,
   "eqLabelWithNumbers": true,
   "eqNumInitial": 1,
   "hotkeys": {
    "equation": "Ctrl-E",
    "itemize": "Ctrl-I"
   },
   "labels_anchors": false,
   "latex_user_defs": false,
   "report_style_numbering": false,
   "user_envs_cfg": false
  },
  "toc": {
   "base_numbering": 1,
   "nav_menu": {},
   "number_sections": true,
   "sideBar": true,
   "skip_h1_title": false,
   "title_cell": "Table of Contents",
   "title_sidebar": "Contents",
   "toc_cell": false,
   "toc_position": {
    "height": "calc(100% - 180px)",
    "left": "10px",
    "top": "150px",
    "width": "348.888px"
   },
   "toc_section_display": true,
   "toc_window_display": true
  }
 },
 "nbformat": 4,
 "nbformat_minor": 5
}
