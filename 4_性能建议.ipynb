{
 "cells": [
  {
   "cell_type": "markdown",
   "id": "2e6b944d",
   "metadata": {},
   "source": [
    "# 一般性能建议 —— 总结"
   ]
  },
  {
   "cell_type": "markdown",
   "id": "85d25efb-e3fe-4306-932c-96563c5984cd",
   "metadata": {},
   "source": [
    "基本常识：\n",
    "+ 动态编译（dynamic compilation）指的是“在运行时进行编译”；与之相对的是事前编译（ahead-of-time compilation，简称AOT），也叫静态编译（static compilation）。\n",
    "\n",
    "+ JIT编译（just-in-time compilation）狭义来说是当某段代码即将第一次被执行时进行编译，因而叫“即时编译”。JIT编译是动态编译的一种特例。JIT编译一词后来被泛化，时常与动态编译等价；但要注意广义与狭义的JIT编译所指的区别。"
   ]
  },
  {
   "cell_type": "markdown",
   "id": "3db70b4a-3422-4308-88c7-3c26aa3a9dc2",
   "metadata": {},
   "source": [
    "1. 编写类型稳定的代码\n",
    "- Julia程序执行分为编译期和执行期，编译期就能确定变量类型的代码为类型稳定的代码， 如果必须要程序真正跑起来才能确定变量类型，那说明类型不稳定，可以用`@code_warntype`检查\n",
    "- Julia的编译器会自动进行类型推断， 一般来说不需要进行类型标注，除了含糊不清的情况。\n",
    "- 避免使用全局变量，使用全局常量，或者将该变量作为函数参数传入函数体\n",
    "- 避免使用可变结构体，使用不可变结构体\n",
    "  - 结构体内的参数必须要进行类型声明，否则编译期无法确定类型，会导致类型不稳定的情况\n",
    "  - 结构体内的参数要通过参数化类型来声明为抽象类型的子类型\n",
    "2. 避免内存分配\n",
    "- 必要时使用数组的视图，而不是copy\n",
    "- 避免使用向量化代码，而是使用循环\n",
    "- 按列读取数组\n",
    "  - CPU利用三级缓存从内存中读取连续内容，而恰好Julia中的数据是按照列进行存储的，所以在进行for循环时，按照列进行进行循环，会减少CPU从内存读取的次数，加速运算，效果比较明显\n",
    "3. 其它\n",
    "- 使用`@inbounds`避免数组边界检查，建议在for-loop中和`eachindex()`, `axes()`搭配食用\n",
    "    - `@inbounds`可以和`@simd @threads`等一起使用，但是要放在最前边\n",
    "- Julia中的条件判断\n",
    "    - `ifelse(a > b, fun1, fun2)`, fun1和fun2都会被执行，等价于`fun1 * (a > b) + (1 - (a > b)) * fun2`，按道理讲这样计算会变慢，之所以存在这个函数，是因为`@simd`宏的使用必须要避免if判断，所以`ifelse`常常和`@simd`搭配使用，其它场景不太合适🚫\n",
    "    - `if a > b fun1 else fun2 end`和三元运算符`a > b ? fun1 : fun2`，只会执行一个分支"
   ]
  },
  {
   "cell_type": "markdown",
   "id": "4e991c16",
   "metadata": {},
   "source": [
    "# 工具箱"
   ]
  },
  {
   "cell_type": "markdown",
   "id": "01ce57b0",
   "metadata": {},
   "source": [
    "+ `@btime`(来自于BenchmarkTools包)用来判断程序执行时间和内存分配，julia自带的`@time`第一次执行加入了编译时间，而`@btime`得到的是多次计算取平均值，可能会比较慢\n",
    "+ `@code_llvm`获取llvm源码\n",
    "+ `@code_native`获汇编代码\n",
    "+ `@code_warntype`查看是否类型稳定"
   ]
  },
  {
   "cell_type": "code",
   "execution_count": 1,
   "id": "915d4f00-b032-4864-a3a3-85de4b5a72db",
   "metadata": {},
   "outputs": [
    {
     "ename": "LoadError",
     "evalue": "ArgumentError: Package LoopVectorization not found in current path.\n- Run `import Pkg; Pkg.add(\"LoopVectorization\")` to install the LoopVectorization package.",
     "output_type": "error",
     "traceback": [
      "ArgumentError: Package LoopVectorization not found in current path.\n- Run `import Pkg; Pkg.add(\"LoopVectorization\")` to install the LoopVectorization package.",
      "",
      "Stacktrace:",
      " [1] macro expansion",
      "   @ Base .\\loading.jl:1766 [inlined]",
      " [2] macro expansion",
      "   @ Base .\\lock.jl:267 [inlined]",
      " [3] __require(into::Module, mod::Symbol)",
      "   @ Base .\\loading.jl:1747",
      " [4] #invoke_in_world#3",
      "   @ Base .\\essentials.jl:921 [inlined]",
      " [5] invoke_in_world",
      "   @ Base .\\essentials.jl:918 [inlined]",
      " [6] require(into::Module, mod::Symbol)",
      "   @ Base .\\loading.jl:1740"
     ]
    }
   ],
   "source": [
    "using BenchmarkTools\n",
    "using LoopVectorization\n",
    "using VectorizedReduction # 基于LoopVectorization的高效压缩计算库\n",
    "using StatsFuns"
   ]
  },
  {
   "cell_type": "markdown",
   "id": "b92d8b58",
   "metadata": {},
   "source": [
    "# 内存优化"
   ]
  },
  {
   "cell_type": "markdown",
   "id": "99c8e71e-cd04-4b59-8a63-305f04d6e9b1",
   "metadata": {},
   "source": [
    "## 必要时使用数组视图而不是切片"
   ]
  },
  {
   "cell_type": "code",
   "execution_count": 2,
   "id": "7947e26d",
   "metadata": {},
   "outputs": [],
   "source": [
    "a = rand(100);"
   ]
  },
  {
   "cell_type": "code",
   "execution_count": 3,
   "id": "2e6a4e37",
   "metadata": {
    "scrolled": true
   },
   "outputs": [
    {
     "name": "stdout",
     "output_type": "stream",
     "text": [
      "  77.915 ns (2 allocations: 240 bytes)\n"
     ]
    }
   ],
   "source": [
    "@btime sum(a[1:20]);"
   ]
  },
  {
   "cell_type": "code",
   "execution_count": 4,
   "id": "64b9bc17",
   "metadata": {},
   "outputs": [
    {
     "name": "stdout",
     "output_type": "stream",
     "text": [
      "  49.899 ns (2 allocations: 64 bytes)\n"
     ]
    }
   ],
   "source": [
    "@btime @views sum(a[1:20]);"
   ]
  },
  {
   "cell_type": "code",
   "execution_count": 5,
   "id": "5217cdd2-2d37-473e-9462-2c26a6c2157c",
   "metadata": {},
   "outputs": [
    {
     "data": {
      "text/plain": [
       "10-element view(::Vector{Float64}, 1:10) with eltype Float64:\n",
       " 1.0000\n",
       " 1.0000\n",
       " 1.0000\n",
       " 1.0000\n",
       " 1.0000\n",
       " 1.0000\n",
       " 1.0000\n",
       " 1.0000\n",
       " 1.0000\n",
       " 1.0000"
      ]
     },
     "execution_count": 5,
     "metadata": {},
     "output_type": "execute_result"
    }
   ],
   "source": [
    "a[1:10] .= 1.0"
   ]
  },
  {
   "cell_type": "code",
   "execution_count": 6,
   "id": "37236e44-c9dd-48b8-8f66-c2b7f95c51a1",
   "metadata": {},
   "outputs": [
    {
     "name": "stdout",
     "output_type": "stream",
     "text": [
      "  41.877 ns (1 allocation: 16 bytes)\n"
     ]
    },
    {
     "data": {
      "text/plain": [
       "0.4629"
      ]
     },
     "execution_count": 6,
     "metadata": {},
     "output_type": "execute_result"
    }
   ],
   "source": [
    "@btime a[end]"
   ]
  },
  {
   "cell_type": "code",
   "execution_count": 7,
   "id": "5a8d2867-503b-4295-a953-454af481a2ce",
   "metadata": {},
   "outputs": [
    {
     "name": "stdout",
     "output_type": "stream",
     "text": [
      "  41.532 ns (1 allocation: 48 bytes)\n"
     ]
    },
    {
     "data": {
      "text/plain": [
       "0-dimensional view(::Vector{Float64}, 100) with eltype Float64:\n",
       "0.4629"
      ]
     },
     "execution_count": 7,
     "metadata": {},
     "output_type": "execute_result"
    }
   ],
   "source": [
    "@btime @view a[end]"
   ]
  },
  {
   "cell_type": "markdown",
   "id": "18833c2d-0e27-4aca-bc2d-ba74b030ce57",
   "metadata": {},
   "source": [
    "+ `a[1:10]`会copy数据，而`a[1:10] .= 1.0`是直接修改`a`，也可以说是在视图上修改，是十分高效的，使用视图都是针对第一种不是赋值修改的操作\n",
    "  - 题外话：Julia大部分以`！`结尾的函数直接修改输入，采用的方法，很多就是`a[1:10] .= 1.0`，但是要注意的是，要避免重复创建数组，能用上一步已经创建好的数据，就不要创建新的，这个带来的提升是巨大的；\n",
    "+ **数组的多个位置的索引(例如`a[100, :]`, `a[1:100, :]`索引一行或者一列甚至是不连续索引)使用视图，提升非常明显（几乎是1倍的提升）**\n",
    "+ **单个点索引使用视图没有效果，反而会时程序运行更慢，原因大概是创建视图的时间要高于`getindex()`执行一次的时间**\n",
    "+ `@view`与`@views`的区别\n",
    "  - `@view`只能处理单个变量的索引，例如`+(@view a[1], a[2])`会报错，因为它把`, @a[2]`也传入给了`@view`;\n",
    "  - `@view`必须和要索引的变量紧挨着，例如`@view sum(a[1:2])`就会报错，必须是`sum(@view a[1:2])`;\n",
    "  - `@views`恰好解决了以上两个问题，例如`@views +(a[1], a[2])`，`@views`置于行首，那么该行都会使用视图进行切片；"
   ]
  },
  {
   "cell_type": "markdown",
   "id": "7d6e708d-70aa-4f70-ae7d-d2bacc7cc7da",
   "metadata": {},
   "source": [
    "## 按照列的方式索引矩阵"
   ]
  },
  {
   "cell_type": "markdown",
   "id": "a26fc447-bfb0-4c31-a8d6-fd0eea82fc02",
   "metadata": {},
   "source": [
    "Julia按照coloumn-major的方式存储多维数组，所以按照列索引进行循环，程序的性能可以提高数倍相比于按照行索引。\n",
    "\n",
    "原因在于：按照列索引是顺序阅读数据，可以利用CPU的cache，提高缓存命中率🎯\n",
    "\n",
    "[参考资料](https://eli.thegreenplace.net/2015/memory-layout-of-multi-dimensional-arrays#:~:text=The%20row%2Dmajor%20layout%20of,%2C%20then%20the%20second%2C%20etc.)"
   ]
  },
  {
   "cell_type": "markdown",
   "id": "1bceec06-9710-4ed2-b53d-f335198e0425",
   "metadata": {},
   "source": [
    "![](https://eli.thegreenplace.net/images/2015/column-major-2D.png)"
   ]
  },
  {
   "cell_type": "markdown",
   "id": "5ca990b7",
   "metadata": {},
   "source": [
    "## 循环快于广播"
   ]
  },
  {
   "cell_type": "markdown",
   "id": "99be0df3",
   "metadata": {},
   "source": [
    "R和Matlab的向量化代码比较快的原因是\n",
    "+ 向量化代码用C语言展开为for-loop，不受到R或Matlab本身的限制\n",
    "+ 底层使用C时，数值类型明确，可以触发更加高效的优化手段（如simd）"
   ]
  },
  {
   "cell_type": "code",
   "execution_count": 8,
   "id": "f251a10b",
   "metadata": {},
   "outputs": [],
   "source": [
    "N = 1000\n",
    "a = randn(N)\n",
    "b = randn(N)\n",
    "c = rand(N)\n",
    "d = randn(N) * 2;"
   ]
  },
  {
   "cell_type": "code",
   "execution_count": 9,
   "id": "0d0f5605",
   "metadata": {},
   "outputs": [
    {
     "data": {
      "text/plain": [
       "testdot (generic function with 1 method)"
      ]
     },
     "execution_count": 9,
     "metadata": {},
     "output_type": "execute_result"
    }
   ],
   "source": [
    "function testdot(a, b, c, d)\n",
    "    return sum(a .* b .+ c./ d .- 1) \n",
    "end"
   ]
  },
  {
   "cell_type": "code",
   "execution_count": 10,
   "id": "36678a4a",
   "metadata": {},
   "outputs": [
    {
     "name": "stdout",
     "output_type": "stream",
     "text": [
      "  701.852 ns (1 allocation: 7.94 KiB)\n"
     ]
    },
    {
     "data": {
      "text/plain": [
       "12.1627"
      ]
     },
     "execution_count": 10,
     "metadata": {},
     "output_type": "execute_result"
    }
   ],
   "source": [
    "@btime testdot($a, $b, $c, $d)"
   ]
  },
  {
   "cell_type": "code",
   "execution_count": 11,
   "id": "5b9de372",
   "metadata": {},
   "outputs": [
    {
     "ename": "LoadError",
     "evalue": "LoadError: UndefVarError: `@turbo` not defined\nin expression starting at In[11]:3",
     "output_type": "error",
     "traceback": [
      "LoadError: UndefVarError: `@turbo` not defined\nin expression starting at In[11]:3",
      ""
     ]
    }
   ],
   "source": [
    "function testloop(a, b, c, d)\n",
    "    s = zero(eltype(a))\n",
    "    @turbo for i in eachindex(a)\n",
    "        s += a[i] * b[i] + c[i] / d[i] - 1\n",
    "    end\n",
    "    return s;\n",
    "end\n",
    "\n",
    "@btime testloop($a, $b, $c, $d)"
   ]
  },
  {
   "cell_type": "markdown",
   "id": "587a6c50",
   "metadata": {},
   "source": [
    "注意这里的for-loop版本的计算很明显要快于向量化计算，原因在于这么几个方面\n",
    "+ 向量化代码需要更高的内存占用，储存的中间变量为矩阵\n",
    "+ for-loop使用`@inbounds`，避免了数组边界检查（配合`eachindex`可以确保不会越界）\n",
    "+ for-loop使用`@simd`，CPU级别的并行，意思是`单指令多数据`，在有AVX指令的Intel CPU的效果最好，原理在于，寄存器较大，一次运算可以同时处理载入的4批数据（4 * 64= 256 bit），注意事项：用在单层循环，循环的顺序对结果没有影响时才可以使用\n",
    "+ **不使用`@simd` `@inbounds`的循环性能不如向量化版本**\n",
    "\n",
    "在实际使用中， 向量化操作简洁易懂， 如果把向量化操作写成for-loop的形式，可以单独把它写成一个函数，这样能让程序更简洁"
   ]
  },
  {
   "cell_type": "markdown",
   "id": "d5a1082f-0df4-441d-8163-b18008cc19bb",
   "metadata": {},
   "source": [
    "# 编写类型稳定的代码"
   ]
  },
  {
   "cell_type": "markdown",
   "id": "cd12e9c6",
   "metadata": {},
   "source": [
    "## Val()"
   ]
  },
  {
   "cell_type": "markdown",
   "id": "b8c78ea1",
   "metadata": {},
   "source": [
    "Val可以给Julia编译器提供额外的类型信息"
   ]
  },
  {
   "cell_type": "code",
   "execution_count": 12,
   "id": "b4075df6",
   "metadata": {},
   "outputs": [],
   "source": [
    "using StaticArrays"
   ]
  },
  {
   "cell_type": "code",
   "execution_count": 13,
   "id": "9c22f1c8",
   "metadata": {},
   "outputs": [
    {
     "data": {
      "text/plain": [
       "4-element SVector{4, Float64} with indices SOneTo(4):\n",
       " 1.0000\n",
       " 2.0000\n",
       " 3.0000\n",
       " 4.0000"
      ]
     },
     "execution_count": 13,
     "metadata": {},
     "output_type": "execute_result"
    }
   ],
   "source": [
    "SVector{4, Float64}(1:4)"
   ]
  },
  {
   "cell_type": "code",
   "execution_count": 14,
   "id": "f6f4e57b",
   "metadata": {},
   "outputs": [
    {
     "data": {
      "text/plain": [
       "static (generic function with 1 method)"
      ]
     },
     "execution_count": 14,
     "metadata": {},
     "output_type": "execute_result"
    }
   ],
   "source": [
    "function static(v::Vector)\n",
    "    return SVector{length(v), eltype(v)}(v)\n",
    "end"
   ]
  },
  {
   "cell_type": "code",
   "execution_count": 15,
   "id": "d92cd873",
   "metadata": {},
   "outputs": [
    {
     "name": "stdout",
     "output_type": "stream",
     "text": [
      "MethodInstance for static(::Vector{Float64})\n",
      "  from static(\u001b[90mv\u001b[39m::\u001b[1mVector\u001b[22m)\u001b[90m @\u001b[39m \u001b[90mMain\u001b[39m \u001b[90m\u001b[4mIn[14]:1\u001b[24m\u001b[39m\n",
      "Arguments\n",
      "  #self#\u001b[36m::Core.Const(static)\u001b[39m\n",
      "  v\u001b[36m::Vector{Float64}\u001b[39m\n",
      "Body\u001b[91m\u001b[1m::Any\u001b[22m\u001b[39m\n",
      "\u001b[90m1 ─\u001b[39m %1 = Main.SVector\u001b[36m::Core.Const(SVector)\u001b[39m\n",
      "\u001b[90m│  \u001b[39m %2 = Main.length(v)\u001b[36m::Int64\u001b[39m\n",
      "\u001b[90m│  \u001b[39m %3 = Main.eltype(v)\u001b[36m::Core.Const(Float64)\u001b[39m\n",
      "\u001b[90m│  \u001b[39m %4 = Core.apply_type(%1, %2, %3)\u001b[91m\u001b[1m::Type{SVector{_A, Float64}} where _A\u001b[22m\u001b[39m\n",
      "\u001b[90m│  \u001b[39m %5 = (%4)(v)\u001b[91m\u001b[1m::Any\u001b[22m\u001b[39m\n",
      "\u001b[90m└──\u001b[39m      return %5\n",
      "\n"
     ]
    }
   ],
   "source": [
    "@code_warntype static([1, 2, 3.0])"
   ]
  },
  {
   "cell_type": "markdown",
   "id": "a9f20176",
   "metadata": {},
   "source": [
    "为啥显示类型不稳定？程序在编译时仍然不知道length(v)是多少，运行时才知道，但是`eltype(v)`在编译时是知道的，julia能推断出`eltype(v)`, 从这大概可以看出，Julia编译器可以对类型进行推断，但无法对表达式进行腿推断"
   ]
  },
  {
   "cell_type": "markdown",
   "id": "2b11c548",
   "metadata": {},
   "source": [
    "Julia对于`Val`结构体的定义, 可以看出`Val(X)`实例化了一个结构体， 得到`Val{X}()`\n",
    "> ```julia\n",
    "struct Val{X} where X end\n",
    "Val(X) = Val{X}()\n",
    "```"
   ]
  },
  {
   "cell_type": "markdown",
   "id": "c6d943df-e4ea-419b-94b4-57fdbc2e4d66",
   "metadata": {},
   "source": [
    "可以看出`Val`既是一个参数化的结构体`Val{}`，也是一个构造函数`Val()`。与常规结构体不同的是，`Val{x}`中的`x`不一定是一个`类型`，也可以是值。因为这个结构体中没有任何的field"
   ]
  },
  {
   "cell_type": "code",
   "execution_count": 16,
   "id": "f7a17ffa-84cd-4521-a8f7-91dc07cbc789",
   "metadata": {},
   "outputs": [
    {
     "data": {
      "text/plain": [
       "(Val{1}(), Val{Int64}())"
      ]
     },
     "execution_count": 16,
     "metadata": {},
     "output_type": "execute_result"
    }
   ],
   "source": [
    "Val(1), Val(Int64)"
   ]
  },
  {
   "cell_type": "code",
   "execution_count": 17,
   "id": "f1ed2dc4",
   "metadata": {},
   "outputs": [
    {
     "data": {
      "text/plain": [
       "static2 (generic function with 1 method)"
      ]
     },
     "execution_count": 17,
     "metadata": {},
     "output_type": "execute_result"
    }
   ],
   "source": [
    "function static2(v::Vector, ::Val{l}) where {l}\n",
    "    return SVector{l, eltype(v)}(v)\n",
    "end"
   ]
  },
  {
   "cell_type": "code",
   "execution_count": 18,
   "id": "bf911602",
   "metadata": {},
   "outputs": [
    {
     "data": {
      "text/plain": [
       "static3 (generic function with 1 method)"
      ]
     },
     "execution_count": 18,
     "metadata": {},
     "output_type": "execute_result"
    }
   ],
   "source": [
    "function static3(v::Vector, l::Int64)\n",
    "    return SVector{l, eltype(v)}(v)\n",
    "end"
   ]
  },
  {
   "cell_type": "code",
   "execution_count": 19,
   "id": "9d51b86c",
   "metadata": {},
   "outputs": [
    {
     "name": "stdout",
     "output_type": "stream",
     "text": [
      "MethodInstance for static2(::Vector{Int64}, ::Val{3})\n",
      "  from static2(\u001b[90mv\u001b[39m::\u001b[1mVector\u001b[22m, ::\u001b[1mVal\u001b[22m\u001b[0m{l}) where l\u001b[90m @\u001b[39m \u001b[90mMain\u001b[39m \u001b[90m\u001b[4mIn[17]:1\u001b[24m\u001b[39m\n",
      "Static Parameters\n",
      "  l = \u001b[36m3\u001b[39m\n",
      "Arguments\n",
      "  #self#\u001b[36m::Core.Const(static2)\u001b[39m\n",
      "  v\u001b[36m::Vector{Int64}\u001b[39m\n",
      "  _\u001b[36m::Core.Const(Val{3}())\u001b[39m\n",
      "Body\u001b[36m::SVector{3, Int64}\u001b[39m\n",
      "\u001b[90m1 ─\u001b[39m %1 = Main.SVector\u001b[36m::Core.Const(SVector)\u001b[39m\n",
      "\u001b[90m│  \u001b[39m %2 = $(Expr(:static_parameter, 1))\u001b[36m::Core.Const(3)\u001b[39m\n",
      "\u001b[90m│  \u001b[39m %3 = Main.eltype(v)\u001b[36m::Core.Const(Int64)\u001b[39m\n",
      "\u001b[90m│  \u001b[39m %4 = Core.apply_type(%1, %2, %3)\u001b[36m::Core.Const(SVector{3, Int64})\u001b[39m\n",
      "\u001b[90m│  \u001b[39m %5 = (%4)(v)\u001b[36m::SVector{3, Int64}\u001b[39m\n",
      "\u001b[90m└──\u001b[39m      return %5\n",
      "\n"
     ]
    }
   ],
   "source": [
    "@code_warntype static2([1, 2, 3], Val(3))"
   ]
  },
  {
   "cell_type": "markdown",
   "id": "3d05ce5f",
   "metadata": {},
   "source": [
    "上边的代码为啥类型稳定了？ “它将值l作为编译器就可以知道的类型信息告诉julia了” -JonnyChen"
   ]
  },
  {
   "cell_type": "code",
   "execution_count": 20,
   "id": "c9800421",
   "metadata": {},
   "outputs": [
    {
     "name": "stdout",
     "output_type": "stream",
     "text": [
      "MethodInstance for static3(::Vector{Int64}, ::Int64)\n",
      "  from static3(\u001b[90mv\u001b[39m::\u001b[1mVector\u001b[22m, \u001b[90ml\u001b[39m::\u001b[1mInt64\u001b[22m)\u001b[90m @\u001b[39m \u001b[90mMain\u001b[39m \u001b[90m\u001b[4mIn[18]:1\u001b[24m\u001b[39m\n",
      "Arguments\n",
      "  #self#\u001b[36m::Core.Const(static3)\u001b[39m\n",
      "  v\u001b[36m::Vector{Int64}\u001b[39m\n",
      "  l\u001b[36m::Int64\u001b[39m\n",
      "Body\u001b[91m\u001b[1m::Any\u001b[22m\u001b[39m\n",
      "\u001b[90m1 ─\u001b[39m %1 = Main.SVector\u001b[36m::Core.Const(SVector)\u001b[39m\n",
      "\u001b[90m│  \u001b[39m %2 = Main.eltype(v)\u001b[36m::Core.Const(Int64)\u001b[39m\n",
      "\u001b[90m│  \u001b[39m %3 = Core.apply_type(%1, l, %2)\u001b[91m\u001b[1m::Type{SVector{_A, Int64}} where _A\u001b[22m\u001b[39m\n",
      "\u001b[90m│  \u001b[39m %4 = (%3)(v)\u001b[91m\u001b[1m::Any\u001b[22m\u001b[39m\n",
      "\u001b[90m└──\u001b[39m      return %4\n",
      "\n"
     ]
    }
   ],
   "source": [
    "@code_warntype static3([1, 2, 3], 3)"
   ]
  },
  {
   "cell_type": "markdown",
   "id": "1d14edb9",
   "metadata": {},
   "source": [
    "这个为啥类型不稳定呢？ 貌似3是作为一个变量传进去的， 在llvm源码中看到 `_A = 3`这个代码， 应该是要先执行这个代码， 再去生成`SVector（）`"
   ]
  },
  {
   "cell_type": "code",
   "execution_count": 21,
   "id": "b8b29d41-4937-4421-8791-6deadb4ab030",
   "metadata": {},
   "outputs": [
    {
     "name": "stdout",
     "output_type": "stream",
     "text": [
      "MethodInstance for static4(::VecS)\n",
      "  from static4(\u001b[90md\u001b[39m::\u001b[1mVecS\u001b[22m)\u001b[90m @\u001b[39m \u001b[90mMain\u001b[39m \u001b[90m\u001b[4mIn[21]:6\u001b[24m\u001b[39m\n",
      "Arguments\n",
      "  #self#\u001b[36m::Core.Const(static4)\u001b[39m\n",
      "  d\u001b[36m::VecS\u001b[39m\n",
      "Body\u001b[36m::SVector{2, Any}\u001b[39m\n",
      "\u001b[90m1 ─\u001b[39m %1 = Base.getproperty(d, :x)\u001b[36m::Vector{Int64}\u001b[39m\n",
      "\u001b[90m│  \u001b[39m %2 = Base.getproperty(d, :y)\u001b[36m::Int64\u001b[39m\n",
      "\u001b[90m│  \u001b[39m %3 = Main.SVector(%1, %2)\u001b[36m::Core.PartialStruct(SVector{2, Any}, Any[Tuple{Vector{Int64}, Int64}])\u001b[39m\n",
      "\u001b[90m└──\u001b[39m      return %3\n",
      "\n"
     ]
    }
   ],
   "source": [
    "struct VecS\n",
    "    x::Vector{Int64}\n",
    "    y::Int64\n",
    "end\n",
    "\n",
    "function static4(d::VecS)\n",
    "    return SVector(d.x, d.y)\n",
    "end\n",
    "\n",
    "@code_warntype static4(VecS([1, 2, 3], 3))"
   ]
  },
  {
   "cell_type": "markdown",
   "id": "cdb3eea3",
   "metadata": {},
   "source": [
    "## 避免声明容器内元素为抽象类型"
   ]
  },
  {
   "cell_type": "markdown",
   "id": "af9d2180",
   "metadata": {},
   "source": [
    "容器包含：数组，矩阵，向量，元组，命名元组，结构体，自定义结构体等"
   ]
  },
  {
   "cell_type": "code",
   "execution_count": 22,
   "id": "660cd8ac",
   "metadata": {},
   "outputs": [],
   "source": [
    "# apple必须是抽象类型\n",
    "struct badstructs\n",
    "    apple::AbstractString \n",
    "end"
   ]
  },
  {
   "cell_type": "code",
   "execution_count": 23,
   "id": "4787e3de",
   "metadata": {},
   "outputs": [],
   "source": [
    "# apple是AbstractString的子类型即可，实例化时Julia会自动选择范围最小的那个具体类型\n",
    "struct goodstructs{T<:AbstractString}\n",
    "    apple::T \n",
    "end"
   ]
  },
  {
   "cell_type": "code",
   "execution_count": 24,
   "id": "4eda2ba3",
   "metadata": {},
   "outputs": [
    {
     "data": {
      "text/plain": [
       "badstructs"
      ]
     },
     "execution_count": 24,
     "metadata": {},
     "output_type": "execute_result"
    }
   ],
   "source": [
    "typeof(badstructs(\"apple\"))"
   ]
  },
  {
   "cell_type": "code",
   "execution_count": 25,
   "id": "315bb2e0",
   "metadata": {},
   "outputs": [
    {
     "data": {
      "text/plain": [
       "goodstructs{String}"
      ]
     },
     "execution_count": 25,
     "metadata": {},
     "output_type": "execute_result"
    }
   ],
   "source": [
    "typeof(goodstructs(\"apple\"))"
   ]
  },
  {
   "cell_type": "markdown",
   "id": "8ab72ee6",
   "metadata": {},
   "source": [
    "## 不要在函数内部使用全局变量"
   ]
  },
  {
   "cell_type": "markdown",
   "id": "c9a7fc47",
   "metadata": {},
   "source": [
    "### 函数内部使用全局变量(Bad)"
   ]
  },
  {
   "cell_type": "code",
   "execution_count": 26,
   "id": "a22cb719",
   "metadata": {},
   "outputs": [
    {
     "data": {
      "text/plain": [
       "sumI1 (generic function with 1 method)"
      ]
     },
     "execution_count": 26,
     "metadata": {},
     "output_type": "execute_result"
    }
   ],
   "source": [
    "# Bad way\n",
    "I = 100\n",
    "x = randn(I)\n",
    "function sumI1()\n",
    "    s = zero(eltype(x))\n",
    "    for i in 1:I\n",
    "        s+=x[i]\n",
    "    end\n",
    "    return s\n",
    "end"
   ]
  },
  {
   "cell_type": "code",
   "execution_count": 27,
   "id": "2775e487",
   "metadata": {},
   "outputs": [
    {
     "name": "stdout",
     "output_type": "stream",
     "text": [
      "MethodInstance for sumI1()\n",
      "  from sumI1()\u001b[90m @\u001b[39m \u001b[90mMain\u001b[39m \u001b[90m\u001b[4mIn[26]:4\u001b[24m\u001b[39m\n",
      "Arguments\n",
      "  #self#\u001b[36m::Core.Const(sumI1)\u001b[39m\n",
      "Locals\n",
      "  @_2\u001b[91m\u001b[1m::Any\u001b[22m\u001b[39m\n",
      "  s\u001b[91m\u001b[1m::Any\u001b[22m\u001b[39m\n",
      "  i\u001b[91m\u001b[1m::Any\u001b[22m\u001b[39m\n",
      "Body\u001b[91m\u001b[1m::Any\u001b[22m\u001b[39m\n",
      "\u001b[90m1 ─\u001b[39m %1  = Main.eltype(Main.x)\u001b[91m\u001b[1m::Any\u001b[22m\u001b[39m\n",
      "\u001b[90m│  \u001b[39m       (s = Main.zero(%1))\n",
      "\u001b[90m│  \u001b[39m %3  = (1:Main.I)\u001b[91m\u001b[1m::Any\u001b[22m\u001b[39m\n",
      "\u001b[90m│  \u001b[39m       (@_2 = Base.iterate(%3))\n",
      "\u001b[90m│  \u001b[39m %5  = (@_2 === nothing)\u001b[36m::Bool\u001b[39m\n",
      "\u001b[90m│  \u001b[39m %6  = Base.not_int(%5)\u001b[36m::Bool\u001b[39m\n",
      "\u001b[90m└──\u001b[39m       goto #4 if not %6\n",
      "\u001b[90m2 ┄\u001b[39m %8  = @_2\u001b[91m\u001b[1m::Any\u001b[22m\u001b[39m\n",
      "\u001b[90m│  \u001b[39m       (i = Core.getfield(%8, 1))\n",
      "\u001b[90m│  \u001b[39m %10 = Core.getfield(%8, 2)\u001b[91m\u001b[1m::Any\u001b[22m\u001b[39m\n",
      "\u001b[90m│  \u001b[39m %11 = s\u001b[91m\u001b[1m::Any\u001b[22m\u001b[39m\n",
      "\u001b[90m│  \u001b[39m %12 = Base.getindex(Main.x, i)\u001b[91m\u001b[1m::Any\u001b[22m\u001b[39m\n",
      "\u001b[90m│  \u001b[39m       (s = %11 + %12)\n",
      "\u001b[90m│  \u001b[39m       (@_2 = Base.iterate(%3, %10))\n",
      "\u001b[90m│  \u001b[39m %15 = (@_2 === nothing)\u001b[36m::Bool\u001b[39m\n",
      "\u001b[90m│  \u001b[39m %16 = Base.not_int(%15)\u001b[36m::Bool\u001b[39m\n",
      "\u001b[90m└──\u001b[39m       goto #4 if not %16\n",
      "\u001b[90m3 ─\u001b[39m       goto #2\n",
      "\u001b[90m4 ┄\u001b[39m       return s\n",
      "\n"
     ]
    }
   ],
   "source": [
    "@code_warntype sumI1()"
   ]
  },
  {
   "cell_type": "markdown",
   "id": "f5f70c95",
   "metadata": {},
   "source": [
    "`I`和`x`是全局变量， 函数内部使用了全局变量， 运行时程序不会报错， 但是出现了类型不稳定的情况，原因是`s`和`I`在编译时不知道类型， 只有在执行时才知道"
   ]
  },
  {
   "cell_type": "markdown",
   "id": "e45f1a6a-7f5b-44e1-be37-9dd53b123ed4",
   "metadata": {},
   "source": [
    "正确的做法：\n",
    "+ Method 1（不推荐）: 声明I和x为全局常量，`const I = 100`, 但是不推荐，因为Julia REPL中更改全局常量会警告你`有可能会修改失败`\n",
    "+ Method 2（推荐）：将I和x以参数的形式传入到函数中"
   ]
  },
  {
   "cell_type": "code",
   "execution_count": 28,
   "id": "e51d7706",
   "metadata": {},
   "outputs": [
    {
     "data": {
      "text/plain": [
       "sumI2 (generic function with 1 method)"
      ]
     },
     "execution_count": 28,
     "metadata": {},
     "output_type": "execute_result"
    }
   ],
   "source": [
    "# Method 2 demo\n",
    "function sumI2(I, x)\n",
    "    s = zero(eltype(x))\n",
    "    for i in 1:I\n",
    "        s+=x[i]\n",
    "    end\n",
    "    return s\n",
    "end"
   ]
  },
  {
   "cell_type": "code",
   "execution_count": 29,
   "id": "b4cafae8",
   "metadata": {},
   "outputs": [
    {
     "name": "stdout",
     "output_type": "stream",
     "text": [
      "MethodInstance for sumI2(::Int64, ::Vector{Float64})\n",
      "  from sumI2(\u001b[90mI\u001b[39m, \u001b[90mx\u001b[39m)\u001b[90m @\u001b[39m \u001b[90mMain\u001b[39m \u001b[90m\u001b[4mIn[28]:2\u001b[24m\u001b[39m\n",
      "Arguments\n",
      "  #self#\u001b[36m::Core.Const(sumI2)\u001b[39m\n",
      "  I\u001b[36m::Int64\u001b[39m\n",
      "  x\u001b[36m::Vector{Float64}\u001b[39m\n",
      "Locals\n",
      "  @_4\u001b[33m\u001b[1m::Union{Nothing, Tuple{Int64, Int64}}\u001b[22m\u001b[39m\n",
      "  s\u001b[36m::Float64\u001b[39m\n",
      "  i\u001b[36m::Int64\u001b[39m\n",
      "Body\u001b[36m::Float64\u001b[39m\n",
      "\u001b[90m1 ─\u001b[39m %1  = Main.eltype(x)\u001b[36m::Core.Const(Float64)\u001b[39m\n",
      "\u001b[90m│  \u001b[39m       (s = Main.zero(%1))\n",
      "\u001b[90m│  \u001b[39m %3  = (1:I)\u001b[36m::Core.PartialStruct(UnitRange{Int64}, Any[Core.Const(1), Int64])\u001b[39m\n",
      "\u001b[90m│  \u001b[39m       (@_4 = Base.iterate(%3))\n",
      "\u001b[90m│  \u001b[39m %5  = (@_4 === nothing)\u001b[36m::Bool\u001b[39m\n",
      "\u001b[90m│  \u001b[39m %6  = Base.not_int(%5)\u001b[36m::Bool\u001b[39m\n",
      "\u001b[90m└──\u001b[39m       goto #4 if not %6\n",
      "\u001b[90m2 ┄\u001b[39m %8  = @_4\u001b[36m::Tuple{Int64, Int64}\u001b[39m\n",
      "\u001b[90m│  \u001b[39m       (i = Core.getfield(%8, 1))\n",
      "\u001b[90m│  \u001b[39m %10 = Core.getfield(%8, 2)\u001b[36m::Int64\u001b[39m\n",
      "\u001b[90m│  \u001b[39m %11 = s\u001b[36m::Float64\u001b[39m\n",
      "\u001b[90m│  \u001b[39m %12 = Base.getindex(x, i)\u001b[36m::Float64\u001b[39m\n",
      "\u001b[90m│  \u001b[39m       (s = %11 + %12)\n",
      "\u001b[90m│  \u001b[39m       (@_4 = Base.iterate(%3, %10))\n",
      "\u001b[90m│  \u001b[39m %15 = (@_4 === nothing)\u001b[36m::Bool\u001b[39m\n",
      "\u001b[90m│  \u001b[39m %16 = Base.not_int(%15)\u001b[36m::Bool\u001b[39m\n",
      "\u001b[90m└──\u001b[39m       goto #4 if not %16\n",
      "\u001b[90m3 ─\u001b[39m       goto #2\n",
      "\u001b[90m4 ┄\u001b[39m       return s\n",
      "\n"
     ]
    }
   ],
   "source": [
    "@code_warntype sumI2(I, x)"
   ]
  },
  {
   "cell_type": "markdown",
   "id": "f590f11f-bf6b-43f2-944a-0b29f81e3d7a",
   "metadata": {},
   "source": [
    "### 函数通过结构体传入数据"
   ]
  },
  {
   "cell_type": "markdown",
   "id": "24143f05-bd91-452a-a193-d6b624434013",
   "metadata": {},
   "source": [
    "避免使用可变的`mutable struct`而是使用不可变的`struct`，不可变结构体放在stack上，内存寻址快，可变结构体放在heap上，访问慢， 不可变的是最高效的"
   ]
  },
  {
   "cell_type": "code",
   "execution_count": 36,
   "id": "1a19737a",
   "metadata": {},
   "outputs": [
    {
     "data": {
      "text/plain": [
       "sumI3 (generic function with 1 method)"
      ]
     },
     "execution_count": 36,
     "metadata": {},
     "output_type": "execute_result"
    }
   ],
   "source": [
    "# 结构体内不声明参数类型，编译期不知道fields是什么类型，执行时才知道\n",
    "struct data\n",
    "    I\n",
    "    x\n",
    "end\n",
    "function sumI3(d::data)\n",
    "    x, I = d.x, d.I\n",
    "    s = zero(eltype(x))\n",
    "    for i in 1:I\n",
    "        s+=x[i]\n",
    "    end\n",
    "    return s\n",
    "end"
   ]
  },
  {
   "cell_type": "code",
   "execution_count": 43,
   "id": "3774eee1",
   "metadata": {},
   "outputs": [
    {
     "name": "stdout",
     "output_type": "stream",
     "text": [
      "MethodInstance for sumI3(::data)\n",
      "  from sumI3(\u001b[90md\u001b[39m::\u001b[1mdata\u001b[22m)\u001b[90m @\u001b[39m \u001b[90mMain\u001b[39m \u001b[90m\u001b[4mIn[36]:6\u001b[24m\u001b[39m\n",
      "Arguments\n",
      "  #self#\u001b[36m::Core.Const(sumI3)\u001b[39m\n",
      "  d\u001b[36m::data\u001b[39m\n",
      "Locals\n",
      "  @_3\u001b[91m\u001b[1m::Any\u001b[22m\u001b[39m\n",
      "  s\u001b[91m\u001b[1m::Any\u001b[22m\u001b[39m\n",
      "  I\u001b[91m\u001b[1m::Any\u001b[22m\u001b[39m\n",
      "  x\u001b[91m\u001b[1m::Any\u001b[22m\u001b[39m\n",
      "  i\u001b[91m\u001b[1m::Any\u001b[22m\u001b[39m\n",
      "Body\u001b[91m\u001b[1m::Any\u001b[22m\u001b[39m\n",
      "\u001b[90m1 ─\u001b[39m %1  = Base.getproperty(d, :x)\u001b[91m\u001b[1m::Any\u001b[22m\u001b[39m\n",
      "\u001b[90m│  \u001b[39m %2  = Base.getproperty(d, :I)\u001b[91m\u001b[1m::Any\u001b[22m\u001b[39m\n",
      "\u001b[90m│  \u001b[39m       (x = %1)\n",
      "\u001b[90m│  \u001b[39m       (I = %2)\n",
      "\u001b[90m│  \u001b[39m %5  = Main.eltype(x)\u001b[91m\u001b[1m::Any\u001b[22m\u001b[39m\n",
      "\u001b[90m│  \u001b[39m       (s = Main.zero(%5))\n",
      "\u001b[90m│  \u001b[39m %7  = (1:I)\u001b[91m\u001b[1m::Any\u001b[22m\u001b[39m\n",
      "\u001b[90m│  \u001b[39m       (@_3 = Base.iterate(%7))\n",
      "\u001b[90m│  \u001b[39m %9  = (@_3 === nothing)\u001b[36m::Bool\u001b[39m\n",
      "\u001b[90m│  \u001b[39m %10 = Base.not_int(%9)\u001b[36m::Bool\u001b[39m\n",
      "\u001b[90m└──\u001b[39m       goto #4 if not %10\n",
      "\u001b[90m2 ┄\u001b[39m %12 = @_3\u001b[91m\u001b[1m::Any\u001b[22m\u001b[39m\n",
      "\u001b[90m│  \u001b[39m       (i = Core.getfield(%12, 1))\n",
      "\u001b[90m│  \u001b[39m %14 = Core.getfield(%12, 2)\u001b[91m\u001b[1m::Any\u001b[22m\u001b[39m\n",
      "\u001b[90m│  \u001b[39m %15 = s\u001b[91m\u001b[1m::Any\u001b[22m\u001b[39m\n",
      "\u001b[90m│  \u001b[39m %16 = Base.getindex(x, i)\u001b[91m\u001b[1m::Any\u001b[22m\u001b[39m\n",
      "\u001b[90m│  \u001b[39m       (s = %15 + %16)\n",
      "\u001b[90m│  \u001b[39m       (@_3 = Base.iterate(%7, %14))\n",
      "\u001b[90m│  \u001b[39m %19 = (@_3 === nothing)\u001b[36m::Bool\u001b[39m\n",
      "\u001b[90m│  \u001b[39m %20 = Base.not_int(%19)\u001b[36m::Bool\u001b[39m\n",
      "\u001b[90m└──\u001b[39m       goto #4 if not %20\n",
      "\u001b[90m3 ─\u001b[39m       goto #2\n",
      "\u001b[90m4 ┄\u001b[39m       return s\n",
      "\n"
     ]
    }
   ],
   "source": [
    "d = data(10, rand(10))\n",
    "@code_warntype sumI3(d)"
   ]
  },
  {
   "cell_type": "code",
   "execution_count": 44,
   "id": "08eee2fe",
   "metadata": {},
   "outputs": [
    {
     "data": {
      "text/plain": [
       "sumI4 (generic function with 1 method)"
      ]
     },
     "execution_count": 44,
     "metadata": {},
     "output_type": "execute_result"
    }
   ],
   "source": [
    "# 参数化类型\n",
    "# Notes. 不要将容易内的元素标注为抽象类型，而是要使用参数化类型将其标注为抽象类型的子类型\n",
    "struct data2{T <: Signed, Y <: AbstractVector{<:AbstractFloat}}\n",
    "    I::T            \n",
    "    x::Y\n",
    "end\n",
    "function sumI4(d::data2)\n",
    "    x, I = d.x, d.I\n",
    "    s = zero(eltype(x))\n",
    "    for i in 1:I\n",
    "        s+=x[i]\n",
    "    end\n",
    "    return s\n",
    "end"
   ]
  },
  {
   "cell_type": "code",
   "execution_count": 45,
   "id": "93e0618f-47a6-4383-8be3-4720b77705cf",
   "metadata": {},
   "outputs": [
    {
     "data": {
      "text/html": [
       "data2(I::<b>T</b>, x::<b>Y</b>)<i> where {T<:Signed, Y<:(AbstractVector{<:AbstractFloat})}</i> in Main at In[44]:4"
      ],
      "text/plain": [
       "data2(\u001b[90mI\u001b[39m::\u001b[1mT\u001b[22m, \u001b[90mx\u001b[39m::\u001b[1mY\u001b[22m) where {T<:Signed, Y<:(AbstractVector{<:AbstractFloat})}\n",
       "\u001b[90m     @\u001b[39m \u001b[90mMain\u001b[39m \u001b[90m\u001b[4mIn[44]:4\u001b[24m\u001b[39m"
      ]
     },
     "execution_count": 45,
     "metadata": {},
     "output_type": "execute_result"
    }
   ],
   "source": [
    "@which data2(10, rand(10))"
   ]
  },
  {
   "cell_type": "code",
   "execution_count": 46,
   "id": "7bf010e4-c9ee-451f-b905-e81edeb12f63",
   "metadata": {},
   "outputs": [
    {
     "name": "stdout",
     "output_type": "stream",
     "text": [
      "data2{Int64, Vector{Float64}}\n",
      "  I: Int64 10\n",
      "  x: Array{Float64}((10,)) [0.8632, 0.9924, 0.8199, 0.4621, 0.1936, 0.7825, 0.7157, 0.8747, 0.7398, 0.6717]\n"
     ]
    }
   ],
   "source": [
    "# 实例化以后生成的I::Int64, x::Vector{Float64}\n",
    "dump(data2(10, rand(10)))"
   ]
  },
  {
   "cell_type": "code",
   "execution_count": 47,
   "id": "3e91f24c",
   "metadata": {
    "scrolled": true
   },
   "outputs": [
    {
     "name": "stdout",
     "output_type": "stream",
     "text": [
      "MethodInstance for sumI4(::data2{Int64, Vector{Float64}})\n",
      "  from sumI4(\u001b[90md\u001b[39m::\u001b[1mdata2\u001b[22m)\u001b[90m @\u001b[39m \u001b[90mMain\u001b[39m \u001b[90m\u001b[4mIn[44]:7\u001b[24m\u001b[39m\n",
      "Arguments\n",
      "  #self#\u001b[36m::Core.Const(sumI4)\u001b[39m\n",
      "  d\u001b[36m::data2{Int64, Vector{Float64}}\u001b[39m\n",
      "Locals\n",
      "  @_3\u001b[33m\u001b[1m::Union{Nothing, Tuple{Int64, Int64}}\u001b[22m\u001b[39m\n",
      "  s\u001b[36m::Float64\u001b[39m\n",
      "  I\u001b[36m::Int64\u001b[39m\n",
      "  x\u001b[36m::Vector{Float64}\u001b[39m\n",
      "  i\u001b[36m::Int64\u001b[39m\n",
      "Body\u001b[36m::Float64\u001b[39m\n",
      "\u001b[90m1 ─\u001b[39m %1  = Base.getproperty(d, :x)\u001b[36m::Vector{Float64}\u001b[39m\n",
      "\u001b[90m│  \u001b[39m %2  = Base.getproperty(d, :I)\u001b[36m::Int64\u001b[39m\n",
      "\u001b[90m│  \u001b[39m       (x = %1)\n",
      "\u001b[90m│  \u001b[39m       (I = %2)\n",
      "\u001b[90m│  \u001b[39m %5  = Main.eltype(x)\u001b[36m::Core.Const(Float64)\u001b[39m\n",
      "\u001b[90m│  \u001b[39m       (s = Main.zero(%5))\n",
      "\u001b[90m│  \u001b[39m %7  = (1:I)\u001b[36m::Core.PartialStruct(UnitRange{Int64}, Any[Core.Const(1), Int64])\u001b[39m\n",
      "\u001b[90m│  \u001b[39m       (@_3 = Base.iterate(%7))\n",
      "\u001b[90m│  \u001b[39m %9  = (@_3 === nothing)\u001b[36m::Bool\u001b[39m\n",
      "\u001b[90m│  \u001b[39m %10 = Base.not_int(%9)\u001b[36m::Bool\u001b[39m\n",
      "\u001b[90m└──\u001b[39m       goto #4 if not %10\n",
      "\u001b[90m2 ┄\u001b[39m %12 = @_3\u001b[36m::Tuple{Int64, Int64}\u001b[39m\n",
      "\u001b[90m│  \u001b[39m       (i = Core.getfield(%12, 1))\n",
      "\u001b[90m│  \u001b[39m %14 = Core.getfield(%12, 2)\u001b[36m::Int64\u001b[39m\n",
      "\u001b[90m│  \u001b[39m %15 = s\u001b[36m::Float64\u001b[39m\n",
      "\u001b[90m│  \u001b[39m %16 = Base.getindex(x, i)\u001b[36m::Float64\u001b[39m\n",
      "\u001b[90m│  \u001b[39m       (s = %15 + %16)\n",
      "\u001b[90m│  \u001b[39m       (@_3 = Base.iterate(%7, %14))\n",
      "\u001b[90m│  \u001b[39m %19 = (@_3 === nothing)\u001b[36m::Bool\u001b[39m\n",
      "\u001b[90m│  \u001b[39m %20 = Base.not_int(%19)\u001b[36m::Bool\u001b[39m\n",
      "\u001b[90m└──\u001b[39m       goto #4 if not %20\n",
      "\u001b[90m3 ─\u001b[39m       goto #2\n",
      "\u001b[90m4 ┄\u001b[39m       return s\n",
      "\n"
     ]
    }
   ],
   "source": [
    "@code_warntype sumI4(data2(10, rand(10)))"
   ]
  }
 ],
 "metadata": {
  "kernelspec": {
   "display_name": "Julia 1.10.0",
   "language": "julia",
   "name": "julia-1.10"
  },
  "language_info": {
   "file_extension": ".jl",
   "mimetype": "application/julia",
   "name": "julia",
   "version": "1.10.0"
  },
  "latex_envs": {
   "LaTeX_envs_menu_present": true,
   "autoclose": false,
   "autocomplete": true,
   "bibliofile": "biblio.bib",
   "cite_by": "apalike",
   "current_citInitial": 1,
   "eqLabelWithNumbers": true,
   "eqNumInitial": 1,
   "hotkeys": {
    "equation": "Ctrl-E",
    "itemize": "Ctrl-I"
   },
   "labels_anchors": false,
   "latex_user_defs": false,
   "report_style_numbering": false,
   "user_envs_cfg": false
  },
  "toc": {
   "base_numbering": 1,
   "nav_menu": {},
   "number_sections": true,
   "sideBar": true,
   "skip_h1_title": false,
   "title_cell": "Table of Contents",
   "title_sidebar": "Contents",
   "toc_cell": false,
   "toc_position": {
    "height": "calc(100% - 180px)",
    "left": "10px",
    "top": "150px",
    "width": "418.125px"
   },
   "toc_section_display": true,
   "toc_window_display": true
  }
 },
 "nbformat": 4,
 "nbformat_minor": 5
}
