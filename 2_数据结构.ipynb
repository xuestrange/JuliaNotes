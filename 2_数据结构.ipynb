{
 "cells": [
  {
   "cell_type": "markdown",
   "id": "b8efcf11-328c-4684-b468-6d063ce40c24",
   "metadata": {},
   "source": [
    "# Pair与字典"
   ]
  },
  {
   "cell_type": "code",
   "execution_count": 4,
   "id": "6795797a-af61-4227-b8ec-1231028cf976",
   "metadata": {},
   "outputs": [
    {
     "data": {
      "text/plain": [
       "Pair{Symbol, Symbol}"
      ]
     },
     "execution_count": 4,
     "metadata": {},
     "output_type": "execute_result"
    }
   ],
   "source": [
    "p = :China => :Asia\n",
    "typeof(p)"
   ]
  },
  {
   "cell_type": "code",
   "execution_count": 5,
   "id": "6a939469-0e40-43cd-a053-a7e312297041",
   "metadata": {},
   "outputs": [
    {
     "data": {
      "text/plain": [
       "Dict{Symbol, Symbol} with 1 entry:\n",
       "  :China => :Asia"
      ]
     },
     "execution_count": 5,
     "metadata": {},
     "output_type": "execute_result"
    }
   ],
   "source": [
    "Dict(p)"
   ]
  },
  {
   "cell_type": "markdown",
   "id": "55fbd863-e6a1-4365-a840-3664d7207e84",
   "metadata": {},
   "source": [
    "# 元组与命名元组"
   ]
  },
  {
   "cell_type": "code",
   "execution_count": 8,
   "id": "53a30e39-32ec-45d9-abf2-9169b42a23d5",
   "metadata": {},
   "outputs": [
    {
     "data": {
      "text/plain": [
       "Tuple{Int64, Int64, Int64}"
      ]
     },
     "execution_count": 8,
     "metadata": {},
     "output_type": "execute_result"
    }
   ],
   "source": [
    "t1, t2 = tuple(1, 2, 3), (1, 2, 4)\n",
    "typeof(t2)"
   ]
  },
  {
   "cell_type": "code",
   "execution_count": 13,
   "id": "502b1de5-ef20-4382-8304-75c5644fa98b",
   "metadata": {},
   "outputs": [
    {
     "data": {
      "text/plain": [
       "@NamedTuple{China::Symbol, US::Symbol}"
      ]
     },
     "execution_count": 13,
     "metadata": {},
     "output_type": "execute_result"
    }
   ],
   "source": [
    "nt = (China = :Asia, US = :NA)\n",
    "typeof(nt)"
   ]
  },
  {
   "cell_type": "markdown",
   "id": "2a598c43",
   "metadata": {},
   "source": [
    "# 多维数组 "
   ]
  },
  {
   "cell_type": "markdown",
   "id": "50b266d9",
   "metadata": {},
   "source": [
    "`Array{T, N} <: DenseArray{T, N} <:AbstractArray{T, N}`\n",
    "\n",
    "`T`为元素类型，`N`为数组的维度\n",
    "\n",
    "创建数组`Array{T, N}(undef, dims)`, 其中`dims`的维度等于N"
   ]
  },
  {
   "cell_type": "code",
   "execution_count": 1,
   "id": "d247b543-13ac-48f9-8b09-d636ed40bede",
   "metadata": {
    "ExecuteTime": {
     "end_time": "2023-12-07T06:16:54.379007700Z",
     "start_time": "2023-12-07T06:16:51.483799500Z"
    }
   },
   "outputs": [
    {
     "data": {
      "text/plain": [
       "2×2×3 Array{Int64, 3}:\n",
       "[:, :, 1] =\n",
       "  1  3\n",
       " -1  4\n",
       "\n",
       "[:, :, 2] =\n",
       "  5  7\n",
       " -1  8\n",
       "\n",
       "[:, :, 3] =\n",
       "  9  11\n",
       " 10  -1"
      ]
     },
     "execution_count": 1,
     "metadata": {},
     "output_type": "execute_result"
    }
   ],
   "source": [
    "Array{Int64, 3}(undef, (2, 2, 3))"
   ]
  },
  {
   "cell_type": "code",
   "execution_count": 1,
   "id": "4863b5c7",
   "metadata": {},
   "outputs": [
    {
     "data": {
      "text/plain": [
       "2×2×3 Array{Int64, 3}:\n",
       "[:, :, 1] =\n",
       " 140718380945648  140718380945648\n",
       " 140718380945648  140718380945648\n",
       "\n",
       "[:, :, 2] =\n",
       " 140718380945648  140718380945648\n",
       " 140718380945648  140718380945648\n",
       "\n",
       "[:, :, 3] =\n",
       " 140718380945648  140718380945648\n",
       " 140718380945648  140718380945648"
      ]
     },
     "execution_count": 1,
     "metadata": {},
     "output_type": "execute_result"
    }
   ],
   "source": [
    "# 通用的数组构造方法\n",
    "Array{Int64, 3}(undef, (2, 2, 3))"
   ]
  },
  {
   "cell_type": "markdown",
   "id": "c20d0aac",
   "metadata": {},
   "source": [
    "两种特殊的数组`Vector`, `Matrix`, 仅仅是`array`的别名`alias`"
   ]
  },
  {
   "cell_type": "code",
   "execution_count": 2,
   "id": "9a0e6826",
   "metadata": {},
   "outputs": [
    {
     "data": {
      "text/plain": [
       "Vector\u001b[90m (alias for \u001b[39m\u001b[90mArray{T, 1} where T\u001b[39m\u001b[90m)\u001b[39m"
      ]
     },
     "execution_count": 2,
     "metadata": {},
     "output_type": "execute_result"
    }
   ],
   "source": [
    "Vector"
   ]
  },
  {
   "cell_type": "code",
   "execution_count": 3,
   "id": "d17f1b34",
   "metadata": {},
   "outputs": [
    {
     "data": {
      "text/plain": [
       "Matrix\u001b[90m (alias for \u001b[39m\u001b[90mArray{T, 2} where T\u001b[39m\u001b[90m)\u001b[39m"
      ]
     },
     "execution_count": 3,
     "metadata": {},
     "output_type": "execute_result"
    }
   ],
   "source": [
    "Matrix"
   ]
  },
  {
   "cell_type": "code",
   "execution_count": 4,
   "id": "e2a94c3f",
   "metadata": {},
   "outputs": [
    {
     "data": {
      "text/plain": [
       "4-element Vector{Float64}:\n",
       " 1.38191521e-315\n",
       " 1.207689203e-314\n",
       " 1.38084012e-315\n",
       " 9.3238788e-316"
      ]
     },
     "execution_count": 4,
     "metadata": {},
     "output_type": "execute_result"
    }
   ],
   "source": [
    "Vector{Float64}(undef, 4)"
   ]
  },
  {
   "cell_type": "code",
   "execution_count": 5,
   "id": "2810106b",
   "metadata": {},
   "outputs": [
    {
     "data": {
      "text/plain": [
       "4×4 Matrix{Float64}:\n",
       " 0.0           1.3612e-315   1.36106e-315  0.0\n",
       " 1.3612e-315   1.36106e-315  0.0           1.3612e-315\n",
       " 1.36106e-315  0.0           1.3612e-315   1.57072e-315\n",
       " 0.0           1.3612e-315   1.38654e-315  0.0"
      ]
     },
     "execution_count": 5,
     "metadata": {},
     "output_type": "execute_result"
    }
   ],
   "source": [
    "Matrix{Float64}(undef, (4, 4))"
   ]
  },
  {
   "cell_type": "code",
   "execution_count": 6,
   "id": "c3a6dc13",
   "metadata": {},
   "outputs": [
    {
     "data": {
      "text/plain": [
       "4-element Vector{Float64}:\n",
       " 1.0\n",
       " 2.0\n",
       " 3.0\n",
       " 4.0"
      ]
     },
     "execution_count": 6,
     "metadata": {},
     "output_type": "execute_result"
    }
   ],
   "source": [
    "[1, 2, 3, 4.0]"
   ]
  },
  {
   "cell_type": "code",
   "execution_count": 7,
   "id": "c8ef25f8",
   "metadata": {},
   "outputs": [
    {
     "data": {
      "text/plain": [
       "4-element Vector{Float64}:\n",
       " 1.0\n",
       " 2.0\n",
       " 3.0\n",
       " 4.0"
      ]
     },
     "execution_count": 7,
     "metadata": {},
     "output_type": "execute_result"
    }
   ],
   "source": [
    "[1; 2; 3; 4.0]"
   ]
  },
  {
   "cell_type": "code",
   "execution_count": 8,
   "id": "5731cdff",
   "metadata": {},
   "outputs": [
    {
     "data": {
      "text/plain": [
       "1×4 Matrix{Int64}:\n",
       " 1  2  3  4"
      ]
     },
     "execution_count": 8,
     "metadata": {},
     "output_type": "execute_result"
    }
   ],
   "source": [
    "# matrix\n",
    "[1 2 3 4]"
   ]
  },
  {
   "cell_type": "code",
   "execution_count": 9,
   "id": "26a59494",
   "metadata": {},
   "outputs": [
    {
     "data": {
      "text/plain": [
       "2×2 Matrix{Int64}:\n",
       " 1  2\n",
       " 3  4"
      ]
     },
     "execution_count": 9,
     "metadata": {},
     "output_type": "execute_result"
    }
   ],
   "source": [
    "[1 2;\n",
    " 3 4]"
   ]
  },
  {
   "cell_type": "markdown",
   "id": "8bce2705",
   "metadata": {},
   "source": [
    "只有列向量时一维数组，行向量是一个二维数组或矩阵\n",
    "\n",
    "+ 创建向量时请使用`,`，他就会自动生成一个列向量\n",
    "+ 创建矩阵时，尽量使用`;`区分不同行，使用`space`区分不同列，`,`不能区分什么，应尽量减少使用"
   ]
  },
  {
   "cell_type": "code",
   "execution_count": 10,
   "id": "1669c4c8",
   "metadata": {},
   "outputs": [
    {
     "data": {
      "text/plain": [
       "2×2 Matrix{Float64}:\n",
       " 1.0  2.0\n",
       " 3.0  4.0"
      ]
     },
     "execution_count": 10,
     "metadata": {},
     "output_type": "execute_result"
    }
   ],
   "source": [
    "Float64[1.0 2;\n",
    "        3 4]"
   ]
  },
  {
   "cell_type": "code",
   "execution_count": 11,
   "id": "057ad26e",
   "metadata": {},
   "outputs": [
    {
     "data": {
      "text/plain": [
       "5-element Vector{Int64}:\n",
       " 1\n",
       " 2\n",
       " 3\n",
       " 4\n",
       " 5"
      ]
     },
     "execution_count": 11,
     "metadata": {},
     "output_type": "execute_result"
    }
   ],
   "source": [
    "Int64[1, 2, 3, 4, 5]"
   ]
  },
  {
   "cell_type": "code",
   "execution_count": 12,
   "id": "d0a2bc2b",
   "metadata": {},
   "outputs": [
    {
     "data": {
      "text/plain": [
       "3×4 Matrix{Float64}:\n",
       " 0.0  0.0  0.0  0.0\n",
       " 0.0  0.0  0.0  0.0\n",
       " 0.0  0.0  0.0  0.0"
      ]
     },
     "execution_count": 12,
     "metadata": {},
     "output_type": "execute_result"
    }
   ],
   "source": [
    "zero_m = zeros(Float64, (3, 4))"
   ]
  },
  {
   "cell_type": "code",
   "execution_count": 13,
   "id": "378564cc",
   "metadata": {},
   "outputs": [
    {
     "data": {
      "text/plain": [
       "1×4 Matrix{Float64}:\n",
       " 1.0  1.0  1.0  1.0"
      ]
     },
     "execution_count": 13,
     "metadata": {},
     "output_type": "execute_result"
    }
   ],
   "source": [
    "one_m = ones(Float64, (1, 4))"
   ]
  },
  {
   "cell_type": "code",
   "execution_count": 14,
   "id": "b1005593",
   "metadata": {},
   "outputs": [
    {
     "data": {
      "text/plain": [
       "4×4 Matrix{Float64}:\n",
       " 0.0  0.0  0.0  0.0\n",
       " 0.0  0.0  0.0  0.0\n",
       " 0.0  0.0  0.0  0.0\n",
       " 1.0  1.0  1.0  1.0"
      ]
     },
     "execution_count": 14,
     "metadata": {},
     "output_type": "execute_result"
    }
   ],
   "source": [
    "zero_one = vcat(zero_m, one_m)"
   ]
  },
  {
   "cell_type": "code",
   "execution_count": 119,
   "id": "ddc83a6e",
   "metadata": {},
   "outputs": [
    {
     "data": {
      "text/plain": [
       "4×4 Matrix{Float64}:\n",
       " 3.14159  0.0      0.0      0.0\n",
       " 0.0      3.14159  0.0      0.0\n",
       " 0.0      0.0      3.14159  0.0\n",
       " 0.0      0.0      0.0      3.14159"
      ]
     },
     "execution_count": 119,
     "metadata": {},
     "output_type": "execute_result"
    }
   ],
   "source": [
    "diag1 = Array{Float64, 2}(UniformScaling(pi), (4, 4))"
   ]
  },
  {
   "cell_type": "code",
   "execution_count": 120,
   "id": "a3b1e4a6",
   "metadata": {},
   "outputs": [
    {
     "data": {
      "text/plain": [
       "4×8 Matrix{Float64}:\n",
       " 0.0  0.0  0.0  0.0  3.14159  0.0      0.0      0.0\n",
       " 0.0  0.0  0.0  0.0  0.0      3.14159  0.0      0.0\n",
       " 0.0  0.0  0.0  0.0  0.0      0.0      3.14159  0.0\n",
       " 1.0  1.0  1.0  1.0  0.0      0.0      0.0      3.14159"
      ]
     },
     "execution_count": 120,
     "metadata": {},
     "output_type": "execute_result"
    }
   ],
   "source": [
    "mat = hcat(zero_one, diag1)"
   ]
  },
  {
   "cell_type": "code",
   "execution_count": 121,
   "id": "2ffeedb6",
   "metadata": {},
   "outputs": [
    {
     "data": {
      "text/plain": [
       "4"
      ]
     },
     "execution_count": 121,
     "metadata": {},
     "output_type": "execute_result"
    }
   ],
   "source": [
    "size(mat, 1)"
   ]
  },
  {
   "cell_type": "code",
   "execution_count": 122,
   "id": "35f011e0",
   "metadata": {},
   "outputs": [
    {
     "data": {
      "text/plain": [
       "(4, 8)"
      ]
     },
     "execution_count": 122,
     "metadata": {},
     "output_type": "execute_result"
    }
   ],
   "source": [
    "size(mat)"
   ]
  },
  {
   "cell_type": "code",
   "execution_count": 123,
   "id": "98113c1f",
   "metadata": {},
   "outputs": [
    {
     "data": {
      "text/plain": [
       "32"
      ]
     },
     "execution_count": 123,
     "metadata": {},
     "output_type": "execute_result"
    }
   ],
   "source": [
    "length(mat)"
   ]
  },
  {
   "cell_type": "code",
   "execution_count": 124,
   "id": "99ef2932",
   "metadata": {},
   "outputs": [
    {
     "data": {
      "text/plain": [
       "Float64"
      ]
     },
     "execution_count": 124,
     "metadata": {},
     "output_type": "execute_result"
    }
   ],
   "source": [
    "eltype(mat)"
   ]
  },
  {
   "cell_type": "code",
   "execution_count": 125,
   "id": "40a5f538",
   "metadata": {},
   "outputs": [
    {
     "data": {
      "text/plain": [
       "2"
      ]
     },
     "execution_count": 125,
     "metadata": {},
     "output_type": "execute_result"
    }
   ],
   "source": [
    "ndims(mat)"
   ]
  },
  {
   "cell_type": "markdown",
   "id": "ef6d1a59",
   "metadata": {},
   "source": [
    "## 范围表达式"
   ]
  },
  {
   "cell_type": "code",
   "execution_count": 126,
   "id": "7079a268",
   "metadata": {},
   "outputs": [
    {
     "data": {
      "text/plain": [
       "5-element Vector{Int64}:\n",
       " 1\n",
       " 3\n",
       " 5\n",
       " 7\n",
       " 9"
      ]
     },
     "execution_count": 126,
     "metadata": {},
     "output_type": "execute_result"
    }
   ],
   "source": [
    "collect(1:2:9)"
   ]
  },
  {
   "cell_type": "code",
   "execution_count": 127,
   "id": "df9ec3f9",
   "metadata": {},
   "outputs": [
    {
     "data": {
      "text/plain": [
       "1:1:9"
      ]
     },
     "execution_count": 127,
     "metadata": {},
     "output_type": "execute_result"
    }
   ],
   "source": [
    "range(1, 9; step = 1)"
   ]
  },
  {
   "cell_type": "code",
   "execution_count": 128,
   "id": "1b537be8",
   "metadata": {},
   "outputs": [
    {
     "name": "stdout",
     "output_type": "stream",
     "text": [
      "2 % 2 == 0\n",
      "4 % 2 == 0\n",
      "6 % 2 == 0\n",
      "8 % 2 == 0\n"
     ]
    }
   ],
   "source": [
    "for i in range(1, 9; step = 1)\n",
    "    if i % 2 == 0\n",
    "        println(\"$i % 2 == 0\")\n",
    "    end\n",
    "end"
   ]
  },
  {
   "cell_type": "markdown",
   "id": "f013f940",
   "metadata": {},
   "source": [
    "## 推导式"
   ]
  },
  {
   "cell_type": "code",
   "execution_count": 129,
   "id": "f6797588",
   "metadata": {},
   "outputs": [
    {
     "data": {
      "text/plain": [
       "3×2 Matrix{Int64}:\n",
       " 3   4\n",
       " 6   8\n",
       " 9  12"
      ]
     },
     "execution_count": 129,
     "metadata": {},
     "output_type": "execute_result"
    }
   ],
   "source": [
    "[i * j for i in 1:3, j = 3:4]"
   ]
  },
  {
   "cell_type": "code",
   "execution_count": 130,
   "id": "9d0408ca",
   "metadata": {},
   "outputs": [
    {
     "data": {
      "text/plain": [
       "3×4 Matrix{Float64}:\n",
       " 1.0  2.0  3.0   4.0\n",
       " 2.0  4.0  6.0   8.0\n",
       " 3.0  6.0  9.0  12.0"
      ]
     },
     "execution_count": 130,
     "metadata": {},
     "output_type": "execute_result"
    }
   ],
   "source": [
    "m1 = Float64[i * j for i in 1:3, j in 1:4]"
   ]
  },
  {
   "cell_type": "markdown",
   "id": "a2c5af88",
   "metadata": {},
   "source": [
    "## 笛卡尔索引（Cartesian Indexing)"
   ]
  },
  {
   "cell_type": "code",
   "execution_count": 131,
   "id": "f5ba0f23",
   "metadata": {},
   "outputs": [
    {
     "data": {
      "text/plain": [
       "2.0"
      ]
     },
     "execution_count": 131,
     "metadata": {},
     "output_type": "execute_result"
    }
   ],
   "source": [
    "m1[1, 2]"
   ]
  },
  {
   "cell_type": "code",
   "execution_count": 132,
   "id": "2ccdfe2a",
   "metadata": {},
   "outputs": [
    {
     "data": {
      "text/plain": [
       "12.0"
      ]
     },
     "execution_count": 132,
     "metadata": {},
     "output_type": "execute_result"
    }
   ],
   "source": [
    "m1[3, end]"
   ]
  },
  {
   "cell_type": "code",
   "execution_count": 133,
   "id": "0bb83ea9",
   "metadata": {},
   "outputs": [
    {
     "data": {
      "text/plain": [
       "2×2 Matrix{Float64}:\n",
       " 4.0  6.0\n",
       " 6.0  9.0"
      ]
     },
     "execution_count": 133,
     "metadata": {},
     "output_type": "execute_result"
    }
   ],
   "source": [
    "m1[2:end, 2:(end - 1)]"
   ]
  },
  {
   "cell_type": "code",
   "execution_count": 134,
   "id": "1bc6a6c0",
   "metadata": {},
   "outputs": [
    {
     "data": {
      "text/plain": [
       "2-element Vector{Float64}:\n",
       " 4.0\n",
       " 6.0"
      ]
     },
     "execution_count": 134,
     "metadata": {},
     "output_type": "execute_result"
    }
   ],
   "source": [
    "# 也是一个向量\n",
    "m1[2, 2:3]"
   ]
  },
  {
   "cell_type": "code",
   "execution_count": 135,
   "id": "7dbd84f2",
   "metadata": {},
   "outputs": [
    {
     "data": {
      "text/plain": [
       "4-element Vector{Float64}:\n",
       " 1.0\n",
       " 2.0\n",
       " 3.0\n",
       " 4.0"
      ]
     },
     "execution_count": 135,
     "metadata": {},
     "output_type": "execute_result"
    }
   ],
   "source": [
    "# 按照行或者按照列取出来都是一个向量\n",
    "m1[1,:]"
   ]
  },
  {
   "cell_type": "code",
   "execution_count": 136,
   "id": "0ee22f25",
   "metadata": {},
   "outputs": [
    {
     "data": {
      "text/plain": [
       "3-element Vector{Float64}:\n",
       " 1.0\n",
       " 2.0\n",
       " 3.0"
      ]
     },
     "execution_count": 136,
     "metadata": {},
     "output_type": "execute_result"
    }
   ],
   "source": [
    "m1[:, 1]"
   ]
  },
  {
   "cell_type": "code",
   "execution_count": 137,
   "id": "83f2114c",
   "metadata": {},
   "outputs": [
    {
     "data": {
      "text/plain": [
       "3×4 Matrix{Float64}:\n",
       " 1.0  2.0  3.0   4.0\n",
       " 2.0  4.0  6.0   8.0\n",
       " 3.0  6.0  9.0  12.0"
      ]
     },
     "execution_count": 137,
     "metadata": {},
     "output_type": "execute_result"
    }
   ],
   "source": [
    "m1"
   ]
  },
  {
   "cell_type": "markdown",
   "id": "ff8b5e8c",
   "metadata": {},
   "source": [
    "## reshape"
   ]
  },
  {
   "cell_type": "code",
   "execution_count": 138,
   "id": "4ed444df",
   "metadata": {},
   "outputs": [
    {
     "data": {
      "text/plain": [
       "12-element Vector{Float64}:\n",
       "  1.0\n",
       "  2.0\n",
       "  3.0\n",
       "  2.0\n",
       "  4.0\n",
       "  6.0\n",
       "  3.0\n",
       "  6.0\n",
       "  9.0\n",
       "  4.0\n",
       "  8.0\n",
       " 12.0"
      ]
     },
     "execution_count": 138,
     "metadata": {},
     "output_type": "execute_result"
    }
   ],
   "source": [
    "vec(m1)"
   ]
  },
  {
   "cell_type": "code",
   "execution_count": 146,
   "id": "00f078a5",
   "metadata": {},
   "outputs": [
    {
     "data": {
      "text/plain": [
       "12-element Vector{Float64}:\n",
       " 1000.0\n",
       "    2.0\n",
       "    3.0\n",
       "    2.0\n",
       "    4.0\n",
       "    6.0\n",
       "    3.0\n",
       "    6.0\n",
       "    9.0\n",
       "    4.0\n",
       "    8.0\n",
       "   12.0"
      ]
     },
     "execution_count": 146,
     "metadata": {},
     "output_type": "execute_result"
    }
   ],
   "source": [
    "m1[:]"
   ]
  },
  {
   "cell_type": "code",
   "execution_count": 147,
   "id": "1b4c3f47",
   "metadata": {},
   "outputs": [
    {
     "data": {
      "text/plain": [
       "12-element Vector{Float64}:\n",
       " 1000.0\n",
       "    2.0\n",
       "    3.0\n",
       "    2.0\n",
       "    4.0\n",
       "    6.0\n",
       "    3.0\n",
       "    6.0\n",
       "    9.0\n",
       "    4.0\n",
       "    8.0\n",
       "   12.0"
      ]
     },
     "execution_count": 147,
     "metadata": {},
     "output_type": "execute_result"
    }
   ],
   "source": [
    "reshape(m1, 12)"
   ]
  },
  {
   "cell_type": "code",
   "execution_count": 148,
   "id": "7b551624",
   "metadata": {},
   "outputs": [
    {
     "data": {
      "text/plain": [
       "12×1 Matrix{Float64}:\n",
       " 1000.0\n",
       "    2.0\n",
       "    3.0\n",
       "    2.0\n",
       "    4.0\n",
       "    6.0\n",
       "    3.0\n",
       "    6.0\n",
       "    9.0\n",
       "    4.0\n",
       "    8.0\n",
       "   12.0"
      ]
     },
     "execution_count": 148,
     "metadata": {},
     "output_type": "execute_result"
    }
   ],
   "source": [
    "reshape(m1, 12, 1)"
   ]
  },
  {
   "cell_type": "code",
   "execution_count": 149,
   "id": "0d6fc4dd",
   "metadata": {},
   "outputs": [
    {
     "data": {
      "text/plain": [
       "3×4 Matrix{Float64}:\n",
       " 1000.0  2.0  3.0   4.0\n",
       "    2.0  4.0  6.0   8.0\n",
       "    3.0  6.0  9.0  12.0"
      ]
     },
     "execution_count": 149,
     "metadata": {},
     "output_type": "execute_result"
    }
   ],
   "source": [
    "m1"
   ]
  },
  {
   "cell_type": "markdown",
   "id": "b6e07737",
   "metadata": {},
   "source": [
    "`reshape`是对原有数组的引用，`reshape`后的数组的修改会反应到原数组中"
   ]
  },
  {
   "cell_type": "code",
   "execution_count": 150,
   "id": "4f6d5e2e",
   "metadata": {},
   "outputs": [
    {
     "data": {
      "text/plain": [
       "12-element Vector{Float64}:\n",
       " 1000.0\n",
       "    2.0\n",
       "    3.0\n",
       "    2.0\n",
       "    4.0\n",
       "    6.0\n",
       "    3.0\n",
       "    6.0\n",
       "    9.0\n",
       "    4.0\n",
       "    8.0\n",
       "   12.0"
      ]
     },
     "execution_count": 150,
     "metadata": {},
     "output_type": "execute_result"
    }
   ],
   "source": [
    "v2 = reshape(m1, 12)"
   ]
  },
  {
   "cell_type": "code",
   "execution_count": 151,
   "id": "29616c81",
   "metadata": {},
   "outputs": [
    {
     "data": {
      "text/plain": [
       "1000"
      ]
     },
     "execution_count": 151,
     "metadata": {},
     "output_type": "execute_result"
    }
   ],
   "source": [
    "v2[1] = 1000"
   ]
  },
  {
   "cell_type": "code",
   "execution_count": 152,
   "id": "1fd9cd13",
   "metadata": {},
   "outputs": [
    {
     "data": {
      "text/plain": [
       "12-element Vector{Float64}:\n",
       " 1000.0\n",
       "    2.0\n",
       "    3.0\n",
       "    2.0\n",
       "    4.0\n",
       "    6.0\n",
       "    3.0\n",
       "    6.0\n",
       "    9.0\n",
       "    4.0\n",
       "    8.0\n",
       "   12.0"
      ]
     },
     "execution_count": 152,
     "metadata": {},
     "output_type": "execute_result"
    }
   ],
   "source": [
    "v2"
   ]
  },
  {
   "cell_type": "code",
   "execution_count": 153,
   "id": "e6d60264",
   "metadata": {},
   "outputs": [
    {
     "data": {
      "text/plain": [
       "3×4 Matrix{Float64}:\n",
       " 1000.0  2.0  3.0   4.0\n",
       "    2.0  4.0  6.0   8.0\n",
       "    3.0  6.0  9.0  12.0"
      ]
     },
     "execution_count": 153,
     "metadata": {},
     "output_type": "execute_result"
    }
   ],
   "source": [
    "m1"
   ]
  },
  {
   "cell_type": "markdown",
   "id": "5d00fa7f",
   "metadata": {},
   "source": [
    "## reduce"
   ]
  },
  {
   "cell_type": "code",
   "execution_count": 154,
   "id": "5b7b8d09",
   "metadata": {},
   "outputs": [
    {
     "data": {
      "text/plain": [
       "3-element Vector{Int64}:\n",
       " 1\n",
       " 4\n",
       " 9"
      ]
     },
     "execution_count": 154,
     "metadata": {},
     "output_type": "execute_result"
    }
   ],
   "source": [
    "map(x -> x^2, 1:3)"
   ]
  },
  {
   "cell_type": "code",
   "execution_count": 155,
   "id": "84477155",
   "metadata": {},
   "outputs": [
    {
     "data": {
      "text/plain": [
       "6"
      ]
     },
     "execution_count": 155,
     "metadata": {},
     "output_type": "execute_result"
    }
   ],
   "source": [
    "reduce(+, 1:3)"
   ]
  },
  {
   "cell_type": "code",
   "execution_count": 156,
   "id": "5a1fef53",
   "metadata": {},
   "outputs": [
    {
     "data": {
      "text/plain": [
       "14"
      ]
     },
     "execution_count": 156,
     "metadata": {},
     "output_type": "execute_result"
    }
   ],
   "source": [
    "# 先map然后再reduce\n",
    "mapreduce(x->x^2, +, 1:3)"
   ]
  },
  {
   "cell_type": "code",
   "execution_count": 157,
   "id": "b4e23c25",
   "metadata": {},
   "outputs": [
    {
     "data": {
      "text/plain": [
       "2×2 Matrix{Float64}:\n",
       " -1.66396  -0.745054\n",
       "  1.30388   1.13061"
      ]
     },
     "execution_count": 157,
     "metadata": {},
     "output_type": "execute_result"
    }
   ],
   "source": [
    "a = randn(2, 2)"
   ]
  },
  {
   "cell_type": "code",
   "execution_count": 158,
   "id": "bef49a3f",
   "metadata": {},
   "outputs": [
    {
     "data": {
      "text/plain": [
       "2×2 Matrix{Float64}:\n",
       " -1.66396   1.30388\n",
       " -0.745054  1.13061"
      ]
     },
     "execution_count": 158,
     "metadata": {},
     "output_type": "execute_result"
    }
   ],
   "source": [
    "permutedims(a, (2, 1))"
   ]
  },
  {
   "cell_type": "markdown",
   "id": "f12fba8c",
   "metadata": {},
   "source": [
    "## 视图"
   ]
  },
  {
   "cell_type": "code",
   "execution_count": 159,
   "id": "38046758",
   "metadata": {},
   "outputs": [
    {
     "data": {
      "text/plain": [
       "1"
      ]
     },
     "execution_count": 159,
     "metadata": {},
     "output_type": "execute_result"
    }
   ],
   "source": [
    "m1[1, 1] = 1"
   ]
  },
  {
   "cell_type": "code",
   "execution_count": 160,
   "id": "ef1fc2cb",
   "metadata": {},
   "outputs": [
    {
     "data": {
      "text/plain": [
       "3×4 Matrix{Float64}:\n",
       " 1.0  2.0  3.0   4.0\n",
       " 2.0  4.0  6.0   8.0\n",
       " 3.0  6.0  9.0  12.0"
      ]
     },
     "execution_count": 160,
     "metadata": {},
     "output_type": "execute_result"
    }
   ],
   "source": [
    "m1"
   ]
  },
  {
   "cell_type": "code",
   "execution_count": 161,
   "id": "1a6226b5",
   "metadata": {},
   "outputs": [
    {
     "data": {
      "text/plain": [
       "4-element Vector{Int64}:\n",
       " 4\n",
       " 3\n",
       " 2\n",
       " 1"
      ]
     },
     "execution_count": 161,
     "metadata": {},
     "output_type": "execute_result"
    }
   ],
   "source": [
    "m1[1, :] = [4, 3, 2, 1]"
   ]
  },
  {
   "cell_type": "code",
   "execution_count": 162,
   "id": "38d71028",
   "metadata": {},
   "outputs": [
    {
     "data": {
      "text/plain": [
       "3×4 Matrix{Float64}:\n",
       " 4.0  3.0  2.0   1.0\n",
       " 2.0  4.0  6.0   8.0\n",
       " 3.0  6.0  9.0  12.0"
      ]
     },
     "execution_count": 162,
     "metadata": {},
     "output_type": "execute_result"
    }
   ],
   "source": [
    "m1"
   ]
  },
  {
   "cell_type": "markdown",
   "id": "18d383cc",
   "metadata": {},
   "source": [
    "视图与正常的索引有什么区别？\n",
    "+ 如果需要直接修改原来的数组好像也没啥区别，貌似view快一点\n",
    "+ 如果是先取出数组的某一块然后赋值给一个新变量，这时view的数组上的修改会直接反应到原来的数组上，但是新变量的修改并不会反映到原来数组上，因为新变量是取出的数组块的复制。\n",
    "\n",
    "> 当涉及到的矩阵比较大时用view,只涉及索引不涉及赋值用view"
   ]
  },
  {
   "cell_type": "code",
   "execution_count": 163,
   "id": "0bf0f247",
   "metadata": {},
   "outputs": [
    {
     "data": {
      "text/plain": [
       "4-element Vector{Float64}:\n",
       " 2.0\n",
       " 4.0\n",
       " 6.0\n",
       " 8.0"
      ]
     },
     "execution_count": 163,
     "metadata": {},
     "output_type": "execute_result"
    }
   ],
   "source": [
    "B = m1[2, :]"
   ]
  },
  {
   "cell_type": "code",
   "execution_count": 164,
   "id": "3a6eef52",
   "metadata": {},
   "outputs": [
    {
     "data": {
      "text/plain": [
       "100"
      ]
     },
     "execution_count": 164,
     "metadata": {},
     "output_type": "execute_result"
    }
   ],
   "source": [
    "B[1] = 100"
   ]
  },
  {
   "cell_type": "code",
   "execution_count": 165,
   "id": "62612d89",
   "metadata": {},
   "outputs": [
    {
     "data": {
      "text/plain": [
       "3×4 Matrix{Float64}:\n",
       " 4.0  3.0  2.0   1.0\n",
       " 2.0  4.0  6.0   8.0\n",
       " 3.0  6.0  9.0  12.0"
      ]
     },
     "execution_count": 165,
     "metadata": {},
     "output_type": "execute_result"
    }
   ],
   "source": [
    "m1"
   ]
  },
  {
   "cell_type": "code",
   "execution_count": 166,
   "id": "b938ae2f",
   "metadata": {},
   "outputs": [
    {
     "data": {
      "text/plain": [
       "4-element Vector{Float64}:\n",
       " 100.0\n",
       "   4.0\n",
       "   6.0\n",
       "   8.0"
      ]
     },
     "execution_count": 166,
     "metadata": {},
     "output_type": "execute_result"
    }
   ],
   "source": [
    "B"
   ]
  },
  {
   "cell_type": "code",
   "execution_count": 167,
   "id": "83cb9df0",
   "metadata": {},
   "outputs": [
    {
     "data": {
      "text/plain": [
       "4-element view(::Matrix{Float64}, 2, :) with eltype Float64:\n",
       " 2.0\n",
       " 4.0\n",
       " 6.0\n",
       " 8.0"
      ]
     },
     "execution_count": 167,
     "metadata": {},
     "output_type": "execute_result"
    }
   ],
   "source": [
    "C = @view m1[2, :]"
   ]
  },
  {
   "cell_type": "code",
   "execution_count": 168,
   "id": "e093b5be",
   "metadata": {},
   "outputs": [
    {
     "data": {
      "text/plain": [
       "100"
      ]
     },
     "execution_count": 168,
     "metadata": {},
     "output_type": "execute_result"
    }
   ],
   "source": [
    "C[1] = 100"
   ]
  },
  {
   "cell_type": "code",
   "execution_count": 169,
   "id": "d028af0a",
   "metadata": {},
   "outputs": [
    {
     "data": {
      "text/plain": [
       "3×4 Matrix{Float64}:\n",
       "   4.0  3.0  2.0   1.0\n",
       " 100.0  4.0  6.0   8.0\n",
       "   3.0  6.0  9.0  12.0"
      ]
     },
     "execution_count": 169,
     "metadata": {},
     "output_type": "execute_result"
    }
   ],
   "source": [
    "m1"
   ]
  },
  {
   "cell_type": "code",
   "execution_count": 170,
   "id": "8d28bdee",
   "metadata": {},
   "outputs": [],
   "source": [
    "rmat = rand(10000, 10000);"
   ]
  },
  {
   "cell_type": "code",
   "execution_count": 171,
   "id": "c59b1cb3",
   "metadata": {},
   "outputs": [],
   "source": [
    "using BenchmarkTools"
   ]
  },
  {
   "cell_type": "code",
   "execution_count": 172,
   "id": "ddc0f0b8",
   "metadata": {},
   "outputs": [
    {
     "data": {
      "text/plain": [
       "BenchmarkTools.Trial: 10000 samples with 993 evaluations.\n",
       " Range \u001b[90m(\u001b[39m\u001b[36m\u001b[1mmin\u001b[22m\u001b[39m … \u001b[35mmax\u001b[39m\u001b[90m):  \u001b[39m\u001b[36m\u001b[1m33.938 ns\u001b[22m\u001b[39m … \u001b[35m 39.996 μs\u001b[39m  \u001b[90m┊\u001b[39m GC \u001b[90m(\u001b[39mmin … max\u001b[90m): \u001b[39m0.00% … 99.81%\n",
       " Time  \u001b[90m(\u001b[39m\u001b[34m\u001b[1mmedian\u001b[22m\u001b[39m\u001b[90m):     \u001b[39m\u001b[34m\u001b[1m53.273 ns               \u001b[22m\u001b[39m\u001b[90m┊\u001b[39m GC \u001b[90m(\u001b[39mmedian\u001b[90m):    \u001b[39m0.00%\n",
       " Time  \u001b[90m(\u001b[39m\u001b[32m\u001b[1mmean\u001b[22m\u001b[39m ± \u001b[32mσ\u001b[39m\u001b[90m):   \u001b[39m\u001b[32m\u001b[1m55.977 ns\u001b[22m\u001b[39m ± \u001b[32m399.541 ns\u001b[39m  \u001b[90m┊\u001b[39m GC \u001b[90m(\u001b[39mmean ± σ\u001b[90m):  \u001b[39m7.13% ±  1.00%\n",
       "\n",
       "  \u001b[39m▅\u001b[39m▂\u001b[39m▅\u001b[39m▅\u001b[39m▂\u001b[39m \u001b[39m▁\u001b[39m \u001b[39m▁\u001b[39m▁\u001b[39m \u001b[39m \u001b[39m \u001b[39m \u001b[39m \u001b[39m \u001b[39m \u001b[39m \u001b[39m \u001b[39m \u001b[39m \u001b[39m \u001b[39m \u001b[39m \u001b[39m \u001b[39m \u001b[39m▄\u001b[39m▆\u001b[39m█\u001b[34m█\u001b[39m\u001b[39m▅\u001b[39m▃\u001b[39m▂\u001b[32m▃\u001b[39m\u001b[39m▄\u001b[39m▄\u001b[39m▄\u001b[39m▄\u001b[39m▃\u001b[39m▂\u001b[39m▂\u001b[39m▂\u001b[39m▂\u001b[39m▂\u001b[39m▁\u001b[39m▁\u001b[39m▁\u001b[39m▁\u001b[39m▁\u001b[39m \u001b[39m \u001b[39m \u001b[39m \u001b[39m \u001b[39m \u001b[39m \u001b[39m \u001b[39m \u001b[39m \u001b[39m \u001b[39m \u001b[39m▂\n",
       "  \u001b[39m█\u001b[39m█\u001b[39m█\u001b[39m█\u001b[39m█\u001b[39m█\u001b[39m█\u001b[39m█\u001b[39m█\u001b[39m█\u001b[39m█\u001b[39m▇\u001b[39m▇\u001b[39m▄\u001b[39m▅\u001b[39m▄\u001b[39m▂\u001b[39m▄\u001b[39m▃\u001b[39m▃\u001b[39m▂\u001b[39m▂\u001b[39m▃\u001b[39m▃\u001b[39m▂\u001b[39m▅\u001b[39m█\u001b[39m█\u001b[39m█\u001b[34m█\u001b[39m\u001b[39m█\u001b[39m█\u001b[39m█\u001b[32m█\u001b[39m\u001b[39m█\u001b[39m█\u001b[39m█\u001b[39m█\u001b[39m█\u001b[39m█\u001b[39m█\u001b[39m█\u001b[39m█\u001b[39m█\u001b[39m█\u001b[39m█\u001b[39m█\u001b[39m█\u001b[39m█\u001b[39m█\u001b[39m█\u001b[39m█\u001b[39m▇\u001b[39m█\u001b[39m█\u001b[39m▇\u001b[39m▇\u001b[39m▇\u001b[39m▇\u001b[39m▆\u001b[39m \u001b[39m█\n",
       "  33.9 ns\u001b[90m       \u001b[39m\u001b[90mHistogram: \u001b[39m\u001b[90m\u001b[1mlog(\u001b[22m\u001b[39m\u001b[90mfrequency\u001b[39m\u001b[90m\u001b[1m)\u001b[22m\u001b[39m\u001b[90m by time\u001b[39m      73.9 ns \u001b[0m\u001b[1m<\u001b[22m\n",
       "\n",
       " Memory estimate\u001b[90m: \u001b[39m\u001b[33m80 bytes\u001b[39m, allocs estimate\u001b[90m: \u001b[39m\u001b[33m1\u001b[39m."
      ]
     },
     "execution_count": 172,
     "metadata": {},
     "output_type": "execute_result"
    }
   ],
   "source": [
    "@benchmark @view rmat[3:5000, 1299:2:3000]"
   ]
  },
  {
   "cell_type": "code",
   "execution_count": 173,
   "id": "75bc0f9a",
   "metadata": {},
   "outputs": [
    {
     "data": {
      "text/plain": [
       "BenchmarkTools.Trial: 513 samples with 1 evaluation.\n",
       " Range \u001b[90m(\u001b[39m\u001b[36m\u001b[1mmin\u001b[22m\u001b[39m … \u001b[35mmax\u001b[39m\u001b[90m):  \u001b[39m\u001b[36m\u001b[1m7.287 ms\u001b[22m\u001b[39m … \u001b[35m38.959 ms\u001b[39m  \u001b[90m┊\u001b[39m GC \u001b[90m(\u001b[39mmin … max\u001b[90m): \u001b[39m 0.00% … 74.06%\n",
       " Time  \u001b[90m(\u001b[39m\u001b[34m\u001b[1mmedian\u001b[22m\u001b[39m\u001b[90m):     \u001b[39m\u001b[34m\u001b[1m7.848 ms              \u001b[22m\u001b[39m\u001b[90m┊\u001b[39m GC \u001b[90m(\u001b[39mmedian\u001b[90m):    \u001b[39m 0.00%\n",
       " Time  \u001b[90m(\u001b[39m\u001b[32m\u001b[1mmean\u001b[22m\u001b[39m ± \u001b[32mσ\u001b[39m\u001b[90m):   \u001b[39m\u001b[32m\u001b[1m9.739 ms\u001b[22m\u001b[39m ± \u001b[32m 5.956 ms\u001b[39m  \u001b[90m┊\u001b[39m GC \u001b[90m(\u001b[39mmean ± σ\u001b[90m):  \u001b[39m16.00% ± 18.44%\n",
       "\n",
       "  \u001b[39m█\u001b[34m▇\u001b[39m\u001b[39m▃\u001b[39m▄\u001b[39m▂\u001b[32m▂\u001b[39m\u001b[39m \u001b[39m \u001b[39m \u001b[39m \u001b[39m \u001b[39m \u001b[39m \u001b[39m \u001b[39m \u001b[39m \u001b[39m \u001b[39m \u001b[39m \u001b[39m \u001b[39m \u001b[39m \u001b[39m \u001b[39m \u001b[39m \u001b[39m \u001b[39m \u001b[39m \u001b[39m \u001b[39m \u001b[39m \u001b[39m \u001b[39m \u001b[39m \u001b[39m \u001b[39m \u001b[39m \u001b[39m \u001b[39m \u001b[39m \u001b[39m \u001b[39m \u001b[39m \u001b[39m \u001b[39m \u001b[39m \u001b[39m \u001b[39m \u001b[39m \u001b[39m \u001b[39m \u001b[39m \u001b[39m \u001b[39m \u001b[39m \u001b[39m \u001b[39m \u001b[39m \u001b[39m \u001b[39m \n",
       "  \u001b[39m█\u001b[34m█\u001b[39m\u001b[39m█\u001b[39m█\u001b[39m█\u001b[32m█\u001b[39m\u001b[39m▇\u001b[39m▁\u001b[39m▅\u001b[39m▄\u001b[39m▁\u001b[39m▁\u001b[39m▁\u001b[39m▁\u001b[39m▁\u001b[39m▁\u001b[39m▁\u001b[39m▁\u001b[39m▁\u001b[39m▁\u001b[39m▁\u001b[39m▁\u001b[39m▁\u001b[39m▁\u001b[39m▄\u001b[39m▁\u001b[39m▁\u001b[39m▁\u001b[39m▁\u001b[39m▁\u001b[39m▁\u001b[39m▁\u001b[39m▄\u001b[39m▁\u001b[39m▁\u001b[39m▁\u001b[39m▁\u001b[39m▁\u001b[39m▁\u001b[39m▄\u001b[39m▇\u001b[39m▇\u001b[39m▅\u001b[39m▁\u001b[39m▄\u001b[39m▄\u001b[39m▄\u001b[39m▄\u001b[39m▁\u001b[39m▁\u001b[39m▁\u001b[39m▄\u001b[39m▄\u001b[39m▁\u001b[39m▄\u001b[39m▁\u001b[39m▅\u001b[39m▇\u001b[39m \u001b[39m▇\n",
       "  7.29 ms\u001b[90m      \u001b[39m\u001b[90mHistogram: \u001b[39m\u001b[90m\u001b[1mlog(\u001b[22m\u001b[39m\u001b[90mfrequency\u001b[39m\u001b[90m\u001b[1m)\u001b[22m\u001b[39m\u001b[90m by time\u001b[39m     35.3 ms \u001b[0m\u001b[1m<\u001b[22m\n",
       "\n",
       " Memory estimate\u001b[90m: \u001b[39m\u001b[33m32.45 MiB\u001b[39m, allocs estimate\u001b[90m: \u001b[39m\u001b[33m2\u001b[39m."
      ]
     },
     "execution_count": 173,
     "metadata": {},
     "output_type": "execute_result"
    }
   ],
   "source": [
    "@benchmark rmat[3:5000, 1299:2:3000]"
   ]
  },
  {
   "cell_type": "markdown",
   "id": "57db7508",
   "metadata": {},
   "source": [
    "## 矢量化计算"
   ]
  },
  {
   "cell_type": "code",
   "execution_count": 174,
   "id": "2c739b6b",
   "metadata": {},
   "outputs": [
    {
     "data": {
      "text/plain": [
       "3-element Vector{Float64}:\n",
       "  1.2\n",
       "  3.5\n",
       " -2.1"
      ]
     },
     "execution_count": 174,
     "metadata": {},
     "output_type": "execute_result"
    }
   ],
   "source": [
    "a = [1.2, 3.5, -2.1]"
   ]
  },
  {
   "cell_type": "code",
   "execution_count": 175,
   "id": "e30d0f61",
   "metadata": {},
   "outputs": [
    {
     "data": {
      "text/plain": [
       "3-element Vector{Float64}:\n",
       "  2.2\n",
       "  4.5\n",
       " -1.1"
      ]
     },
     "execution_count": 175,
     "metadata": {},
     "output_type": "execute_result"
    }
   ],
   "source": [
    "map((x) -> x + 1, a)"
   ]
  },
  {
   "cell_type": "code",
   "execution_count": 176,
   "id": "2ee7da68",
   "metadata": {},
   "outputs": [
    {
     "data": {
      "text/plain": [
       "3-element Vector{Float64}:\n",
       "  2.2\n",
       "  4.5\n",
       " -1.1"
      ]
     },
     "execution_count": 176,
     "metadata": {},
     "output_type": "execute_result"
    }
   ],
   "source": [
    "map(a) do element\n",
    "    element + 1\n",
    "end"
   ]
  },
  {
   "cell_type": "code",
   "execution_count": 177,
   "id": "ca6e70e9",
   "metadata": {},
   "outputs": [
    {
     "data": {
      "text/plain": [
       "3-element Vector{Int64}:\n",
       "    1\n",
       " 1000\n",
       "    0"
      ]
     },
     "execution_count": 177,
     "metadata": {},
     "output_type": "execute_result"
    }
   ],
   "source": [
    "map(a) do element\n",
    "        if element < 0\n",
    "            return 0\n",
    "        elseif element > 0 && element < 3\n",
    "            return Int64(round(element))\n",
    "        else\n",
    "            return 1000\n",
    "        end\n",
    "end\n",
    "        "
   ]
  },
  {
   "cell_type": "code",
   "execution_count": 178,
   "id": "818151c7",
   "metadata": {},
   "outputs": [
    {
     "data": {
      "text/plain": [
       "(0, 1, 2)"
      ]
     },
     "execution_count": 178,
     "metadata": {},
     "output_type": "execute_result"
    }
   ],
   "source": [
    "broadcast(+, (1, 2, 3), -1)"
   ]
  },
  {
   "cell_type": "code",
   "execution_count": 179,
   "id": "d8e76182",
   "metadata": {},
   "outputs": [
    {
     "data": {
      "text/plain": [
       "(2, 3, -5, 5)"
      ]
     },
     "execution_count": 179,
     "metadata": {},
     "output_type": "execute_result"
    }
   ],
   "source": [
    "c = (2, 3, -5, 5)"
   ]
  },
  {
   "cell_type": "code",
   "execution_count": 180,
   "id": "663d5c76",
   "metadata": {},
   "outputs": [
    {
     "data": {
      "text/plain": [
       "(0, 1, -1, -2)"
      ]
     },
     "execution_count": 180,
     "metadata": {},
     "output_type": "execute_result"
    }
   ],
   "source": [
    "b = (0, 1, -1, -2)"
   ]
  },
  {
   "cell_type": "code",
   "execution_count": 181,
   "id": "2569d633",
   "metadata": {},
   "outputs": [
    {
     "data": {
      "text/plain": [
       "(2, 3, -1, 5)"
      ]
     },
     "execution_count": 181,
     "metadata": {},
     "output_type": "execute_result"
    }
   ],
   "source": [
    "max.(c, b)"
   ]
  },
  {
   "cell_type": "code",
   "execution_count": 182,
   "id": "1f63fce2",
   "metadata": {},
   "outputs": [
    {
     "data": {
      "text/plain": [
       "(2, 3, -5, 5)"
      ]
     },
     "execution_count": 182,
     "metadata": {},
     "output_type": "execute_result"
    }
   ],
   "source": [
    "max(c, b)"
   ]
  },
  {
   "cell_type": "code",
   "execution_count": 183,
   "id": "f9b7821d",
   "metadata": {},
   "outputs": [
    {
     "data": {
      "text/plain": [
       "(2, 3, -1, 5)"
      ]
     },
     "execution_count": 183,
     "metadata": {},
     "output_type": "execute_result"
    }
   ],
   "source": [
    "@. max(c, b)"
   ]
  },
  {
   "cell_type": "code",
   "execution_count": 184,
   "id": "e5a07913",
   "metadata": {},
   "outputs": [
    {
     "data": {
      "text/plain": [
       "(2, 3, -1, 5)"
      ]
     },
     "execution_count": 184,
     "metadata": {},
     "output_type": "execute_result"
    }
   ],
   "source": [
    "@__dot__ max(c, b)"
   ]
  },
  {
   "cell_type": "markdown",
   "id": "dc9d5830",
   "metadata": {},
   "source": [
    "## 排序"
   ]
  },
  {
   "cell_type": "code",
   "execution_count": 185,
   "id": "ab2595fb",
   "metadata": {},
   "outputs": [
    {
     "data": {
      "text/plain": [
       "4-element Vector{Int64}:\n",
       " 2\n",
       " 3\n",
       " 1\n",
       " 4"
      ]
     },
     "execution_count": 185,
     "metadata": {},
     "output_type": "execute_result"
    }
   ],
   "source": [
    "a = [2, 3, 1, 4]"
   ]
  },
  {
   "cell_type": "code",
   "execution_count": 186,
   "id": "738f0062",
   "metadata": {},
   "outputs": [
    {
     "data": {
      "text/plain": [
       "4-element Vector{Int64}:\n",
       " 1\n",
       " 2\n",
       " 3\n",
       " 4"
      ]
     },
     "execution_count": 186,
     "metadata": {},
     "output_type": "execute_result"
    }
   ],
   "source": [
    "sort(a)"
   ]
  },
  {
   "cell_type": "code",
   "execution_count": 187,
   "id": "c78f30a9",
   "metadata": {},
   "outputs": [
    {
     "data": {
      "text/plain": [
       "4-element Vector{Int64}:\n",
       " 3\n",
       " 1\n",
       " 2\n",
       " 4"
      ]
     },
     "execution_count": 187,
     "metadata": {},
     "output_type": "execute_result"
    }
   ],
   "source": [
    "sortperm(a) # 获得排序前个元素的下标值"
   ]
  },
  {
   "cell_type": "code",
   "execution_count": 188,
   "id": "f5df93e8",
   "metadata": {},
   "outputs": [
    {
     "data": {
      "text/plain": [
       "3×3 Matrix{Int64}:\n",
       " 1  2  3\n",
       " 4  1  2\n",
       " 0  3  7"
      ]
     },
     "execution_count": 188,
     "metadata": {},
     "output_type": "execute_result"
    }
   ],
   "source": [
    "b = [1  2  3;\n",
    "     4  1  2;\n",
    "     0  3  7]"
   ]
  },
  {
   "cell_type": "code",
   "execution_count": 189,
   "id": "ad02acfe",
   "metadata": {},
   "outputs": [
    {
     "data": {
      "text/plain": [
       "3×3 Matrix{Int64}:\n",
       " 0  1  2\n",
       " 1  2  3\n",
       " 4  3  7"
      ]
     },
     "execution_count": 189,
     "metadata": {},
     "output_type": "execute_result"
    }
   ],
   "source": [
    "sort(b, dims = 1)"
   ]
  },
  {
   "cell_type": "code",
   "execution_count": 190,
   "id": "0cd46065",
   "metadata": {},
   "outputs": [
    {
     "data": {
      "text/plain": [
       "3×3 Matrix{Int64}:\n",
       " 1  2  3\n",
       " 1  2  4\n",
       " 0  3  7"
      ]
     },
     "execution_count": 190,
     "metadata": {},
     "output_type": "execute_result"
    }
   ],
   "source": [
    "sort(b, dims = 2)"
   ]
  },
  {
   "cell_type": "code",
   "execution_count": 191,
   "id": "ab6655a9",
   "metadata": {},
   "outputs": [
    {
     "data": {
      "text/plain": [
       "3×3 Matrix{Int64}:\n",
       " 3  2  1\n",
       " 4  2  1\n",
       " 7  3  0"
      ]
     },
     "execution_count": 191,
     "metadata": {},
     "output_type": "execute_result"
    }
   ],
   "source": [
    "sort(b, dims = 2, rev = true)"
   ]
  },
  {
   "cell_type": "markdown",
   "id": "a6a343ae",
   "metadata": {},
   "source": [
    "## 查找"
   ]
  },
  {
   "cell_type": "code",
   "execution_count": 192,
   "id": "b8204dd6",
   "metadata": {},
   "outputs": [
    {
     "data": {
      "text/plain": [
       "true"
      ]
     },
     "execution_count": 192,
     "metadata": {},
     "output_type": "execute_result"
    }
   ],
   "source": [
    "1 in [1, 2, 3]"
   ]
  },
  {
   "cell_type": "code",
   "execution_count": 193,
   "id": "d95d3e99",
   "metadata": {},
   "outputs": [
    {
     "data": {
      "text/plain": [
       "true"
      ]
     },
     "execution_count": 193,
     "metadata": {},
     "output_type": "execute_result"
    }
   ],
   "source": [
    "in(1, [1, 2, 3])"
   ]
  },
  {
   "cell_type": "code",
   "execution_count": 194,
   "id": "99ca6161",
   "metadata": {},
   "outputs": [
    {
     "data": {
      "text/plain": [
       "(4, 5)"
      ]
     },
     "execution_count": 194,
     "metadata": {},
     "output_type": "execute_result"
    }
   ],
   "source": [
    "findmax([3, -1, 1, 2, 4])"
   ]
  },
  {
   "cell_type": "code",
   "execution_count": 195,
   "id": "aa11d75b",
   "metadata": {},
   "outputs": [
    {
     "data": {
      "text/plain": [
       "3×3 Matrix{Int64}:\n",
       " 1  4  -1\n",
       " 3  2   0\n",
       " 2  5   1"
      ]
     },
     "execution_count": 195,
     "metadata": {},
     "output_type": "execute_result"
    }
   ],
   "source": [
    "a = [1  4  -1;\n",
    "     3  2   0;\n",
    "     2  5   1]"
   ]
  },
  {
   "cell_type": "code",
   "execution_count": 196,
   "id": "7883b8ed",
   "metadata": {},
   "outputs": [
    {
     "data": {
      "text/plain": [
       "CartesianIndex(2, 1)"
      ]
     },
     "execution_count": 196,
     "metadata": {},
     "output_type": "execute_result"
    }
   ],
   "source": [
    "findmax(a, dims =1)[2][1]"
   ]
  },
  {
   "cell_type": "code",
   "execution_count": 197,
   "id": "3475dd56",
   "metadata": {},
   "outputs": [
    {
     "data": {
      "text/plain": [
       "3"
      ]
     },
     "execution_count": 197,
     "metadata": {},
     "output_type": "execute_result"
    }
   ],
   "source": [
    "a[findmax(a, dims =1)[2][1]]"
   ]
  },
  {
   "cell_type": "code",
   "execution_count": 198,
   "id": "d032c7f3",
   "metadata": {},
   "outputs": [
    {
     "data": {
      "text/plain": [
       "1-element Vector{CartesianIndex{2}}:\n",
       " CartesianIndex(2, 3)"
      ]
     },
     "execution_count": 198,
     "metadata": {},
     "output_type": "execute_result"
    }
   ],
   "source": [
    "findall(iszero, a)"
   ]
  },
  {
   "cell_type": "code",
   "execution_count": 199,
   "id": "9cee2a3d",
   "metadata": {},
   "outputs": [
    {
     "data": {
      "text/plain": [
       "2-element Vector{CartesianIndex{2}}:\n",
       " CartesianIndex(1, 1)\n",
       " CartesianIndex(3, 3)"
      ]
     },
     "execution_count": 199,
     "metadata": {},
     "output_type": "execute_result"
    }
   ],
   "source": [
    "findall(isone, a)"
   ]
  },
  {
   "cell_type": "markdown",
   "id": "338a8112",
   "metadata": {},
   "source": [
    "## 矩阵操作"
   ]
  },
  {
   "cell_type": "markdown",
   "id": "bed07775",
   "metadata": {},
   "source": [
    "### 常用矩阵操作"
   ]
  },
  {
   "cell_type": "code",
   "execution_count": 200,
   "id": "82fb8edf",
   "metadata": {},
   "outputs": [],
   "source": [
    "using LinearAlgebra"
   ]
  },
  {
   "cell_type": "code",
   "execution_count": 201,
   "id": "6ae3c91b",
   "metadata": {},
   "outputs": [
    {
     "data": {
      "text/plain": [
       "3×3 Matrix{Float64}:\n",
       " 0.736392  0.485306  0.327639\n",
       " 0.313533  0.195399  0.501836\n",
       " 0.217461  0.328178  0.124285"
      ]
     },
     "execution_count": 201,
     "metadata": {},
     "output_type": "execute_result"
    }
   ],
   "source": [
    "A = rand(3, 3)"
   ]
  },
  {
   "cell_type": "code",
   "execution_count": 202,
   "id": "9f0dd332",
   "metadata": {},
   "outputs": [
    {
     "data": {
      "text/plain": [
       "1.056076821120192"
      ]
     },
     "execution_count": 202,
     "metadata": {},
     "output_type": "execute_result"
    }
   ],
   "source": [
    "tr(A)"
   ]
  },
  {
   "cell_type": "code",
   "execution_count": 203,
   "id": "5f0cc3f1",
   "metadata": {},
   "outputs": [
    {
     "data": {
      "text/plain": [
       "-0.04955353369607077"
      ]
     },
     "execution_count": 203,
     "metadata": {},
     "output_type": "execute_result"
    }
   ],
   "source": [
    "det(A)"
   ]
  },
  {
   "cell_type": "code",
   "execution_count": 204,
   "id": "6cc38381",
   "metadata": {},
   "outputs": [
    {
     "data": {
      "text/plain": [
       "3×3 Matrix{Float64}:\n",
       "  2.83342  -0.952653  -3.62282\n",
       " -1.41588  -0.409138   5.38452\n",
       " -1.21894   2.74718    0.166871"
      ]
     },
     "execution_count": 204,
     "metadata": {},
     "output_type": "execute_result"
    }
   ],
   "source": [
    "inv(A)"
   ]
  },
  {
   "cell_type": "code",
   "execution_count": 205,
   "id": "ea8b6326",
   "metadata": {},
   "outputs": [
    {
     "data": {
      "text/plain": [
       "3×3 adjoint(::Matrix{Float64}) with eltype Float64:\n",
       " 0.736392  0.313533  0.217461\n",
       " 0.485306  0.195399  0.328178\n",
       " 0.327639  0.501836  0.124285"
      ]
     },
     "execution_count": 205,
     "metadata": {},
     "output_type": "execute_result"
    }
   ],
   "source": [
    "A'"
   ]
  },
  {
   "cell_type": "code",
   "execution_count": 206,
   "id": "9135a18d",
   "metadata": {},
   "outputs": [
    {
     "data": {
      "text/plain": [
       "3-element Vector{Float64}:\n",
       " -0.25004078943658975\n",
       "  0.17524712347980237\n",
       "  1.1308704870769786"
      ]
     },
     "execution_count": 206,
     "metadata": {},
     "output_type": "execute_result"
    }
   ],
   "source": [
    "eigvals(A)"
   ]
  },
  {
   "cell_type": "code",
   "execution_count": 207,
   "id": "984805ae",
   "metadata": {},
   "outputs": [
    {
     "data": {
      "text/plain": [
       "3×3 Matrix{Float64}:\n",
       "  0.196809   0.721065  0.829228\n",
       " -0.791066  -0.544363  0.453311\n",
       "  0.579207  -0.428642  0.326939"
      ]
     },
     "execution_count": 207,
     "metadata": {},
     "output_type": "execute_result"
    }
   ],
   "source": [
    "eigvecs(A)"
   ]
  },
  {
   "cell_type": "code",
   "execution_count": 208,
   "id": "f5925e0f",
   "metadata": {},
   "outputs": [
    {
     "data": {
      "text/plain": [
       "3×3 Diagonal{Int64, Vector{Int64}}:\n",
       " 1  ⋅  ⋅\n",
       " ⋅  2  ⋅\n",
       " ⋅  ⋅  3"
      ]
     },
     "execution_count": 208,
     "metadata": {},
     "output_type": "execute_result"
    }
   ],
   "source": [
    "diag_mat = Diagonal([1, 2, 3])"
   ]
  },
  {
   "cell_type": "markdown",
   "id": "917181ea",
   "metadata": {},
   "source": [
    "### 科列斯基矩阵分解"
   ]
  },
  {
   "cell_type": "markdown",
   "id": "3f42c7ad",
   "metadata": {},
   "source": [
    "(1)   \n",
    "\n",
    "给定一个**半正定的对称矩阵 A**, 可以分解成**A = R'R**， R是一个上三角矩阵， 这样做的用处是， 直接对A求逆复杂度很高， 但是对于一个上三角矩阵或下三角矩阵却很简单"
   ]
  },
  {
   "cell_type": "code",
   "execution_count": 209,
   "id": "b27093e2",
   "metadata": {},
   "outputs": [],
   "source": [
    "using LinearAlgebra"
   ]
  },
  {
   "cell_type": "code",
   "execution_count": 210,
   "id": "58adb096",
   "metadata": {},
   "outputs": [
    {
     "data": {
      "text/plain": [
       "3×3 Matrix{Int64}:\n",
       " 1  0  1\n",
       " 0  2  0\n",
       " 1  0  3"
      ]
     },
     "execution_count": 210,
     "metadata": {},
     "output_type": "execute_result"
    }
   ],
   "source": [
    "A = [1 0 1; 0 2 0; 1 0 3]"
   ]
  },
  {
   "cell_type": "code",
   "execution_count": 211,
   "id": "1beb328f",
   "metadata": {},
   "outputs": [
    {
     "data": {
      "text/plain": [
       "3×3 UpperTriangular{Float64, Matrix{Float64}}:\n",
       " 1.0  0.0      1.0\n",
       "  ⋅   1.41421  0.0\n",
       "  ⋅    ⋅       1.41421"
      ]
     },
     "execution_count": 211,
     "metadata": {},
     "output_type": "execute_result"
    }
   ],
   "source": [
    "R = cholesky(A).U"
   ]
  },
  {
   "cell_type": "code",
   "execution_count": 212,
   "id": "4417aa44",
   "metadata": {},
   "outputs": [
    {
     "data": {
      "text/plain": [
       "3×1 Matrix{Int64}:\n",
       " 2\n",
       " 2\n",
       " 4"
      ]
     },
     "execution_count": 212,
     "metadata": {},
     "output_type": "execute_result"
    }
   ],
   "source": [
    "b = sum(A; dims = 2)"
   ]
  },
  {
   "cell_type": "code",
   "execution_count": 213,
   "id": "d41f78dc",
   "metadata": {},
   "outputs": [
    {
     "data": {
      "text/plain": [
       "3×1 Matrix{Float64}:\n",
       " 1.0000000000000002\n",
       " 0.9999999999999998\n",
       " 0.9999999999999998"
      ]
     },
     "execution_count": 213,
     "metadata": {},
     "output_type": "execute_result"
    }
   ],
   "source": [
    "# Ax = b, x = inv(A) b = inv(R) inv(R') b\n",
    "inv(R) * inv(R') * b"
   ]
  },
  {
   "cell_type": "code",
   "execution_count": 214,
   "id": "f680553d",
   "metadata": {},
   "outputs": [
    {
     "data": {
      "text/plain": [
       "\u001b[32m\u001b[1mTest Passed\u001b[22m\u001b[39m"
      ]
     },
     "execution_count": 214,
     "metadata": {},
     "output_type": "execute_result"
    }
   ],
   "source": [
    "using Test\n",
    "@test isapprox(inv(R) * inv(R') * b, inv(A) * b)"
   ]
  },
  {
   "cell_type": "markdown",
   "id": "7461f086",
   "metadata": {},
   "source": [
    "(2)\n",
    "\n",
    "此外， 他也近似于对一个矩阵开根号， 例如协方差对角矩阵开根号则对角线元素为标准差"
   ]
  },
  {
   "cell_type": "code",
   "execution_count": 215,
   "id": "842d16c1",
   "metadata": {},
   "outputs": [
    {
     "data": {
      "text/plain": [
       "3×3 Matrix{Int64}:\n",
       " 1  0  0\n",
       " 0  4  0\n",
       " 0  0  9"
      ]
     },
     "execution_count": 215,
     "metadata": {},
     "output_type": "execute_result"
    }
   ],
   "source": [
    "A = diagm([1, 4, 9])"
   ]
  },
  {
   "cell_type": "code",
   "execution_count": 216,
   "id": "5315b49b",
   "metadata": {},
   "outputs": [
    {
     "data": {
      "text/plain": [
       "3×3 UpperTriangular{Float64, Matrix{Float64}}:\n",
       " 1.0  0.0  0.0\n",
       "  ⋅   2.0  0.0\n",
       "  ⋅    ⋅   3.0"
      ]
     },
     "execution_count": 216,
     "metadata": {},
     "output_type": "execute_result"
    }
   ],
   "source": [
    "cholesky(A).U"
   ]
  },
  {
   "cell_type": "markdown",
   "id": "d38f4aad-4d46-436c-8ea0-f0c2fec31df9",
   "metadata": {},
   "source": [
    "# 数据结构的保存"
   ]
  },
  {
   "cell_type": "markdown",
   "id": "8fc61315-8453-4468-97ef-a1172cb6cc2d",
   "metadata": {},
   "source": [
    "可以使用`JLD2.jl`来写入和读取文件。   \n",
    "*注意* \n",
    "+ Julia自带的数据类型，例如`Vector{Matrix}`这种支持的很好，但是像是Optim优化得到的对象，也支持，不过注意在`JLD2.@load`之前要导入该数据类型需要的包，例如`Optim, ForwardDiff, LineSearches`。\n",
    "+ Julia没法像R、Matlab一样保存整个工作空间，但是我们可以首选选择多个变量保存到一个文件中去"
   ]
  },
  {
   "cell_type": "code",
   "execution_count": 1,
   "id": "0c563890-2ab0-40c6-8334-7e613c81ddd5",
   "metadata": {},
   "outputs": [
    {
     "data": {
      "text/plain": [
       "4-element Vector{Symbol}:\n",
       " :x\n",
       " :y\n",
       " :z\n",
       " :d"
      ]
     },
     "execution_count": 1,
     "metadata": {},
     "output_type": "execute_result"
    }
   ],
   "source": [
    "using JLD2 \n",
    "x = [[1, 2], [1, 2]]\n",
    "y = randn(10, 10)\n",
    "z = \"hello\"\n",
    "d = [rand(10), rand(3, 3)]\n",
    "\n",
    "JLD2.@save \"./Data/test.jld2\" x y z d\n",
    "JLD2.@load \"./Data/test.jld2\" x y z d"
   ]
  },
  {
   "cell_type": "markdown",
   "id": "b80d9886-9295-401d-8c73-5356a42a87ab",
   "metadata": {},
   "source": [
    "# 浅拷贝与深拷贝"
   ]
  },
  {
   "cell_type": "markdown",
   "id": "db03d8f0-28b2-408b-914e-26a4233083fd",
   "metadata": {},
   "source": [
    "reference:\n",
    "+ https://discourse.julialang.org/t/what-is-the-difference-between-copy-and-deepcopy/3918/3?u=strange_xue"
   ]
  },
  {
   "cell_type": "markdown",
   "id": "481b1e1f-fe1c-4470-92a7-959f74fd30d1",
   "metadata": {},
   "source": [
    "## `b = a`"
   ]
  },
  {
   "cell_type": "markdown",
   "id": "879a1f68-c7ab-4bcf-b9d0-1a4885b7e359",
   "metadata": {},
   "source": [
    "shallow copy and deep copy"
   ]
  },
  {
   "cell_type": "markdown",
   "id": "5b2c3ce5-bf9f-40e4-9c97-c21951e70b50",
   "metadata": {},
   "source": [
    "immutable的数据copy-by-value， `b = a`会复制`a`所指向的value"
   ]
  },
  {
   "cell_type": "code",
   "execution_count": 15,
   "id": "823a687d-9606-47e5-8dd3-ab596ac05ad2",
   "metadata": {},
   "outputs": [
    {
     "data": {
      "text/plain": [
       "100"
      ]
     },
     "execution_count": 15,
     "metadata": {},
     "output_type": "execute_result"
    }
   ],
   "source": [
    "a = 100\n",
    "b = a\n",
    "a = 1\n",
    "b"
   ]
  },
  {
   "cell_type": "markdown",
   "id": "eae894e1-1bd6-4e58-b6c3-c1a8a4efb8f3",
   "metadata": {},
   "source": [
    "mutable数据copy-by-reference, `b = a`实际上是两个地址指向同一块数据"
   ]
  },
  {
   "cell_type": "code",
   "execution_count": 37,
   "id": "efb66461-f709-4bba-a2d6-4199f155ef16",
   "metadata": {},
   "outputs": [
    {
     "data": {
      "text/plain": [
       "5-element SVector{5, Int64} with indices SOneTo(5):\n",
       " 1\n",
       " 2\n",
       " 3\n",
       " 4\n",
       " 5"
      ]
     },
     "execution_count": 37,
     "metadata": {},
     "output_type": "execute_result"
    }
   ],
   "source": [
    "using StaticArrays\n",
    "a = SVector(1, 2, 3, 4, 5)\n",
    "b = a\n",
    "a = SVector(1, 2)\n",
    "b"
   ]
  },
  {
   "cell_type": "markdown",
   "id": "a4ee127d-c973-49a4-8a14-aac9b08546dd",
   "metadata": {},
   "source": [
    "## `b = copy(a)`"
   ]
  },
  {
   "cell_type": "markdown",
   "id": "fd76c6d9-055d-4fab-a505-19ef7cbd6c28",
   "metadata": {},
   "source": [
    "`b = copy(a)`为浅拷贝(shallow copy)： 首先创建一个与a及a的元素相同的容器b， 然后遍历a与b的每一个位置，如果a中的元素为immutable那就copy-by-value， mutable就copy-by-reference"
   ]
  },
  {
   "cell_type": "code",
   "execution_count": 54,
   "id": "7f7246d7-b519-4843-a122-eebad12bfbe1",
   "metadata": {},
   "outputs": [
    {
     "data": {
      "text/plain": [
       "3-element Vector{Any}:\n",
       "  [10000, 1, 2]\n",
       " 1\n",
       " 2"
      ]
     },
     "execution_count": 54,
     "metadata": {},
     "output_type": "execute_result"
    }
   ],
   "source": [
    "a = [[1, 1, 2], 1, 2]\n",
    "b = copy(a)\n",
    "a[1][1] = 10000\n",
    "a[2] = 10000\n",
    "b"
   ]
  },
  {
   "cell_type": "markdown",
   "id": "62da452e-fda7-4b7f-baf4-c95d43634af8",
   "metadata": {},
   "source": [
    "### `b = deepcopy(a)`"
   ]
  },
  {
   "cell_type": "markdown",
   "id": "5ecc8f13-d3b9-4cec-9c00-b0f821e86ed7",
   "metadata": {},
   "source": [
    "深拷贝， a与b相互独立"
   ]
  },
  {
   "cell_type": "code",
   "execution_count": 67,
   "id": "30dc49c4-50c0-4332-96fc-25c60de67a0f",
   "metadata": {},
   "outputs": [
    {
     "data": {
      "text/plain": [
       "3-element Vector{Any}:\n",
       "  [1, 1, 2]\n",
       " 1\n",
       " 2"
      ]
     },
     "execution_count": 67,
     "metadata": {},
     "output_type": "execute_result"
    }
   ],
   "source": [
    "a = [[1, 1, 2], 1, 2]\n",
    "b = deepcopy(a)\n",
    "a[1][1] = 10000\n",
    "a[2] = 10000\n",
    "b"
   ]
  },
  {
   "cell_type": "markdown",
   "id": "4288ea56-fb8d-4e74-b437-9e068c9a52b0",
   "metadata": {},
   "source": [
    "# Memory Stack and Heap"
   ]
  },
  {
   "cell_type": "markdown",
   "id": "b8f968f1-a680-4717-9f14-f776a4e2fb6f",
   "metadata": {},
   "source": [
    "https://discourse.julialang.org/t/a-nice-explanation-of-memory-stack-vs-heap/53915?u=strange_xue"
   ]
  },
  {
   "cell_type": "markdown",
   "id": "c47e7a2f-ab8a-48b4-b634-56d5582ed16a",
   "metadata": {},
   "source": [
    "Julia `@btime`输出的allocation表示在heap上占用的空间（不包含在stack上占用的）"
   ]
  },
  {
   "cell_type": "markdown",
   "id": "d5efa66c-abfe-4b91-89e2-0fbc927fdc39",
   "metadata": {},
   "source": [
    "为什么存在heap上慢： 向操作系统申请内存， 寻找到一块大小合适的区域， 存下， 记录下这个位置被占了方便后来的内存申请"
   ]
  },
  {
   "cell_type": "markdown",
   "id": "8eb3a453-bbea-4802-992a-859df769fe6a",
   "metadata": {},
   "source": [
    "StaticArrays单独使用时存在Stack上"
   ]
  },
  {
   "cell_type": "code",
   "execution_count": 30,
   "id": "6b17d2f8-3253-4a02-a8b8-264744affb9c",
   "metadata": {},
   "outputs": [
    {
     "name": "stdout",
     "output_type": "stream",
     "text": [
      "  28.414 ns (1 allocation: 96 bytes)\n"
     ]
    },
    {
     "data": {
      "text/plain": [
       "1-element Vector{SVector{4, Int64}}:\n",
       " [1, 2, 3, 4]"
      ]
     },
     "execution_count": 30,
     "metadata": {},
     "output_type": "execute_result"
    }
   ],
   "source": [
    "using BenchmarkTools\n",
    "using StaticArrays\n",
    "\n",
    "function m1()\n",
    "    a = SVector(1:4...)\n",
    "    b = [a] # copy by value\n",
    "    a = SVector(1:5...)\n",
    "    return b\n",
    "end\n",
    "@btime m1() # 0 allocations"
   ]
  },
  {
   "cell_type": "code",
   "execution_count": 72,
   "id": "c2445bb7-fc2f-420b-8d38-7234b09388a3",
   "metadata": {},
   "outputs": [
    {
     "name": "stdout",
     "output_type": "stream",
     "text": [
      "  100.532 ns (4 allocations: 224 bytes)\n"
     ]
    },
    {
     "data": {
      "text/plain": [
       "(Any[[100, 200000, 3, 4], 1], [100, 200000, 3, 4])"
      ]
     },
     "execution_count": 72,
     "metadata": {},
     "output_type": "execute_result"
    }
   ],
   "source": [
    "function m2()\n",
    "    a = [1, 2, 3, 4]\n",
    "    b = [a, 1] # copy by reference\n",
    "    a[1] = 100\n",
    "    b[1][2] = 200000 # a also changed\n",
    "    return b, a\n",
    "end\n",
    "@btime m2()  "
   ]
  },
  {
   "cell_type": "code",
   "execution_count": 74,
   "id": "58a72cf3-a7d7-4235-82e5-37ea8eb1a3ff",
   "metadata": {},
   "outputs": [
    {
     "name": "stdout",
     "output_type": "stream",
     "text": [
      "  1.200 ns (0 allocations: 0 bytes)\n"
     ]
    },
    {
     "data": {
      "text/plain": [
       "(Mem{Float64}(1.0000, 1.0000), Mem{Int64}(1, 1))"
      ]
     },
     "execution_count": 74,
     "metadata": {},
     "output_type": "execute_result"
    }
   ],
   "source": [
    "struct Mem{T <: Real}\n",
    "    x::T\n",
    "    y::T\n",
    "end\n",
    "function m3()\n",
    "    a = Mem(1.0, 1.0)\n",
    "    b = Mem(1, 1)\n",
    "    return a, b\n",
    "end\n",
    "@btime m3() # 0 allocations, a, b is stored in stack"
   ]
  },
  {
   "cell_type": "code",
   "execution_count": 76,
   "id": "cc617505-2e9d-472f-a26c-95bf3ba4851c",
   "metadata": {},
   "outputs": [
    {
     "name": "stdout",
     "output_type": "stream",
     "text": [
      "  25.427 ns (1 allocation: 64 bytes)\n"
     ]
    },
    {
     "data": {
      "text/plain": [
       "(Mem[Mem{Int64}(1000, 1), Mem{Int64}(1, 1)], Mem{Float64}(1.0000, 1.0000))"
      ]
     },
     "execution_count": 76,
     "metadata": {},
     "output_type": "execute_result"
    }
   ],
   "source": [
    "function m4()\n",
    "    a = Mem(1.0, 1.0)\n",
    "    b = Mem(1, 1)\n",
    "    c = [a, b] # copy by value, as a and b are immutable objects\n",
    "    c[1] = Mem(1000, 1) # a holds same\n",
    "    return c, a\n",
    "end\n",
    "@btime m4()"
   ]
  },
  {
   "cell_type": "markdown",
   "id": "8079cc29-d5dd-4739-9132-9876b1f5448b",
   "metadata": {},
   "source": [
    "⏰现在来理解一下`Array{struct}`，即在一个数组（mutable struct）中，每一个元素是不可变对象（immutable struct）从拷贝的角度来讲， 该数组将会在heap上创建，同时每一个元素都是stack上不可变元素的copy（或者说压根就没有拷贝，而是直接创建在了heap上）"
   ]
  }
 ],
 "metadata": {
  "kernelspec": {
   "display_name": "Julia 1.10.2",
   "language": "julia",
   "name": "julia-1.10"
  },
  "language_info": {
   "file_extension": ".jl",
   "mimetype": "application/julia",
   "name": "julia",
   "version": "1.10.2"
  },
  "latex_envs": {
   "LaTeX_envs_menu_present": true,
   "autoclose": false,
   "autocomplete": true,
   "bibliofile": "biblio.bib",
   "cite_by": "apalike",
   "current_citInitial": 1,
   "eqLabelWithNumbers": true,
   "eqNumInitial": 1,
   "hotkeys": {
    "equation": "Ctrl-E",
    "itemize": "Ctrl-I"
   },
   "labels_anchors": false,
   "latex_user_defs": false,
   "report_style_numbering": false,
   "user_envs_cfg": false
  },
  "toc": {
   "base_numbering": 1,
   "nav_menu": {},
   "number_sections": true,
   "sideBar": true,
   "skip_h1_title": false,
   "title_cell": "Table of Contents",
   "title_sidebar": "Contents",
   "toc_cell": false,
   "toc_position": {
    "height": "calc(100% - 180px)",
    "left": "10px",
    "top": "150px",
    "width": "252px"
   },
   "toc_section_display": true,
   "toc_window_display": true
  }
 },
 "nbformat": 4,
 "nbformat_minor": 5
}
